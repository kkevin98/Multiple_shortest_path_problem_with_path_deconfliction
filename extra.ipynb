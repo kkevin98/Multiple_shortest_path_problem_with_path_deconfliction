{
 "cells": [
  {
   "cell_type": "code",
   "execution_count": 1,
   "metadata": {},
   "outputs": [],
   "source": [
    "import numpy as np\n",
    "import pandas as pd\n",
    "import matplotlib.pyplot as plt\n",
    "import random\n",
    "import math\n",
    "\n",
    "from gurobipy import GRB\n",
    "from itertools import chain\n",
    "from matplotlib import cm\n",
    "from utils import data_reader as dr\n",
    "from utils import problem_model as pm\n"
   ]
  },
  {
   "attachments": {},
   "cell_type": "markdown",
   "metadata": {},
   "source": [
    "# Extra\n",
    "\n",
    "In this part we try to add some further considerations about the models studied so far"
   ]
  },
  {
   "attachments": {},
   "cell_type": "markdown",
   "metadata": {},
   "source": [
    "## About agents' symmetry\n",
    "\n",
    "In section 3.4 the authors of the paper said:\n",
    ">    _\"Of note, the increased convergence time may be a result of not only the increase in problem size,\n",
    ">    but added symmetry within the problem between the homogeneous agents with identical source and termini nodes.\"_\n",
    "\n",
    "In this part we investigate if lowering the symettry between agents' source and termini will speed-up the problem solutions for different levels of network congestion.  \n",
    "Three different levels of agent simmetries will be considered:\n",
    "\n",
    "- _high_: on which all agents have the same sources and termini\n",
    "\n",
    "- _medium_: on which agents have sources and termini defined as in section 3.3 of the paper\n",
    "\n",
    "- _low_: on which agents have random sources and random termini (but always located in the first and last columns respectively)\n",
    "\n",
    "\n",
    "For simplicity we'll consider only the MSPP-PD-ABP problem\n"
   ]
  },
  {
   "attachments": {},
   "cell_type": "markdown",
   "metadata": {},
   "source": [
    "We run our tests on the same instances that led the authors to the conclusion above\n"
   ]
  },
  {
   "cell_type": "code",
   "execution_count": 2,
   "metadata": {},
   "outputs": [
    {
     "data": {
      "text/html": [
       "<div>\n",
       "<style scoped>\n",
       "    .dataframe tbody tr th:only-of-type {\n",
       "        vertical-align: middle;\n",
       "    }\n",
       "\n",
       "    .dataframe tbody tr th {\n",
       "        vertical-align: top;\n",
       "    }\n",
       "\n",
       "    .dataframe thead tr th {\n",
       "        text-align: left;\n",
       "    }\n",
       "</style>\n",
       "<table border=\"1\" class=\"dataframe\">\n",
       "  <thead>\n",
       "    <tr>\n",
       "      <th></th>\n",
       "      <th colspan=\"2\" halign=\"left\">0</th>\n",
       "      <th colspan=\"3\" halign=\"left\">1</th>\n",
       "      <th colspan=\"3\" halign=\"left\">2</th>\n",
       "      <th colspan=\"2\" halign=\"left\">3</th>\n",
       "      <th>...</th>\n",
       "      <th colspan=\"2\" halign=\"left\">26</th>\n",
       "      <th colspan=\"3\" halign=\"left\">27</th>\n",
       "      <th colspan=\"3\" halign=\"left\">28</th>\n",
       "      <th colspan=\"2\" halign=\"left\">29</th>\n",
       "    </tr>\n",
       "    <tr>\n",
       "      <th></th>\n",
       "      <th>6</th>\n",
       "      <th>7</th>\n",
       "      <th>6</th>\n",
       "      <th>7</th>\n",
       "      <th>8</th>\n",
       "      <th>7</th>\n",
       "      <th>8</th>\n",
       "      <th>9</th>\n",
       "      <th>8</th>\n",
       "      <th>9</th>\n",
       "      <th>...</th>\n",
       "      <th>32</th>\n",
       "      <th>33</th>\n",
       "      <th>32</th>\n",
       "      <th>33</th>\n",
       "      <th>34</th>\n",
       "      <th>33</th>\n",
       "      <th>34</th>\n",
       "      <th>35</th>\n",
       "      <th>34</th>\n",
       "      <th>35</th>\n",
       "    </tr>\n",
       "  </thead>\n",
       "  <tbody>\n",
       "    <tr>\n",
       "      <th>it1</th>\n",
       "      <td>1.612014</td>\n",
       "      <td>1.454776</td>\n",
       "      <td>0.376347</td>\n",
       "      <td>1.263488</td>\n",
       "      <td>1.675461</td>\n",
       "      <td>0.383242</td>\n",
       "      <td>1.325470</td>\n",
       "      <td>1.502733</td>\n",
       "      <td>0.959483</td>\n",
       "      <td>1.690435</td>\n",
       "      <td>...</td>\n",
       "      <td>0.199034</td>\n",
       "      <td>1.911133</td>\n",
       "      <td>1.343548</td>\n",
       "      <td>0.238743</td>\n",
       "      <td>1.667782</td>\n",
       "      <td>1.273160</td>\n",
       "      <td>0.289610</td>\n",
       "      <td>1.523664</td>\n",
       "      <td>1.968861</td>\n",
       "      <td>1.483620</td>\n",
       "    </tr>\n",
       "    <tr>\n",
       "      <th>it2</th>\n",
       "      <td>0.345666</td>\n",
       "      <td>1.997958</td>\n",
       "      <td>1.022579</td>\n",
       "      <td>1.344409</td>\n",
       "      <td>0.335500</td>\n",
       "      <td>0.768256</td>\n",
       "      <td>0.724642</td>\n",
       "      <td>1.146472</td>\n",
       "      <td>0.726154</td>\n",
       "      <td>0.654525</td>\n",
       "      <td>...</td>\n",
       "      <td>0.126858</td>\n",
       "      <td>0.794601</td>\n",
       "      <td>1.432874</td>\n",
       "      <td>0.123810</td>\n",
       "      <td>1.866517</td>\n",
       "      <td>1.411055</td>\n",
       "      <td>1.125656</td>\n",
       "      <td>1.531357</td>\n",
       "      <td>0.725753</td>\n",
       "      <td>0.617501</td>\n",
       "    </tr>\n",
       "    <tr>\n",
       "      <th>it3</th>\n",
       "      <td>1.059043</td>\n",
       "      <td>1.866680</td>\n",
       "      <td>1.672658</td>\n",
       "      <td>0.410748</td>\n",
       "      <td>1.204280</td>\n",
       "      <td>1.351971</td>\n",
       "      <td>1.502285</td>\n",
       "      <td>0.093011</td>\n",
       "      <td>0.149816</td>\n",
       "      <td>0.665625</td>\n",
       "      <td>...</td>\n",
       "      <td>1.773551</td>\n",
       "      <td>0.360475</td>\n",
       "      <td>0.016188</td>\n",
       "      <td>1.866432</td>\n",
       "      <td>1.783597</td>\n",
       "      <td>1.205805</td>\n",
       "      <td>0.093973</td>\n",
       "      <td>1.818958</td>\n",
       "      <td>1.471756</td>\n",
       "      <td>1.272506</td>\n",
       "    </tr>\n",
       "    <tr>\n",
       "      <th>it4</th>\n",
       "      <td>0.297746</td>\n",
       "      <td>1.873162</td>\n",
       "      <td>1.144040</td>\n",
       "      <td>1.749892</td>\n",
       "      <td>0.975469</td>\n",
       "      <td>0.168817</td>\n",
       "      <td>0.553882</td>\n",
       "      <td>1.758605</td>\n",
       "      <td>1.824679</td>\n",
       "      <td>0.606143</td>\n",
       "      <td>...</td>\n",
       "      <td>1.398726</td>\n",
       "      <td>1.794652</td>\n",
       "      <td>0.178435</td>\n",
       "      <td>0.930916</td>\n",
       "      <td>0.497418</td>\n",
       "      <td>1.837166</td>\n",
       "      <td>1.315127</td>\n",
       "      <td>0.259269</td>\n",
       "      <td>1.973621</td>\n",
       "      <td>1.269510</td>\n",
       "    </tr>\n",
       "    <tr>\n",
       "      <th>it5</th>\n",
       "      <td>1.296527</td>\n",
       "      <td>1.255480</td>\n",
       "      <td>1.777435</td>\n",
       "      <td>1.812928</td>\n",
       "      <td>1.990680</td>\n",
       "      <td>0.990032</td>\n",
       "      <td>0.467010</td>\n",
       "      <td>0.629513</td>\n",
       "      <td>0.962954</td>\n",
       "      <td>0.695574</td>\n",
       "      <td>...</td>\n",
       "      <td>0.499949</td>\n",
       "      <td>0.563903</td>\n",
       "      <td>0.976726</td>\n",
       "      <td>1.407947</td>\n",
       "      <td>0.320083</td>\n",
       "      <td>0.168943</td>\n",
       "      <td>0.432240</td>\n",
       "      <td>0.193984</td>\n",
       "      <td>1.377742</td>\n",
       "      <td>0.847393</td>\n",
       "    </tr>\n",
       "  </tbody>\n",
       "</table>\n",
       "<p>5 rows × 80 columns</p>\n",
       "</div>"
      ],
      "text/plain": [
       "           0                   1                             2             \\\n",
       "           6         7         6         7         8         7         8    \n",
       "it1  1.612014  1.454776  0.376347  1.263488  1.675461  0.383242  1.325470   \n",
       "it2  0.345666  1.997958  1.022579  1.344409  0.335500  0.768256  0.724642   \n",
       "it3  1.059043  1.866680  1.672658  0.410748  1.204280  1.351971  1.502285   \n",
       "it4  0.297746  1.873162  1.144040  1.749892  0.975469  0.168817  0.553882   \n",
       "it5  1.296527  1.255480  1.777435  1.812928  1.990680  0.990032  0.467010   \n",
       "\n",
       "                     3             ...        26                  27  \\\n",
       "           9         8         9   ...        32        33        32   \n",
       "it1  1.502733  0.959483  1.690435  ...  0.199034  1.911133  1.343548   \n",
       "it2  1.146472  0.726154  0.654525  ...  0.126858  0.794601  1.432874   \n",
       "it3  0.093011  0.149816  0.665625  ...  1.773551  0.360475  0.016188   \n",
       "it4  1.758605  1.824679  0.606143  ...  1.398726  1.794652  0.178435   \n",
       "it5  0.629513  0.962954  0.695574  ...  0.499949  0.563903  0.976726   \n",
       "\n",
       "                               28                            29            \n",
       "           33        34        33        34        35        34        35  \n",
       "it1  0.238743  1.667782  1.273160  0.289610  1.523664  1.968861  1.483620  \n",
       "it2  0.123810  1.866517  1.411055  1.125656  1.531357  0.725753  0.617501  \n",
       "it3  1.866432  1.783597  1.205805  0.093973  1.818958  1.471756  1.272506  \n",
       "it4  0.930916  0.497418  1.837166  1.315127  0.259269  1.973621  1.269510  \n",
       "it5  1.407947  0.320083  0.168943  0.432240  0.193984  1.377742  0.847393  \n",
       "\n",
       "[5 rows x 80 columns]"
      ]
     },
     "execution_count": 2,
     "metadata": {},
     "output_type": "execute_result"
    }
   ],
   "source": [
    "networks_df = dr.read_networks_csv(\"data/d_it_ij_6x6_1000it.csv\",\n",
    "                                   along=\"rows\")\n",
    "\n",
    "networks_df.head()\n"
   ]
  },
  {
   "attachments": {},
   "cell_type": "markdown",
   "metadata": {},
   "source": [
    "Define data\n"
   ]
  },
  {
   "cell_type": "code",
   "execution_count": 3,
   "metadata": {},
   "outputs": [],
   "source": [
    "network_shape = (6, 6)\n",
    "network_nodes = pm.get_nodes(networks_df)\n",
    "num_instances = 5\n",
    "\n",
    "symmetry_levels = [\"high\", \"medium\", \"low\"]\n",
    "idx_of_symmetry_lvl = dict(zip(symmetry_levels, range(len(symmetry_levels))))\n",
    "\n",
    "scenarios = [3, 6, 9, 12]\n",
    "idx_of_scenario = dict(zip(scenarios, range(len(scenarios))))\n",
    "\n",
    "convergence_time_shape = (num_instances,\n",
    "                          len(symmetry_levels),\n",
    "                          len(scenarios))\n",
    "convergence_times = np.zeros(convergence_time_shape)\n"
   ]
  },
  {
   "attachments": {},
   "cell_type": "markdown",
   "metadata": {},
   "source": [
    "Fix seed of the random number generator for reproducibility. This will be used to generate random agents' sources and terminus\n"
   ]
  },
  {
   "cell_type": "code",
   "execution_count": 4,
   "metadata": {},
   "outputs": [],
   "source": [
    "random.seed(0)\n"
   ]
  },
  {
   "attachments": {},
   "cell_type": "markdown",
   "metadata": {},
   "source": [
    "Compute convergence times for different _simmetry-scenario_ combinations\n"
   ]
  },
  {
   "cell_type": "code",
   "execution_count": 5,
   "metadata": {},
   "outputs": [
    {
     "name": "stdout",
     "output_type": "stream",
     "text": [
      "Testing instance 0\n",
      "Set parameter Username\n",
      "Academic license - for non-commercial use only - expires 2023-12-10\n",
      "Testing instance 1\n",
      "Testing instance 2\n",
      "Testing instance 3\n",
      "Testing instance 4\n"
     ]
    }
   ],
   "source": [
    "# skip this cell if you want to use pre-computed results\n",
    "\n",
    "for it_i, network_arcs in enumerate(pm.network_instances(networks_df.head(num_instances))):\n",
    "\n",
    "    print(f\"Testing instance {it_i}\")\n",
    "\n",
    "    for symmetry_lvl in symmetry_levels:\n",
    "\n",
    "        for num_of_agents in scenarios:\n",
    "\n",
    "            agents = pm.generate_agents(network_shape,\n",
    "                                        num_of_agents,\n",
    "                                        symmetry=symmetry_lvl)\n",
    "\n",
    "            pb, X, *_ = pm.set_problem(\"ABP\",\n",
    "                                       network_nodes, network_arcs, agents)\n",
    "            pb.optimize()\n",
    "\n",
    "            if pb.Status == GRB.OPTIMAL:\n",
    "                convergence_times[it_i,\n",
    "                                  idx_of_symmetry_lvl[symmetry_lvl],\n",
    "                                  idx_of_scenario[num_of_agents]] = pb.Runtime\n",
    "            else:\n",
    "                print(\n",
    "                    f\"Something bad occurred while solving instance {it_i} with {num_of_agents} agents and {symmetry_lvl} symmetry\")\n"
   ]
  },
  {
   "attachments": {},
   "cell_type": "markdown",
   "metadata": {},
   "source": [
    "If desired we can store results in order to avoid waiting for computations each time we run the notebook\n"
   ]
  },
  {
   "cell_type": "code",
   "execution_count": 6,
   "metadata": {},
   "outputs": [],
   "source": [
    "np.save(\n",
    "    f\"results/agent_symmetries_convergence_times_{num_instances}.npy\", convergence_times)\n"
   ]
  },
  {
   "cell_type": "markdown",
   "metadata": {},
   "source": [
    "If wanted we can load the stored results and rely on them\n"
   ]
  },
  {
   "cell_type": "code",
   "execution_count": 7,
   "metadata": {},
   "outputs": [],
   "source": [
    "convergence_times = np.load(\n",
    "    f\"results/agent_symmetries_convergence_times_{num_instances}.npy\")\n"
   ]
  },
  {
   "attachments": {},
   "cell_type": "markdown",
   "metadata": {},
   "source": [
    "Report statistics"
   ]
  },
  {
   "cell_type": "code",
   "execution_count": 8,
   "metadata": {},
   "outputs": [
    {
     "data": {
      "text/html": [
       "<div>\n",
       "<style scoped>\n",
       "    .dataframe tbody tr th:only-of-type {\n",
       "        vertical-align: middle;\n",
       "    }\n",
       "\n",
       "    .dataframe tbody tr th {\n",
       "        vertical-align: top;\n",
       "    }\n",
       "\n",
       "    .dataframe thead th {\n",
       "        text-align: right;\n",
       "    }\n",
       "</style>\n",
       "<table border=\"1\" class=\"dataframe\">\n",
       "  <thead>\n",
       "    <tr style=\"text-align: right;\">\n",
       "      <th></th>\n",
       "      <th>3</th>\n",
       "      <th>6</th>\n",
       "      <th>9</th>\n",
       "      <th>12</th>\n",
       "    </tr>\n",
       "  </thead>\n",
       "  <tbody>\n",
       "    <tr>\n",
       "      <th>high</th>\n",
       "      <td>0.024255</td>\n",
       "      <td>0.006467</td>\n",
       "      <td>0.009639</td>\n",
       "      <td>0.010706</td>\n",
       "    </tr>\n",
       "    <tr>\n",
       "      <th>medium</th>\n",
       "      <td>0.005822</td>\n",
       "      <td>0.007111</td>\n",
       "      <td>0.109813</td>\n",
       "      <td>0.285985</td>\n",
       "    </tr>\n",
       "    <tr>\n",
       "      <th>low</th>\n",
       "      <td>0.003641</td>\n",
       "      <td>0.011075</td>\n",
       "      <td>0.033391</td>\n",
       "      <td>0.108915</td>\n",
       "    </tr>\n",
       "  </tbody>\n",
       "</table>\n",
       "</div>"
      ],
      "text/plain": [
       "              3         6         9         12\n",
       "high    0.024255  0.006467  0.009639  0.010706\n",
       "medium  0.005822  0.007111  0.109813  0.285985\n",
       "low     0.003641  0.011075  0.033391  0.108915"
      ]
     },
     "execution_count": 8,
     "metadata": {},
     "output_type": "execute_result"
    }
   ],
   "source": [
    "avg_convergence_times = np.mean(convergence_times, axis=0)\n",
    "\n",
    "avg_convergence_times_df = pd.DataFrame(avg_convergence_times,\n",
    "                                        index=symmetry_levels,\n",
    "                                        columns=scenarios)\n",
    "\n",
    "avg_convergence_times_df\n"
   ]
  },
  {
   "attachments": {},
   "cell_type": "markdown",
   "metadata": {},
   "source": [
    "Interestingly, if all agents have the same source and terminus nodes, the MSPP-PD(ABP) require more or less the same time to be solved independently on the number of agents that has to be routed.\n",
    "\n",
    "About the relationship between mean convergence time and symmetry of the problem we can state:\n",
    "\n",
    "- If all agents start from the same source node and end in the same terminus node, the problem size does not change the mean convergence time;\n",
    "\n",
    "- If all agent source nodes and terminus nodes are selected randomly from the first and last network columns respectively, the mean convergence time stop increasing after a certain problem size;\n",
    "\n",
    "- If source node and terminus node of agents follows a more sophisticated pattern as the one described in the paper then the mean convergemce time increase with the problem size.\n"
   ]
  },
  {
   "attachments": {},
   "cell_type": "markdown",
   "metadata": {},
   "source": [
    "## A possible real case application\n",
    "\n",
    "In this section we will see a possible application of the MSPP-PD other than those reported in the paper.\n",
    "\n",
    "\n",
    "Assume to have a facility where humans and $K$ robots work together.  \n",
    "Robots have to move on predefined traks marked on the floor, this tracks form a $(m \\times n)$ grid-like system. Each grid's link has 2 direction of travel and if 2 robots follow opposite directions on the same link there is no risk of head-on collision. On the other hand if more robots follow the same direction on the same link, collisions may occur. Each of them has to reach some terminus location in one of the crossroads of the track grid inside the plant where is required to perform some task.  \n",
    "We want to find the shortest path to the terminus location for each robot minimizing both the risk of robot-robot and human-robot collision.  \n",
    "\n",
    "This problem can be solved as a MSPP-PD one, below we'll see how with an example\n"
   ]
  },
  {
   "attachments": {},
   "cell_type": "markdown",
   "metadata": {},
   "source": [
    "Assume that tracks' grid has size $(10 \\times 10)$\n"
   ]
  },
  {
   "cell_type": "code",
   "execution_count": 9,
   "metadata": {},
   "outputs": [],
   "source": [
    "num_horiz_tracks, num_vert_tracks = 10, 10\n"
   ]
  },
  {
   "attachments": {},
   "cell_type": "markdown",
   "metadata": {},
   "source": [
    "We label with a number each crossroad of the grid. This points will form the nodes of the network on which we'll formulate the MSPP-PD and represent possible starting or ending robot locations\n"
   ]
  },
  {
   "cell_type": "code",
   "execution_count": 10,
   "metadata": {},
   "outputs": [
    {
     "data": {
      "text/plain": [
       "array([[ 0, 10, 20, 30, 40, 50, 60, 70, 80, 90],\n",
       "       [ 1, 11, 21, 31, 41, 51, 61, 71, 81, 91],\n",
       "       [ 2, 12, 22, 32, 42, 52, 62, 72, 82, 92],\n",
       "       [ 3, 13, 23, 33, 43, 53, 63, 73, 83, 93],\n",
       "       [ 4, 14, 24, 34, 44, 54, 64, 74, 84, 94],\n",
       "       [ 5, 15, 25, 35, 45, 55, 65, 75, 85, 95],\n",
       "       [ 6, 16, 26, 36, 46, 56, 66, 76, 86, 96],\n",
       "       [ 7, 17, 27, 37, 47, 57, 67, 77, 87, 97],\n",
       "       [ 8, 18, 28, 38, 48, 58, 68, 78, 88, 98],\n",
       "       [ 9, 19, 29, 39, 49, 59, 69, 79, 89, 99]])"
      ]
     },
     "execution_count": 10,
     "metadata": {},
     "output_type": "execute_result"
    }
   ],
   "source": [
    "facility_network_nodes = np.arange(num_horiz_tracks * num_vert_tracks)\n",
    "facility_nodes_grid = np.arange(\n",
    "    num_horiz_tracks * num_vert_tracks).reshape(num_vert_tracks, num_horiz_tracks).T\n",
    "\n",
    "facility_nodes_grid\n"
   ]
  },
  {
   "attachments": {},
   "cell_type": "markdown",
   "metadata": {},
   "source": [
    "The arcs of our network will be formed by the directed links of the grid.  \n",
    "Their weights will indicate how much human-congestioned is a particular link so that while solving the MSPP-PD we'll penalize robot paths that traverse areas full of human workers in order to avoid possible accidents between them and robots\n"
   ]
  },
  {
   "cell_type": "code",
   "execution_count": 11,
   "metadata": {},
   "outputs": [],
   "source": [
    "def get_facility_instance(network_nodes_grid, weight_func):\n",
    "    \"\"\"Gets a list of weighted arcs for the network that represent the robots' traks of the facility\n",
    "\n",
    "    Args:\n",
    "        network_nodes_grid (np.ndarray): The grid with the labeled crossroads of the facility\n",
    "        weight_func (function): Function to compute the weights of the arc.\n",
    "          Notice that weights are computed based on their location on the grid\n",
    "          not on the node labels they connect\n",
    "\n",
    "    Returns:\n",
    "        list: a list of WArc representing the arcs of the facility network\n",
    "    \"\"\"\n",
    "\n",
    "    # in the following we consider the location of an arc to be exactly in between the 2 nodes that is connecting\n",
    "    num_rows, num_cols = network_nodes_grid.shape\n",
    "\n",
    "    weast_to_east_arcs = ((network_nodes_grid[i, j], network_nodes_grid[i, j+1], weight_func(i, j+1/2, num_rows, num_cols))\n",
    "                          for j in range(num_cols-1) for i in range(num_rows))\n",
    "\n",
    "    east_to_west_arcs = ((network_nodes_grid[i, j+1], network_nodes_grid[i, j], weight_func(i, j+1/2, num_rows, num_cols))\n",
    "                         for j in range(num_cols-1) for i in range(num_rows))\n",
    "\n",
    "    north_to_south_arcs = ((network_nodes_grid[i, j], network_nodes_grid[i+1, j], weight_func(i+1/2, j, num_rows, num_cols))\n",
    "                           for j in range(num_cols) for i in range(num_rows-1))\n",
    "\n",
    "    south_to_north_arcs = ((network_nodes_grid[i+1, j], network_nodes_grid[i, j], weight_func(i+1/2, j, num_rows, num_cols))\n",
    "                           for j in range(num_cols) for i in range(num_rows-1))\n",
    "\n",
    "    all_arcs = chain(weast_to_east_arcs, east_to_west_arcs,\n",
    "                     north_to_south_arcs, south_to_north_arcs)\n",
    "\n",
    "    return [pm.WArc(i, j, w, idx) for idx, (i, j, w) in enumerate(all_arcs)]\n"
   ]
  },
  {
   "attachments": {},
   "cell_type": "markdown",
   "metadata": {},
   "source": [
    "For our example we suppose that that most of the work carried out by humans has to be performed at the center of the plant.  \n"
   ]
  },
  {
   "cell_type": "code",
   "execution_count": 12,
   "metadata": {},
   "outputs": [],
   "source": [
    "def congested_center_weigth_func(x, y, num_horiz_tracks, num_vert_tracks):\n",
    "    \"\"\"Arc weighting function.\n",
    "\n",
    "    The weights follow a gaussian bell centered on the center of the network.\n",
    "    This function is used to weight an arc of the facility network.\n",
    "\n",
    "    Args:\n",
    "        x (float): vertical location of the arc on the grid.\n",
    "        y (float): horizontal location of the arc on the grid\n",
    "        num_horiz_tracks (int): number of horizontal robots' tracks in the facility\n",
    "        num_vert_tracks (int): number of vertical robots' tracks in the facility\n",
    "\n",
    "    Returns:\n",
    "        float: The weight of the arc located at (x,y) on the network facility\n",
    "    \"\"\"\n",
    "\n",
    "    x_term = (x - ((num_horiz_tracks-1)/2))**2 / \\\n",
    "        (2 * ((num_horiz_tracks-1)/6)**2)\n",
    "    y_term = (y - ((num_vert_tracks-1)/2))**2 / \\\n",
    "        (2 * ((num_vert_tracks-1)/6)**2)\n",
    "    return 1.5 * math.exp(-(x_term+y_term)) + 1\n"
   ]
  },
  {
   "attachments": {},
   "cell_type": "markdown",
   "metadata": {},
   "source": [
    "We could also visualize how arcs weight change along the facility\n"
   ]
  },
  {
   "cell_type": "code",
   "execution_count": 16,
   "metadata": {},
   "outputs": [
    {
     "data": {
      "image/png": "[encoded data removed]",
      "text/plain": [
       "<Figure size 640x480 with 2 Axes>"
      ]
     },
     "metadata": {},
     "output_type": "display_data"
    }
   ],
   "source": [
    "x = np.linspace(0, num_horiz_tracks-1, 100)\n",
    "y = np.linspace(0, num_vert_tracks-1, 100)\n",
    "X, Y = np.meshgrid(x, y)\n",
    "\n",
    "Z = np.vectorize(congested_center_weigth_func)(X, Y, num_horiz_tracks, num_vert_tracks)\n",
    "\n",
    "fig, ax = plt.subplots(subplot_kw={\"projection\": \"3d\"})\n",
    "surf = ax.plot_surface(X, Y, Z, cmap=cm.coolwarm,\n",
    "                       linewidth=0, antialiased=False)\n",
    "\n",
    "ax.set_xlabel('Horizontal track index')\n",
    "plt.xticks(range(num_horiz_tracks))\n",
    "ax.set_ylabel('Vertical track index')\n",
    "plt.yticks(range(num_vert_tracks))\n",
    "ax.set_title('Arc weights along facility')\n",
    "\n",
    "fig.colorbar(surf, shrink=0.5, aspect=5)\n",
    "\n",
    "plt.show()\n"
   ]
  },
  {
   "attachments": {},
   "cell_type": "markdown",
   "metadata": {},
   "source": [
    "Now we can generate the arcs for our example\n"
   ]
  },
  {
   "cell_type": "code",
   "execution_count": 17,
   "metadata": {},
   "outputs": [],
   "source": [
    "facility_network_arcs = get_facility_instance(\n",
    "    facility_nodes_grid, congested_center_weigth_func)\n"
   ]
  },
  {
   "attachments": {},
   "cell_type": "markdown",
   "metadata": {},
   "source": [
    "Robots are the agents that has to be routed in our MSPP-PD.  \n",
    "For our example we assume:\n",
    "- of having to route 10 different robots;\n",
    "- that they are, at the beginning, scattered within the facility;\n",
    "- that each one has to reach different (random) locations where they have to perform tasks.\n",
    "\n",
    "Note that we stick to the seed setted in the previous section of the notebook to generate random robots' sources and terminus nodes  \n"
   ]
  },
  {
   "cell_type": "code",
   "execution_count": 18,
   "metadata": {},
   "outputs": [],
   "source": [
    "def generate_random_agents(network_nodes, num_of_agents):\n",
    "    '''Generate a number of Agents with random sources and termini on a network\n",
    "\n",
    "    Used to generate the robots that has to be routed in the facility example\n",
    "\n",
    "    Args:\n",
    "        network_nodes (np.ndarray): a list containing the nodes of the network\n",
    "        num_of_agents (int): number of agents to be generated\n",
    "\n",
    "    Returns:\n",
    "        list: a list of Agents with random source and terminus nodes\n",
    "    '''\n",
    "\n",
    "    agent_idxs = list(range(num_of_agents))\n",
    "    agents = []\n",
    "\n",
    "    while agent_idxs:\n",
    "        agent_source = random.choice(network_nodes)\n",
    "        agent_terminus = random.choice(network_nodes)\n",
    "        if agent_source != agent_terminus:\n",
    "            agents.append(\n",
    "                pm.Agent(agent_source, agent_terminus, agent_idxs.pop(0)))\n",
    "\n",
    "    return agents\n",
    "\n",
    "\n",
    "# generate agents for our  example\n",
    "num_of_agents = 10\n",
    "robots = generate_random_agents(facility_network_nodes, num_of_agents)\n"
   ]
  },
  {
   "attachments": {},
   "cell_type": "markdown",
   "metadata": {},
   "source": [
    "Now everything is ready to define the arcs of our instance and to formulate the MSPP-PD problem for our practical scenario.  \n",
    "For simplicity we choose the version with the arc binary penalization, but other versions would have been fine too\n"
   ]
  },
  {
   "cell_type": "code",
   "execution_count": 19,
   "metadata": {},
   "outputs": [],
   "source": [
    "facility_pb, X, *_ = pm.set_problem(\"ABP\",\n",
    "                                    facility_network_nodes,\n",
    "                                    facility_network_arcs,\n",
    "                                    robots)\n"
   ]
  },
  {
   "attachments": {},
   "cell_type": "markdown",
   "metadata": {},
   "source": [
    "Now we can solve the problem...\n"
   ]
  },
  {
   "cell_type": "code",
   "execution_count": 20,
   "metadata": {},
   "outputs": [],
   "source": [
    "facility_pb.optimize()\n"
   ]
  },
  {
   "attachments": {},
   "cell_type": "markdown",
   "metadata": {},
   "source": [
    "And print the solution if the optimum is found\n"
   ]
  },
  {
   "cell_type": "code",
   "execution_count": 21,
   "metadata": {},
   "outputs": [
    {
     "name": "stdout",
     "output_type": "stream",
     "text": [
      "Result of the optimization is:\n",
      "optimal\n"
     ]
    }
   ],
   "source": [
    "print(\"Result of the optimization is:\")\n",
    "if facility_pb.Status == 2:\n",
    "    print(\"optimal\")\n",
    "elif facility_pb.Status == 3:\n",
    "    print(\"infeasible\")\n",
    "elif facility_pb.Status == 5:\n",
    "    print(\"unbounded\")\n",
    "else:\n",
    "    print(\"Some other return status\")\n"
   ]
  },
  {
   "cell_type": "code",
   "execution_count": 22,
   "metadata": {},
   "outputs": [
    {
     "name": "stdout",
     "output_type": "stream",
     "text": [
      "Agent 0 will follow the path:\n",
      "36->35\t37->36\t38->37\t\n",
      "Agent 1 will follow the path:\n",
      "38->28\t48->38\t58->48\t68->58\t78->68\t88->78\t24->23\t25->24\t26->25\t27->26\t28->27\t\n",
      "Agent 2 will follow the path:\n",
      "11->21\t21->31\t31->41\t41->51\t51->61\t12->11\t61->60\t\n",
      "Agent 3 will follow the path:\n",
      "50->60\t60->70\t70->80\t\n",
      "Agent 4 will follow the path:\n",
      "10->0\t0->1\t1->2\t\n",
      "Agent 5 will follow the path:\n",
      "37->47\t47->57\t35->36\t36->37\t\n",
      "Agent 6 will follow the path:\n",
      "12->22\t22->32\t13->12\t14->13\t\n",
      "Agent 7 will follow the path:\n",
      "18->28\t28->38\t38->48\t48->58\t58->68\t68->78\t78->88\t17->18\t84->83\t85->84\t86->85\t87->86\t88->87\t\n",
      "Agent 8 will follow the path:\n",
      "66->76\t73->83\t74->73\t75->74\t76->75\t\n",
      "Agent 9 will follow the path:\n",
      "52->42\t62->52\t72->62\t82->72\t42->43\t43->44\t\n"
     ]
    }
   ],
   "source": [
    "for agent in robots:\n",
    "    print(f\"Agent {agent.idx} will follow the path:\")\n",
    "    for arc in facility_network_arcs:\n",
    "        if math.isclose(X.x[arc.idx, agent.idx], 1):\n",
    "            print(f\"{arc.i}->{arc.j}\", end=\"\\t\")\n",
    "    print()\n"
   ]
  }
 ],
 "metadata": {
  "kernelspec": {
   "display_name": "math_opt2021",
   "language": "python",
   "name": "python3"
  },
  "language_info": {
   "codemirror_mode": {
    "name": "ipython",
    "version": 3
   },
   "file_extension": ".py",
   "mimetype": "text/x-python",
   "name": "python",
   "nbconvert_exporter": "python",
   "pygments_lexer": "ipython3",
   "version": "3.9.12"
  },
  "orig_nbformat": 4
 },
 "nbformat": 4,
 "nbformat_minor": 2
}
