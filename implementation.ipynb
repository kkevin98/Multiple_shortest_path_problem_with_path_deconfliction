{
 "cells": [
  {
   "attachments": {},
   "cell_type": "markdown",
   "metadata": {},
   "source": [
    "# First MSSP example"
   ]
  },
  {
   "cell_type": "code",
   "execution_count": 1,
   "metadata": {},
   "outputs": [],
   "source": [
    "import gurobipy as gb\n",
    "from gurobipy import GRB\n",
    "import pandas as pd\n",
    "import numpy as np\n",
    "import math\n",
    "from collections import namedtuple"
   ]
  },
  {
   "attachments": {},
   "cell_type": "markdown",
   "metadata": {},
   "source": [
    "## Manage datas"
   ]
  },
  {
   "attachments": {},
   "cell_type": "markdown",
   "metadata": {},
   "source": [
    "Read the synthetic instance of Section 3.2"
   ]
  },
  {
   "cell_type": "code",
   "execution_count": 2,
   "metadata": {},
   "outputs": [],
   "source": [
    "nodes_number = 25\n",
    "agents_number = 4\n",
    "synthetic_5x5_df = pd.read_csv(\"data/d_it_ij_5x5_1it.csv\",\n",
    "                               header=0,\n",
    "                               names=[\"i\", \"j\", \"d_ij\"])\n",
    "\n",
    "# convert d_ij column into float\n",
    "# print(synthetic_5x5_df.dtypes)\n",
    "synthetic_5x5_df[\"d_ij\"] = synthetic_5x5_df[\"d_ij\"].str.replace(\n",
    "    \",\", \".\").astype(np.float64)\n",
    "# print(synthetic_5x5_df.dtypes)\n",
    "\n",
    "# counting network nodes starting from 0\n",
    "synthetic_5x5_df[[\"i\", \"j\"]] = synthetic_5x5_df[[\"i\", \"j\"]] - 1\n"
   ]
  },
  {
   "attachments": {},
   "cell_type": "markdown",
   "metadata": {},
   "source": [
    "Set up datas that will be used to solve the problem"
   ]
  },
  {
   "cell_type": "code",
   "execution_count": 3,
   "metadata": {},
   "outputs": [],
   "source": [
    "Arc = namedtuple(\"Arc\", synthetic_5x5_df.columns)\n",
    "arcs = [Arc(*row) for row in synthetic_5x5_df.itertuples(index=False)]  # as List to avoid nusty bugs\n",
    "\n",
    "nodes = np.unique(np.concatenate((synthetic_5x5_df[\"i\"].to_numpy(),\n",
    "                              synthetic_5x5_df[\"j\"].to_numpy())))\n",
    "agent_sources = np.array([0, 2, 3, 4])\n",
    "agent_terminus = np.array([20, 22, 23, 24])\n",
    "\n",
    "agents = range(agents_number)\n",
    "# D = synthetic_5x5_df[\"d_ij\"].to_numpy()"
   ]
  },
  {
   "attachments": {},
   "cell_type": "markdown",
   "metadata": {},
   "source": [
    "## Manage the problem"
   ]
  },
  {
   "attachments": {},
   "cell_type": "markdown",
   "metadata": {},
   "source": [
    "Create the problem"
   ]
  },
  {
   "cell_type": "code",
   "execution_count": 4,
   "metadata": {},
   "outputs": [
    {
     "name": "stdout",
     "output_type": "stream",
     "text": [
      "Set parameter Username\n",
      "Academic license - for non-commercial use only - expires 2023-12-10\n"
     ]
    }
   ],
   "source": [
    "MSPP_pb = gb.Model(\"First MSPP\")\n",
    "MSPP_pb.setParam(\"OutputFlag\", 0)"
   ]
  },
  {
   "cell_type": "markdown",
   "metadata": {},
   "source": [
    "Define decision variables"
   ]
  },
  {
   "cell_type": "code",
   "execution_count": 5,
   "metadata": {},
   "outputs": [],
   "source": [
    "var_shape = len(nodes), len(nodes), agents_number\n",
    "\n",
    "X = MSPP_pb.addMVar(var_shape,\n",
    "                    vtype=GRB.BINARY,  # 5) Binary constraints\n",
    "                    name=\"k-th agent traverse arc (i,j)\")\n"
   ]
  },
  {
   "attachments": {},
   "cell_type": "markdown",
   "metadata": {},
   "source": [
    "Define the objective function"
   ]
  },
  {
   "cell_type": "code",
   "execution_count": 6,
   "metadata": {},
   "outputs": [],
   "source": [
    "# 1-3) Objective function\n",
    "MSPP_pb.setObjective(\n",
    "    gb.quicksum(\n",
    "        arc.d_ij*X[arc.i, arc.j, k]\n",
    "        for arc in arcs for k in agents\n",
    "    ),\n",
    "    GRB.MINIMIZE\n",
    ")"
   ]
  },
  {
   "attachments": {},
   "cell_type": "markdown",
   "metadata": {},
   "source": [
    "Add constraints"
   ]
  },
  {
   "cell_type": "code",
   "execution_count": 7,
   "metadata": {},
   "outputs": [],
   "source": [
    "# 4) Flow constraints\n",
    "\n",
    "def compute_flow(X, node, arcs, agent):\n",
    "    flow_out = gb.quicksum(X[node, arc.j, agent] for arc in arcs if arc.i==node)\n",
    "    flow_in = gb.quicksum(X[arc.i, node, agent] for arc in arcs if arc.j==node)\n",
    "    return flow_out - flow_in\n",
    "\n",
    "\n",
    "for k in agents:\n",
    "    for i in nodes:\n",
    "        if i == agent_sources[k]:\n",
    "            MSPP_pb.addConstr(compute_flow(X, i, arcs, k) == 1,\n",
    "            name=f\"Flow constr related for agent {k} in node {i}\")\n",
    "        elif i == agent_terminus[k]:\n",
    "            MSPP_pb.addConstr(compute_flow(X, i, arcs, k) == -1,\n",
    "            name=f\"Flow constr related for agent {k} in node {i}\")\n",
    "        else:\n",
    "            MSPP_pb.addConstr( compute_flow(X, i, arcs, k) == 0,\n",
    "            name=f\"Flow constr related for agent {k} in node {i}\")\n",
    "            "
   ]
  },
  {
   "attachments": {},
   "cell_type": "markdown",
   "metadata": {},
   "source": [
    "Solve the problem"
   ]
  },
  {
   "cell_type": "code",
   "execution_count": 8,
   "metadata": {},
   "outputs": [],
   "source": [
    "MSPP_pb.optimize()"
   ]
  },
  {
   "attachments": {},
   "cell_type": "markdown",
   "metadata": {},
   "source": [
    "Report results"
   ]
  },
  {
   "cell_type": "code",
   "execution_count": 14,
   "metadata": {},
   "outputs": [
    {
     "name": "stdout",
     "output_type": "stream",
     "text": [
      "Result of the optimization is:\n",
      "optimal\n",
      "Agent 0 will follow the path:\n",
      "Arc(i=0, j=6, d_ij=1.0) -> \n",
      "Arc(i=6, j=12, d_ij=1.0) -> \n",
      "Arc(i=12, j=16, d_ij=1.0) -> \n",
      "Arc(i=16, j=20, d_ij=1.0) -> \n",
      "Agent 1 will follow the path:\n",
      "Arc(i=2, j=7, d_ij=1.0) -> \n",
      "Arc(i=7, j=12, d_ij=1.0) -> \n",
      "Arc(i=12, j=17, d_ij=1.0) -> \n",
      "Arc(i=17, j=22, d_ij=1.0) -> \n",
      "Agent 2 will follow the path:\n",
      "Arc(i=3, j=7, d_ij=1.0) -> \n",
      "Arc(i=7, j=12, d_ij=1.0) -> \n",
      "Arc(i=12, j=17, d_ij=1.0) -> \n",
      "Arc(i=17, j=23, d_ij=1.0) -> \n",
      "Agent 3 will follow the path:\n",
      "Arc(i=4, j=8, d_ij=1.0) -> \n",
      "Arc(i=8, j=14, d_ij=1.0) -> \n",
      "Arc(i=14, j=18, d_ij=1.0) -> \n",
      "Arc(i=18, j=24, d_ij=1.0) -> \n",
      "Minimum distance covered is 16.0\n"
     ]
    }
   ],
   "source": [
    "print(\"Result of the optimization is:\")\n",
    "if MSPP_pb.Status == 2:\n",
    "    print(\"optimal\")\n",
    "elif MSPP_pb.Status == 3:\n",
    "    print(\"infeasible\")\n",
    "elif MSPP_pb.Status == 5:\n",
    "    print(\"unbounded\")\n",
    "else:\n",
    "    print(\"Some other return status\")"
   ]
  },
  {
   "cell_type": "code",
   "execution_count": null,
   "metadata": {},
   "outputs": [],
   "source": [
    "print(f\"Minimum distance covered is {MSPP_pb.ObjVal}\")"
   ]
  },
  {
   "cell_type": "code",
   "execution_count": 22,
   "metadata": {},
   "outputs": [
    {
     "name": "stdout",
     "output_type": "stream",
     "text": [
      "Agent 0 will follow the path:\n",
      "0->6\t6->12\t12->16\t16->20\t\n",
      "Agent 1 will follow the path:\n",
      "2->7\t7->12\t12->17\t17->22\t\n",
      "Agent 2 will follow the path:\n",
      "3->7\t7->12\t12->17\t17->23\t\n",
      "Agent 3 will follow the path:\n",
      "4->8\t8->14\t14->18\t18->24\t\n"
     ]
    }
   ],
   "source": [
    "for k in agents:\n",
    "    print(f\"Agent {k} will follow the path:\")\n",
    "    for arc in arcs:\n",
    "        if math.isclose(X.X[arc.i, arc.j, k], 1):\n",
    "            print(f\"{arc.i}->{arc.j}\", end=\"\\t\")\n",
    "    print()\n"
   ]
  }
 ],
 "metadata": {
  "kernelspec": {
   "display_name": "math_opt2021",
   "language": "python",
   "name": "python3"
  },
  "language_info": {
   "codemirror_mode": {
    "name": "ipython",
    "version": 3
   },
   "file_extension": ".py",
   "mimetype": "text/x-python",
   "name": "python",
   "nbconvert_exporter": "python",
   "pygments_lexer": "ipython3",
   "version": "3.9.12"
  },
  "orig_nbformat": 4,
  "vscode": {
   "interpreter": {
    "hash": "815aa94ff997c317b35152adf27958c1441995c12fe806fd1ec102e81253708b"
   }
  }
 },
 "nbformat": 4,
 "nbformat_minor": 2
}
