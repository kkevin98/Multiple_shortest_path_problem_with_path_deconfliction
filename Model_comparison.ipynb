{
 "cells": [
  {
   "attachments": {},
   "cell_type": "markdown",
   "metadata": {},
   "source": [
    "# Model comparison"
   ]
  },
  {
   "cell_type": "code",
   "execution_count": 1,
   "metadata": {},
   "outputs": [],
   "source": [
    "import gurobipy as gb\n",
    "from gurobipy import GRB\n",
    "import pandas as pd\n",
    "import numpy as np\n",
    "import math\n",
    "import matplotlib as mpl\n",
    "import matplotlib.pyplot as plt"
   ]
  },
  {
   "cell_type": "markdown",
   "metadata": {},
   "source": [
    "## Manage datas"
   ]
  },
  {
   "attachments": {},
   "cell_type": "markdown",
   "metadata": {},
   "source": [
    "Read the 1000 6x6 instances"
   ]
  },
  {
   "cell_type": "code",
   "execution_count": 2,
   "metadata": {},
   "outputs": [
    {
     "data": {
      "text/html": [
       "<div>\n",
       "<style scoped>\n",
       "    .dataframe tbody tr th:only-of-type {\n",
       "        vertical-align: middle;\n",
       "    }\n",
       "\n",
       "    .dataframe tbody tr th {\n",
       "        vertical-align: top;\n",
       "    }\n",
       "\n",
       "    .dataframe thead tr th {\n",
       "        text-align: left;\n",
       "    }\n",
       "</style>\n",
       "<table border=\"1\" class=\"dataframe\">\n",
       "  <thead>\n",
       "    <tr>\n",
       "      <th></th>\n",
       "      <th colspan=\"2\" halign=\"left\">0</th>\n",
       "      <th colspan=\"3\" halign=\"left\">1</th>\n",
       "      <th colspan=\"3\" halign=\"left\">2</th>\n",
       "      <th colspan=\"2\" halign=\"left\">3</th>\n",
       "      <th>...</th>\n",
       "      <th colspan=\"2\" halign=\"left\">26</th>\n",
       "      <th colspan=\"3\" halign=\"left\">27</th>\n",
       "      <th colspan=\"3\" halign=\"left\">28</th>\n",
       "      <th colspan=\"2\" halign=\"left\">29</th>\n",
       "    </tr>\n",
       "    <tr>\n",
       "      <th></th>\n",
       "      <th>6</th>\n",
       "      <th>7</th>\n",
       "      <th>6</th>\n",
       "      <th>7</th>\n",
       "      <th>8</th>\n",
       "      <th>7</th>\n",
       "      <th>8</th>\n",
       "      <th>9</th>\n",
       "      <th>8</th>\n",
       "      <th>9</th>\n",
       "      <th>...</th>\n",
       "      <th>32</th>\n",
       "      <th>33</th>\n",
       "      <th>32</th>\n",
       "      <th>33</th>\n",
       "      <th>34</th>\n",
       "      <th>33</th>\n",
       "      <th>34</th>\n",
       "      <th>35</th>\n",
       "      <th>34</th>\n",
       "      <th>35</th>\n",
       "    </tr>\n",
       "  </thead>\n",
       "  <tbody>\n",
       "    <tr>\n",
       "      <th>it1</th>\n",
       "      <td>1.612014</td>\n",
       "      <td>1.454776</td>\n",
       "      <td>0.376347</td>\n",
       "      <td>1.263488</td>\n",
       "      <td>1.675461</td>\n",
       "      <td>0.383242</td>\n",
       "      <td>1.325470</td>\n",
       "      <td>1.502733</td>\n",
       "      <td>0.959483</td>\n",
       "      <td>1.690435</td>\n",
       "      <td>...</td>\n",
       "      <td>0.199034</td>\n",
       "      <td>1.911133</td>\n",
       "      <td>1.343548</td>\n",
       "      <td>0.238743</td>\n",
       "      <td>1.667782</td>\n",
       "      <td>1.273160</td>\n",
       "      <td>0.289610</td>\n",
       "      <td>1.523664</td>\n",
       "      <td>1.968861</td>\n",
       "      <td>1.483620</td>\n",
       "    </tr>\n",
       "    <tr>\n",
       "      <th>it2</th>\n",
       "      <td>0.345666</td>\n",
       "      <td>1.997958</td>\n",
       "      <td>1.022579</td>\n",
       "      <td>1.344409</td>\n",
       "      <td>0.335500</td>\n",
       "      <td>0.768256</td>\n",
       "      <td>0.724642</td>\n",
       "      <td>1.146472</td>\n",
       "      <td>0.726154</td>\n",
       "      <td>0.654525</td>\n",
       "      <td>...</td>\n",
       "      <td>0.126858</td>\n",
       "      <td>0.794601</td>\n",
       "      <td>1.432874</td>\n",
       "      <td>0.123810</td>\n",
       "      <td>1.866517</td>\n",
       "      <td>1.411055</td>\n",
       "      <td>1.125656</td>\n",
       "      <td>1.531357</td>\n",
       "      <td>0.725753</td>\n",
       "      <td>0.617501</td>\n",
       "    </tr>\n",
       "    <tr>\n",
       "      <th>it3</th>\n",
       "      <td>1.059043</td>\n",
       "      <td>1.866680</td>\n",
       "      <td>1.672658</td>\n",
       "      <td>0.410748</td>\n",
       "      <td>1.204280</td>\n",
       "      <td>1.351971</td>\n",
       "      <td>1.502285</td>\n",
       "      <td>0.093011</td>\n",
       "      <td>0.149816</td>\n",
       "      <td>0.665625</td>\n",
       "      <td>...</td>\n",
       "      <td>1.773551</td>\n",
       "      <td>0.360475</td>\n",
       "      <td>0.016188</td>\n",
       "      <td>1.866432</td>\n",
       "      <td>1.783597</td>\n",
       "      <td>1.205805</td>\n",
       "      <td>0.093973</td>\n",
       "      <td>1.818958</td>\n",
       "      <td>1.471756</td>\n",
       "      <td>1.272506</td>\n",
       "    </tr>\n",
       "    <tr>\n",
       "      <th>it4</th>\n",
       "      <td>0.297746</td>\n",
       "      <td>1.873162</td>\n",
       "      <td>1.144040</td>\n",
       "      <td>1.749892</td>\n",
       "      <td>0.975469</td>\n",
       "      <td>0.168817</td>\n",
       "      <td>0.553882</td>\n",
       "      <td>1.758605</td>\n",
       "      <td>1.824679</td>\n",
       "      <td>0.606143</td>\n",
       "      <td>...</td>\n",
       "      <td>1.398726</td>\n",
       "      <td>1.794652</td>\n",
       "      <td>0.178435</td>\n",
       "      <td>0.930916</td>\n",
       "      <td>0.497418</td>\n",
       "      <td>1.837166</td>\n",
       "      <td>1.315127</td>\n",
       "      <td>0.259269</td>\n",
       "      <td>1.973621</td>\n",
       "      <td>1.269510</td>\n",
       "    </tr>\n",
       "    <tr>\n",
       "      <th>it5</th>\n",
       "      <td>1.296527</td>\n",
       "      <td>1.255480</td>\n",
       "      <td>1.777435</td>\n",
       "      <td>1.812928</td>\n",
       "      <td>1.990680</td>\n",
       "      <td>0.990032</td>\n",
       "      <td>0.467010</td>\n",
       "      <td>0.629513</td>\n",
       "      <td>0.962954</td>\n",
       "      <td>0.695574</td>\n",
       "      <td>...</td>\n",
       "      <td>0.499949</td>\n",
       "      <td>0.563903</td>\n",
       "      <td>0.976726</td>\n",
       "      <td>1.407947</td>\n",
       "      <td>0.320083</td>\n",
       "      <td>0.168943</td>\n",
       "      <td>0.432240</td>\n",
       "      <td>0.193984</td>\n",
       "      <td>1.377742</td>\n",
       "      <td>0.847393</td>\n",
       "    </tr>\n",
       "  </tbody>\n",
       "</table>\n",
       "<p>5 rows × 80 columns</p>\n",
       "</div>"
      ],
      "text/plain": [
       "           0                   1                             2             \\\n",
       "           6         7         6         7         8         7         8    \n",
       "it1  1.612014  1.454776  0.376347  1.263488  1.675461  0.383242  1.325470   \n",
       "it2  0.345666  1.997958  1.022579  1.344409  0.335500  0.768256  0.724642   \n",
       "it3  1.059043  1.866680  1.672658  0.410748  1.204280  1.351971  1.502285   \n",
       "it4  0.297746  1.873162  1.144040  1.749892  0.975469  0.168817  0.553882   \n",
       "it5  1.296527  1.255480  1.777435  1.812928  1.990680  0.990032  0.467010   \n",
       "\n",
       "                     3             ...        26                  27  \\\n",
       "           9         8         9   ...        32        33        32   \n",
       "it1  1.502733  0.959483  1.690435  ...  0.199034  1.911133  1.343548   \n",
       "it2  1.146472  0.726154  0.654525  ...  0.126858  0.794601  1.432874   \n",
       "it3  0.093011  0.149816  0.665625  ...  1.773551  0.360475  0.016188   \n",
       "it4  1.758605  1.824679  0.606143  ...  1.398726  1.794652  0.178435   \n",
       "it5  0.629513  0.962954  0.695574  ...  0.499949  0.563903  0.976726   \n",
       "\n",
       "                               28                            29            \n",
       "           33        34        33        34        35        34        35  \n",
       "it1  0.238743  1.667782  1.273160  0.289610  1.523664  1.968861  1.483620  \n",
       "it2  0.123810  1.866517  1.411055  1.125656  1.531357  0.725753  0.617501  \n",
       "it3  1.866432  1.783597  1.205805  0.093973  1.818958  1.471756  1.272506  \n",
       "it4  0.930916  0.497418  1.837166  1.315127  0.259269  1.973621  1.269510  \n",
       "it5  1.407947  0.320083  0.168943  0.432240  0.193984  1.377742  0.847393  \n",
       "\n",
       "[5 rows x 80 columns]"
      ]
     },
     "execution_count": 2,
     "metadata": {},
     "output_type": "execute_result"
    }
   ],
   "source": [
    "networks_df = pd.read_csv(\"data/d_it_ij_6x6_1000it.csv\",\n",
    "                          decimal=\",\",\n",
    "                          header=[0, 1],\n",
    "                          index_col=0)\n",
    "\n",
    "# Convert column names from str to int and start counting nodes from 0\n",
    "networks_df.columns = [networks_df.columns.get_level_values(0).astype(int) - 1,\n",
    "                       networks_df.columns.get_level_values(1).astype(int) - 1]\n",
    "\n",
    "# print(networks_df.dtypes)\n",
    "networks_df.head()\n"
   ]
  },
  {
   "attachments": {},
   "cell_type": "markdown",
   "metadata": {},
   "source": [
    "Define simple, but useful classes"
   ]
  },
  {
   "cell_type": "code",
   "execution_count": 3,
   "metadata": {},
   "outputs": [],
   "source": [
    "class WArc:\n",
    "\n",
    "    def __init__(self, begin, end, weight, index):\n",
    "        self.i = begin\n",
    "        self.j = end\n",
    "        self.w = weight\n",
    "        self.idx = index\n",
    "\n",
    "    def __repr__(self):\n",
    "        return f\"{self.__class__.__name__}({self.i!r}, {self.j!r}, {self.w!r}, {self.idx!r})\"\n",
    "\n",
    "\n",
    "class Agent:\n",
    "\n",
    "    def __init__(self, source, terminus, index):\n",
    "        # ? Consider agent name\n",
    "        self.source = source\n",
    "        self.terminus = terminus\n",
    "        self.idx = index\n",
    "        self.path = None\n",
    "\n",
    "    def __repr__(self):\n",
    "        return f\"{self.__class__.__name__}({self.source!r}, {self.terminus!r}, {self.idx!r})\"\n"
   ]
  },
  {
   "attachments": {},
   "cell_type": "markdown",
   "metadata": {},
   "source": [
    "Function that gives a list with all the nodes in the network"
   ]
  },
  {
   "cell_type": "code",
   "execution_count": 4,
   "metadata": {},
   "outputs": [],
   "source": [
    "def get_nodes(networks_df, fishing_from):\n",
    "\n",
    "    if fishing_from == \"cols\":\n",
    "        starting_nodes = networks_df.columns.get_level_values(0)\n",
    "        ending_nodes = networks_df.columns.get_level_values(1)\n",
    "    elif fishing_from == \"indx\":\n",
    "        starting_nodes = networks_df.index.get_level_values(0)\n",
    "        ending_nodes = networks_df.index.get_level_values(1)\n",
    "\n",
    "    return starting_nodes.union(ending_nodes).unique().tolist()\n"
   ]
  },
  {
   "attachments": {},
   "cell_type": "markdown",
   "metadata": {},
   "source": [
    "Functions that gives one by one the network instaces of the dataframe in the form of a list of arcs "
   ]
  },
  {
   "cell_type": "code",
   "execution_count": 5,
   "metadata": {},
   "outputs": [],
   "source": [
    "def sixXsix_1000_networks(networks_df):\n",
    "    for it in networks_df.index:  # each network instance...\n",
    "        yield [WArc(i, j, networks_df.loc[it, (i, j)], idx)\n",
    "               for idx, (i, j) in enumerate(networks_df.columns)]  # ... is formed by a set of arcs\n"
   ]
  },
  {
   "attachments": {},
   "cell_type": "markdown",
   "metadata": {},
   "source": [
    "## Set up different problems"
   ]
  },
  {
   "attachments": {},
   "cell_type": "markdown",
   "metadata": {},
   "source": [
    "Functions to build optimization problems "
   ]
  },
  {
   "cell_type": "code",
   "execution_count": 6,
   "metadata": {},
   "outputs": [],
   "source": [
    "def compute_flow(X, node, w_arcs, agent):\n",
    "    flow_out = gb.quicksum(\n",
    "        X[arc.idx, agent.idx]\n",
    "        for arc in w_arcs if arc.i == node\n",
    "    )\n",
    "    flow_in = gb.quicksum(\n",
    "        X[arc.idx, agent.idx]\n",
    "        for arc in w_arcs if arc.j == node\n",
    "    )\n",
    "    return flow_out - flow_in\n"
   ]
  },
  {
   "cell_type": "code",
   "execution_count": 7,
   "metadata": {},
   "outputs": [],
   "source": [
    "def set_MSPP(nodes, w_arcs, agents):\n",
    "\n",
    "    MSPP_pb = gb.Model()\n",
    "    MSPP_pb.setParam(\"OutputFlag\", 0)\n",
    "\n",
    "    # Decision variables\n",
    "    X_var_shape = len(w_arcs), len(agents)\n",
    "    X = MSPP_pb.addMVar(X_var_shape,\n",
    "                        vtype=GRB.BINARY,  # 5) Binary constraints\n",
    "                        name=\"X\")\n",
    "\n",
    "    # 1-3) Objective\n",
    "    distance_obj = gb.quicksum(\n",
    "        arc.w * X[arc.idx, agent.idx]\n",
    "        for arc in w_arcs for agent in agents\n",
    "    )\n",
    "    MSPP_pb.setObjectiveN(distance_obj, index=0, weight=1, name=\"Distance\")\n",
    "\n",
    "    # 4) Flow constraints\n",
    "    for agent in agents:\n",
    "        for node in nodes:\n",
    "            if node == agent.source:\n",
    "                MSPP_pb.addConstr(compute_flow(X, node, w_arcs, agent) == 1)\n",
    "            elif node == agent.terminus:\n",
    "                MSPP_pb.addConstr(compute_flow(X, node, w_arcs, agent) == -1)\n",
    "            else:\n",
    "                MSPP_pb.addConstr(compute_flow(X, node, w_arcs, agent) == 0)\n",
    "\n",
    "    return MSPP_pb, X\n"
   ]
  },
  {
   "cell_type": "code",
   "execution_count": 8,
   "metadata": {},
   "outputs": [],
   "source": [
    "def set_ABP(nodes, w_arcs, agents):\n",
    "\n",
    "    MSPP_PD_ABP_pb, X = set_MSPP(nodes, w_arcs, agents)\n",
    "\n",
    "    # Additional decision variables\n",
    "    Psi_var_shape = len(w_arcs)\n",
    "    Psi = MSPP_PD_ABP_pb.addMVar(Psi_var_shape,\n",
    "                                 vtype=GRB.BINARY,  # 8) Binary constraints\n",
    "                                 name=\"Psi\")\n",
    "\n",
    "    # 6) Additional objective\n",
    "    penalty_obj = gb.quicksum(\n",
    "        Psi[arc.idx] for arc in w_arcs\n",
    "    )\n",
    "    MSPP_PD_ABP_pb.setObjectiveN(\n",
    "        penalty_obj, index=1, weight=1, name=\"Penalty\")\n",
    "\n",
    "    # 7) Additonal constraints\n",
    "    for arc in w_arcs:\n",
    "        MSPP_PD_ABP_pb.addConstr(\n",
    "            1/len(agents) *\n",
    "            (gb.quicksum(X[arc.idx, agent.idx] for agent in agents) - 1)\n",
    "            <= Psi[arc.idx]\n",
    "        )\n",
    "\n",
    "    return MSPP_PD_ABP_pb, X, Psi\n"
   ]
  },
  {
   "cell_type": "code",
   "execution_count": 9,
   "metadata": {},
   "outputs": [],
   "source": [
    "def set_NBP(nodes, w_arcs, agents):\n",
    "\n",
    "    MSPP_PD_NBP_pb, X = set_MSPP(nodes, w_arcs, agents)\n",
    "\n",
    "    # Additional decision variables\n",
    "    R_var_shape = len(nodes), len(agents)\n",
    "    R = MSPP_PD_NBP_pb.addMVar(R_var_shape,\n",
    "                               vtype=GRB.BINARY,  # 13) Binary constraints\n",
    "                               name=\"R\")\n",
    "    Xi_var_shape = len(nodes)\n",
    "    Xi = MSPP_PD_NBP_pb.addMVar(Xi_var_shape,\n",
    "                                vtype=GRB.BINARY,  # 14) Binary constraints\n",
    "                                name=\"Xi\")\n",
    "\n",
    "    # 9) Additional objective\n",
    "    penalty_obj = gb.quicksum(\n",
    "        Xi[node] for node in nodes\n",
    "    )\n",
    "    MSPP_PD_NBP_pb.setObjectiveN(\n",
    "        penalty_obj, index=1, weight=1, name=\"Penalty\")\n",
    "\n",
    "    # 10,11) Turning on r_i constraints\n",
    "    for agent in agents:\n",
    "        for node in nodes:\n",
    "            MSPP_PD_NBP_pb.addConstr(\n",
    "                R[node, agent.idx] >= gb.quicksum(X[arc.idx, agent.idx]\n",
    "                                                  for arc in w_arcs if arc.i == node)\n",
    "            )\n",
    "            MSPP_PD_NBP_pb.addConstr(\n",
    "                R[node, agent.idx] >= gb.quicksum(X[arc.idx, agent.idx]\n",
    "                                                  for arc in w_arcs if arc.j == node)\n",
    "            )\n",
    "\n",
    "    # 12) Turning on xi_i constraints\n",
    "    #! Seems weird, the -1 should be outside the summation\n",
    "    for node in nodes:\n",
    "        MSPP_PD_NBP_pb.addConstr(\n",
    "            1/len(agents) * (gb.quicksum(R[node, agent.idx] - 1\n",
    "                                         for agent in agents))\n",
    "        )\n",
    "\n",
    "    return MSPP_PD_NBP_pb, X, R, Xi\n"
   ]
  },
  {
   "cell_type": "code",
   "execution_count": 10,
   "metadata": {},
   "outputs": [],
   "source": [
    "def set_problem(problem_type, nodes, w_arcs, agents):\n",
    "    params = nodes, w_arcs, agents\n",
    "    if problem_type == \"MSPP\":\n",
    "        return set_MSPP(*params)\n",
    "    elif problem_type == \"ABP\":\n",
    "        return set_ABP(*params)\n",
    "    elif problem_type == \"NBP\":\n",
    "        return set_NBP(*params)\n"
   ]
  },
  {
   "attachments": {},
   "cell_type": "markdown",
   "metadata": {},
   "source": [
    "## Solve different scenarios"
   ]
  },
  {
   "attachments": {},
   "cell_type": "markdown",
   "metadata": {},
   "source": [
    "Define variables"
   ]
  },
  {
   "cell_type": "code",
   "execution_count": 18,
   "metadata": {},
   "outputs": [],
   "source": [
    "num_istances = 5\n",
    "\n",
    "# problem_types = [\"MSPP\",\"ABP\", \"NBP\", \"ALP\", \"NLP\", \"AQP\", \"NQP\"]\n",
    "problem_types = [\"MSPP\", \"ABP\"]\n",
    "idx_of_pb_type = dict(zip(problem_types, range(len(problem_types))))\n",
    "\n",
    "nodes = get_nodes(networks_df,\n",
    "                  fishing_from=\"cols\")\n",
    "\n",
    "# scenarios = [3, 6, 9, 12]\n",
    "scenarios = [3, 6]\n",
    "idx_of_scenario = dict(zip(scenarios, range(len(scenarios))))\n",
    "\n",
    "agents_sources = [0, 1, 2, 3, 4, 5, 0, 2, 4, 1, 3, 5]\n",
    "source_of_agent = dict(zip(range(0, len(agents_sources)), agents_sources))\n",
    "\n",
    "agents_terminus = [node + 30 for node in agents_sources]\n",
    "terminus_of_agent = dict(zip(range(0, len(agents_terminus)), agents_terminus))\n",
    "\n",
    "# TODO: Directly use dataframe to store datas (?)\n",
    "# opt_tot_distances = np.zeros(\n",
    "#     (len(problem_types), len(scenarios), num_istances))\n",
    "opt_tot_distances = np.zeros( (num_istances, len(problem_types), len(scenarios)) )\n",
    "# agent_opt_distances = np.full((len(problem_types), len(scenarios), 12, num_istances),\n",
    "#                               fill_value=np.nan)\n",
    "agent_opt_distances = np.full( (12, num_istances, len(problem_types), len(scenarios)),\n",
    "                              fill_value=np.nan)\n"
   ]
  },
  {
   "attachments": {},
   "cell_type": "markdown",
   "metadata": {},
   "source": [
    "Useful functions to analyze problems and their results "
   ]
  },
  {
   "cell_type": "code",
   "execution_count": 12,
   "metadata": {},
   "outputs": [],
   "source": [
    "def evaluate_pb_objectives(problem):\n",
    "\n",
    "    # ? Shold I check optimality\n",
    "    # * See: https://www.gurobi.com/documentation/9.5/refman/working_with_multiple_obje.html\n",
    "\n",
    "    problem.params.SolutionNumber = 0  # Set best solution found\n",
    "    opt_solution = []\n",
    "\n",
    "    # Add to opt_solution the value of each objective\n",
    "    for obj in range(problem.NumObj):\n",
    "        problem.params.ObjNumber = obj\n",
    "        opt_solution.append(problem.ObjNVal)\n",
    "\n",
    "    return opt_solution\n",
    "\n",
    "\n",
    "def evaluate_agent_distance(X, w_arcs, agent):\n",
    "    # ? Should I check that nodes in arcs == nodes in X_values\n",
    "    return sum(arc.w for arc in w_arcs if math.isclose(X.x[arc.idx, agent.idx], 1))\n"
   ]
  },
  {
   "attachments": {},
   "cell_type": "markdown",
   "metadata": {},
   "source": [
    "Solve each case"
   ]
  },
  {
   "cell_type": "code",
   "execution_count": 25,
   "metadata": {},
   "outputs": [],
   "source": [
    "# for each network istance...\n",
    "for it_i, network_arcs in enumerate(sixXsix_1000_networks(networks_df.head(num_istances))):\n",
    "    for pb_type in problem_types:  # ...and for each type of problem...\n",
    "        for num_of_agents in scenarios:  # ...solve a particular scnario\n",
    "\n",
    "            agents = [Agent(source_of_agent[i], terminus_of_agent[i], index=i)\n",
    "                      for i in range(num_of_agents)]\n",
    "\n",
    "            pb, X, *_ = set_problem(pb_type, nodes, network_arcs, agents)\n",
    "            pb.optimize()\n",
    "\n",
    "            opt_tot_distance, *_ = evaluate_pb_objectives(pb)\n",
    "            opt_tot_distances[it_i,\n",
    "                              idx_of_pb_type[pb_type],\n",
    "                              idx_of_scenario[num_of_agents]] = opt_tot_distance\n",
    "\n",
    "            for agent in agents:\n",
    "                agent_opt_distances[agent.idx,\n",
    "                                    it_i,\n",
    "                                    idx_of_pb_type[pb_type],\n",
    "                                    idx_of_scenario[num_of_agents]] = evaluate_agent_distance(X, network_arcs, agent)\n"
   ]
  },
  {
   "attachments": {},
   "cell_type": "markdown",
   "metadata": {},
   "source": [
    "## Final statistics"
   ]
  },
  {
   "cell_type": "code",
   "execution_count": 27,
   "metadata": {},
   "outputs": [
    {
     "data": {
      "text/html": [
       "<div>\n",
       "<style scoped>\n",
       "    .dataframe tbody tr th:only-of-type {\n",
       "        vertical-align: middle;\n",
       "    }\n",
       "\n",
       "    .dataframe tbody tr th {\n",
       "        vertical-align: top;\n",
       "    }\n",
       "\n",
       "    .dataframe thead th {\n",
       "        text-align: right;\n",
       "    }\n",
       "</style>\n",
       "<table border=\"1\" class=\"dataframe\">\n",
       "  <thead>\n",
       "    <tr style=\"text-align: right;\">\n",
       "      <th></th>\n",
       "      <th>3</th>\n",
       "      <th>6</th>\n",
       "    </tr>\n",
       "  </thead>\n",
       "  <tbody>\n",
       "    <tr>\n",
       "      <th>MSPP</th>\n",
       "      <td>8.721362</td>\n",
       "      <td>16.661043</td>\n",
       "    </tr>\n",
       "    <tr>\n",
       "      <th>ABP</th>\n",
       "      <td>9.253758</td>\n",
       "      <td>18.233682</td>\n",
       "    </tr>\n",
       "  </tbody>\n",
       "</table>\n",
       "</div>"
      ],
      "text/plain": [
       "             3          6\n",
       "MSPP  8.721362  16.661043\n",
       "ABP   9.253758  18.233682"
      ]
     },
     "execution_count": 27,
     "metadata": {},
     "output_type": "execute_result"
    }
   ],
   "source": [
    "mean_opt_tot_distance = np.mean(opt_tot_distances, axis=0)\n",
    "\n",
    "mean_opt_tot_distance_df = pd.DataFrame(mean_opt_tot_distance,\n",
    "                                        columns=scenarios,\n",
    "                                        index=problem_types)\n",
    "mean_opt_tot_distance_df\n"
   ]
  },
  {
   "cell_type": "code",
   "execution_count": 28,
   "metadata": {},
   "outputs": [
    {
     "data": {
      "text/plain": [
       "<matplotlib.legend.Legend at 0x7f4db44edeb0>"
      ]
     },
     "execution_count": 28,
     "metadata": {},
     "output_type": "execute_result"
    },
    {
     "data": {
      "image/png": "[encoded data removed]",
      "text/plain": [
       "<Figure size 640x480 with 1 Axes>"
      ]
     },
     "metadata": {},
     "output_type": "display_data"
    }
   ],
   "source": [
    "ax = mean_opt_tot_distance_df.plot.bar(rot=0,\n",
    "                                      xlabel=\"Penalty framework\",\n",
    "                                      ylabel=\"Mean optimal total distance\")\n",
    "ax.legend(title=\"Number of agents\",\n",
    "          bbox_to_anchor=(1, 0.5))\n"
   ]
  },
  {
   "cell_type": "code",
   "execution_count": 31,
   "metadata": {},
   "outputs": [
    {
     "data": {
      "text/html": [
       "<div>\n",
       "<style scoped>\n",
       "    .dataframe tbody tr th:only-of-type {\n",
       "        vertical-align: middle;\n",
       "    }\n",
       "\n",
       "    .dataframe tbody tr th {\n",
       "        vertical-align: top;\n",
       "    }\n",
       "\n",
       "    .dataframe thead th {\n",
       "        text-align: right;\n",
       "    }\n",
       "</style>\n",
       "<table border=\"1\" class=\"dataframe\">\n",
       "  <thead>\n",
       "    <tr style=\"text-align: right;\">\n",
       "      <th></th>\n",
       "      <th>MSPP</th>\n",
       "      <th>ABP</th>\n",
       "    </tr>\n",
       "  </thead>\n",
       "  <tbody>\n",
       "    <tr>\n",
       "      <th>3</th>\n",
       "      <td>2.907121</td>\n",
       "      <td>3.106718</td>\n",
       "    </tr>\n",
       "    <tr>\n",
       "      <th>6</th>\n",
       "      <td>2.776841</td>\n",
       "      <td>3.038947</td>\n",
       "    </tr>\n",
       "  </tbody>\n",
       "</table>\n",
       "</div>"
      ],
      "text/plain": [
       "       MSPP       ABP\n",
       "3  2.907121  3.106718\n",
       "6  2.776841  3.038947"
      ]
     },
     "execution_count": 31,
     "metadata": {},
     "output_type": "execute_result"
    }
   ],
   "source": [
    "avg_agents_opt_distances = np.nanmean(agent_opt_distances, axis=(0, 1))\n",
    "\n",
    "avg_agennts_opt_distances_df = pd.DataFrame(avg_agents_opt_distances.T,\n",
    "                                            columns=problem_types,\n",
    "                                            index=scenarios)\n",
    "\n",
    "avg_agennts_opt_distances_df.head()\n"
   ]
  }
 ],
 "metadata": {
  "kernelspec": {
   "display_name": "math_opt2021",
   "language": "python",
   "name": "python3"
  },
  "language_info": {
   "codemirror_mode": {
    "name": "ipython",
    "version": 3
   },
   "file_extension": ".py",
   "mimetype": "text/x-python",
   "name": "python",
   "nbconvert_exporter": "python",
   "pygments_lexer": "ipython3",
   "version": "3.9.12"
  },
  "orig_nbformat": 4,
  "vscode": {
   "interpreter": {
    "hash": "815aa94ff997c317b35152adf27958c1441995c12fe806fd1ec102e81253708b"
   }
  }
 },
 "nbformat": 4,
 "nbformat_minor": 2
}
