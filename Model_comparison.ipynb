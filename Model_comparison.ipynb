{
 "cells": [
  {
   "cell_type": "code",
   "execution_count": 1,
   "metadata": {},
   "outputs": [],
   "source": [
    "import numpy as np\n",
    "import pandas as pd\n",
    "import math\n",
    "\n",
    "from gurobipy import GRB\n",
    "from utils import file_reader as fr\n",
    "from utils import data_generator as dg\n",
    "from utils import problem_model as pm\n"
   ]
  },
  {
   "attachments": {},
   "cell_type": "markdown",
   "metadata": {},
   "source": [
    "# Model comparison\n",
    "\n",
    "The question we'll try to answer in this notebook is how increasing the number of agents traversing the network (i.e., network congestion) affects the optimal solutions to the different MSPP-PD variants.  \n",
    "As a first idea we can imagine that an higher number of agents that has to be routed in a network will increase the number of penalties incurred due to the higher risk of conflicts between agents' path, but later on we'll understand more deeply which are the roles of network congestion and model variant on this process.\n"
   ]
  },
  {
   "attachments": {},
   "cell_type": "markdown",
   "metadata": {},
   "source": [
    "## Read data\n",
    "\n",
    "To carry on our analysis we'll test different MSPP-PD penalty metric variants for different levels of network congestion with several network instances.  \n",
    "Each instance has the same size $(m,n) = (6,6)$, but dissimilar arc lenghts. These instances are the same as those reported in section 3.3 of the paper and have the same topology as those of the MSPP-PD(ABP) and MSPP-PD(NQP) notebooks\n"
   ]
  },
  {
   "cell_type": "code",
   "execution_count": 2,
   "metadata": {},
   "outputs": [
    {
     "data": {
      "text/html": [
       "<div>\n",
       "<style scoped>\n",
       "    .dataframe tbody tr th:only-of-type {\n",
       "        vertical-align: middle;\n",
       "    }\n",
       "\n",
       "    .dataframe tbody tr th {\n",
       "        vertical-align: top;\n",
       "    }\n",
       "\n",
       "    .dataframe thead tr th {\n",
       "        text-align: left;\n",
       "    }\n",
       "</style>\n",
       "<table border=\"1\" class=\"dataframe\">\n",
       "  <thead>\n",
       "    <tr>\n",
       "      <th></th>\n",
       "      <th colspan=\"2\" halign=\"left\">0</th>\n",
       "      <th colspan=\"3\" halign=\"left\">1</th>\n",
       "      <th colspan=\"3\" halign=\"left\">2</th>\n",
       "      <th colspan=\"2\" halign=\"left\">3</th>\n",
       "      <th>...</th>\n",
       "      <th colspan=\"2\" halign=\"left\">26</th>\n",
       "      <th colspan=\"3\" halign=\"left\">27</th>\n",
       "      <th colspan=\"3\" halign=\"left\">28</th>\n",
       "      <th colspan=\"2\" halign=\"left\">29</th>\n",
       "    </tr>\n",
       "    <tr>\n",
       "      <th></th>\n",
       "      <th>6</th>\n",
       "      <th>7</th>\n",
       "      <th>6</th>\n",
       "      <th>7</th>\n",
       "      <th>8</th>\n",
       "      <th>7</th>\n",
       "      <th>8</th>\n",
       "      <th>9</th>\n",
       "      <th>8</th>\n",
       "      <th>9</th>\n",
       "      <th>...</th>\n",
       "      <th>32</th>\n",
       "      <th>33</th>\n",
       "      <th>32</th>\n",
       "      <th>33</th>\n",
       "      <th>34</th>\n",
       "      <th>33</th>\n",
       "      <th>34</th>\n",
       "      <th>35</th>\n",
       "      <th>34</th>\n",
       "      <th>35</th>\n",
       "    </tr>\n",
       "  </thead>\n",
       "  <tbody>\n",
       "    <tr>\n",
       "      <th>it1</th>\n",
       "      <td>1.612014</td>\n",
       "      <td>1.454776</td>\n",
       "      <td>0.376347</td>\n",
       "      <td>1.263488</td>\n",
       "      <td>1.675461</td>\n",
       "      <td>0.383242</td>\n",
       "      <td>1.325470</td>\n",
       "      <td>1.502733</td>\n",
       "      <td>0.959483</td>\n",
       "      <td>1.690435</td>\n",
       "      <td>...</td>\n",
       "      <td>0.199034</td>\n",
       "      <td>1.911133</td>\n",
       "      <td>1.343548</td>\n",
       "      <td>0.238743</td>\n",
       "      <td>1.667782</td>\n",
       "      <td>1.273160</td>\n",
       "      <td>0.289610</td>\n",
       "      <td>1.523664</td>\n",
       "      <td>1.968861</td>\n",
       "      <td>1.483620</td>\n",
       "    </tr>\n",
       "    <tr>\n",
       "      <th>it2</th>\n",
       "      <td>0.345666</td>\n",
       "      <td>1.997958</td>\n",
       "      <td>1.022579</td>\n",
       "      <td>1.344409</td>\n",
       "      <td>0.335500</td>\n",
       "      <td>0.768256</td>\n",
       "      <td>0.724642</td>\n",
       "      <td>1.146472</td>\n",
       "      <td>0.726154</td>\n",
       "      <td>0.654525</td>\n",
       "      <td>...</td>\n",
       "      <td>0.126858</td>\n",
       "      <td>0.794601</td>\n",
       "      <td>1.432874</td>\n",
       "      <td>0.123810</td>\n",
       "      <td>1.866517</td>\n",
       "      <td>1.411055</td>\n",
       "      <td>1.125656</td>\n",
       "      <td>1.531357</td>\n",
       "      <td>0.725753</td>\n",
       "      <td>0.617501</td>\n",
       "    </tr>\n",
       "    <tr>\n",
       "      <th>it3</th>\n",
       "      <td>1.059043</td>\n",
       "      <td>1.866680</td>\n",
       "      <td>1.672658</td>\n",
       "      <td>0.410748</td>\n",
       "      <td>1.204280</td>\n",
       "      <td>1.351971</td>\n",
       "      <td>1.502285</td>\n",
       "      <td>0.093011</td>\n",
       "      <td>0.149816</td>\n",
       "      <td>0.665625</td>\n",
       "      <td>...</td>\n",
       "      <td>1.773551</td>\n",
       "      <td>0.360475</td>\n",
       "      <td>0.016188</td>\n",
       "      <td>1.866432</td>\n",
       "      <td>1.783597</td>\n",
       "      <td>1.205805</td>\n",
       "      <td>0.093973</td>\n",
       "      <td>1.818958</td>\n",
       "      <td>1.471756</td>\n",
       "      <td>1.272506</td>\n",
       "    </tr>\n",
       "    <tr>\n",
       "      <th>it4</th>\n",
       "      <td>0.297746</td>\n",
       "      <td>1.873162</td>\n",
       "      <td>1.144040</td>\n",
       "      <td>1.749892</td>\n",
       "      <td>0.975469</td>\n",
       "      <td>0.168817</td>\n",
       "      <td>0.553882</td>\n",
       "      <td>1.758605</td>\n",
       "      <td>1.824679</td>\n",
       "      <td>0.606143</td>\n",
       "      <td>...</td>\n",
       "      <td>1.398726</td>\n",
       "      <td>1.794652</td>\n",
       "      <td>0.178435</td>\n",
       "      <td>0.930916</td>\n",
       "      <td>0.497418</td>\n",
       "      <td>1.837166</td>\n",
       "      <td>1.315127</td>\n",
       "      <td>0.259269</td>\n",
       "      <td>1.973621</td>\n",
       "      <td>1.269510</td>\n",
       "    </tr>\n",
       "    <tr>\n",
       "      <th>it5</th>\n",
       "      <td>1.296527</td>\n",
       "      <td>1.255480</td>\n",
       "      <td>1.777435</td>\n",
       "      <td>1.812928</td>\n",
       "      <td>1.990680</td>\n",
       "      <td>0.990032</td>\n",
       "      <td>0.467010</td>\n",
       "      <td>0.629513</td>\n",
       "      <td>0.962954</td>\n",
       "      <td>0.695574</td>\n",
       "      <td>...</td>\n",
       "      <td>0.499949</td>\n",
       "      <td>0.563903</td>\n",
       "      <td>0.976726</td>\n",
       "      <td>1.407947</td>\n",
       "      <td>0.320083</td>\n",
       "      <td>0.168943</td>\n",
       "      <td>0.432240</td>\n",
       "      <td>0.193984</td>\n",
       "      <td>1.377742</td>\n",
       "      <td>0.847393</td>\n",
       "    </tr>\n",
       "  </tbody>\n",
       "</table>\n",
       "<p>5 rows × 80 columns</p>\n",
       "</div>"
      ],
      "text/plain": [
       "           0                   1                             2             \\\n",
       "           6         7         6         7         8         7         8    \n",
       "it1  1.612014  1.454776  0.376347  1.263488  1.675461  0.383242  1.325470   \n",
       "it2  0.345666  1.997958  1.022579  1.344409  0.335500  0.768256  0.724642   \n",
       "it3  1.059043  1.866680  1.672658  0.410748  1.204280  1.351971  1.502285   \n",
       "it4  0.297746  1.873162  1.144040  1.749892  0.975469  0.168817  0.553882   \n",
       "it5  1.296527  1.255480  1.777435  1.812928  1.990680  0.990032  0.467010   \n",
       "\n",
       "                     3             ...        26                  27  \\\n",
       "           9         8         9   ...        32        33        32   \n",
       "it1  1.502733  0.959483  1.690435  ...  0.199034  1.911133  1.343548   \n",
       "it2  1.146472  0.726154  0.654525  ...  0.126858  0.794601  1.432874   \n",
       "it3  0.093011  0.149816  0.665625  ...  1.773551  0.360475  0.016188   \n",
       "it4  1.758605  1.824679  0.606143  ...  1.398726  1.794652  0.178435   \n",
       "it5  0.629513  0.962954  0.695574  ...  0.499949  0.563903  0.976726   \n",
       "\n",
       "                               28                            29            \n",
       "           33        34        33        34        35        34        35  \n",
       "it1  0.238743  1.667782  1.273160  0.289610  1.523664  1.968861  1.483620  \n",
       "it2  0.123810  1.866517  1.411055  1.125656  1.531357  0.725753  0.617501  \n",
       "it3  1.866432  1.783597  1.205805  0.093973  1.818958  1.471756  1.272506  \n",
       "it4  0.930916  0.497418  1.837166  1.315127  0.259269  1.973621  1.269510  \n",
       "it5  1.407947  0.320083  0.168943  0.432240  0.193984  1.377742  0.847393  \n",
       "\n",
       "[5 rows x 80 columns]"
      ]
     },
     "execution_count": 2,
     "metadata": {},
     "output_type": "execute_result"
    }
   ],
   "source": [
    "networks_df = fr.read_networks_csv(\"data/d_it_ij_6x6_1000it.csv\",\n",
    "                                   along=\"rows\")\n",
    "\n",
    "# show some network instances\n",
    "networks_df.head()\n"
   ]
  },
  {
   "attachments": {},
   "cell_type": "markdown",
   "metadata": {},
   "source": [
    "## Manage data\n",
    "\n",
    "Here is where we define variables that we will use in our analysis\n"
   ]
  },
  {
   "attachments": {},
   "cell_type": "markdown",
   "metadata": {},
   "source": [
    "Since to analyze 1000 instances takes too long on our machine, we'll run the analysis on a subset of network instances\n"
   ]
  },
  {
   "cell_type": "code",
   "execution_count": 3,
   "metadata": {},
   "outputs": [],
   "source": [
    "num_istances = 150\n",
    "networks_df = networks_df.head(num_istances)\n",
    "\n",
    "# nodes of the network instances\n",
    "nodes = dg.get_nodes(networks_df)\n"
   ]
  },
  {
   "attachments": {},
   "cell_type": "markdown",
   "metadata": {},
   "source": [
    "Define the different MSPP-PD variants and the different level of network congestions to test.  \n",
    "For the analysis is important the number of agents relative to the number of rows. In our cases we deal with 3, 6, 9 and 12 agents.  \n",
    "Let's define the congestion level of a network as the number of agents that has to be routed divided by the number of rows of the network itself.  \n",
    "This means, for our $m=6$ networks, having congestion levels of 0.5, 1, 1.5 and 2, each of which defines a different testing scenario\n"
   ]
  },
  {
   "cell_type": "code",
   "execution_count": 4,
   "metadata": {},
   "outputs": [],
   "source": [
    "problem_types = [\"MSPP\", \"ABP\", \"NBP\", \"ALP\", \"NLP\", \"AQP\", \"NQP\"]\n",
    "idx_of_pb_type = dict(zip(problem_types, range(len(problem_types))))\n",
    "\n",
    "# level of network congestion <--> scenario (=number of agents that has to be routed)\n",
    "scenarios = [3, 6, 9, 12]\n",
    "idx_of_scenario = dict(zip(scenarios, range(len(scenarios))))\n"
   ]
  },
  {
   "attachments": {},
   "cell_type": "markdown",
   "metadata": {},
   "source": [
    "Agents' sources and termini are defined as explained in section 3.3 of the paper\n"
   ]
  },
  {
   "cell_type": "code",
   "execution_count": 5,
   "metadata": {},
   "outputs": [],
   "source": [
    "agents_sources = [0, 1, 2, 3, 4, 5, 0, 2, 4, 1, 3, 5]\n",
    "source_of_agent = dict(zip(range(0, len(agents_sources)), agents_sources))\n",
    "\n",
    "agents_terminus = [node + 30 for node in agents_sources]\n",
    "terminus_of_agent = dict(zip(range(0, len(agents_terminus)), agents_terminus))\n"
   ]
  },
  {
   "attachments": {},
   "cell_type": "markdown",
   "metadata": {},
   "source": [
    "And finally we define the variables to store the different _problem type-scenario_ results of the single network instances\n"
   ]
  },
  {
   "cell_type": "code",
   "execution_count": 6,
   "metadata": {},
   "outputs": [],
   "source": [
    "# stores the total distance traveled by agent for a given (instance, pb_type, scenario) combination\n",
    "opt_tot_distances_shape = (num_istances, len(problem_types), len(scenarios))\n",
    "opt_tot_distances = np.zeros(opt_tot_distances_shape)\n",
    "\n",
    "# store the distance traveled by each agent for a given (instance, pb_type, scenario) combination\n",
    "agents_opt_distances_shape = (  # 12 bcs we have at most 12 agents to route\n",
    "    12, num_istances, len(problem_types), len(scenarios))\n",
    "agents_opt_distances = np.full(agents_opt_distances_shape,\n",
    "                               fill_value=np.nan)\n"
   ]
  },
  {
   "attachments": {},
   "cell_type": "markdown",
   "metadata": {},
   "source": [
    "## Solve problems"
   ]
  },
  {
   "attachments": {},
   "cell_type": "markdown",
   "metadata": {},
   "source": [
    "Let's define a useful function to retrieve the distance covered by a single agent\n"
   ]
  },
  {
   "cell_type": "code",
   "execution_count": 7,
   "metadata": {},
   "outputs": [],
   "source": [
    "def evaluate_agent_distance(X, w_arcs, agent):\n",
    "    \"\"\"Gets the distance traveled by an agent\n",
    "\n",
    "    Args:\n",
    "        X (gb.MVar): X decision variables of a MSPP or MSPP-PD\n",
    "        w_arcs (list): list of WArc that compose the network\n",
    "        agent (Agent): the agent for which to compute the distance traveled\n",
    "\n",
    "    Returns:\n",
    "        float: distance covered by the agent\n",
    "    \"\"\"\n",
    "    return sum(arc.w for arc in w_arcs if math.isclose(X.x[arc.idx, agent.idx], 1))\n"
   ]
  },
  {
   "attachments": {},
   "cell_type": "markdown",
   "metadata": {},
   "source": [
    "Solve each case (weights for the 2 objectives remain the same for each case and are fixed at $(w_d, w_p) = (1,1)$)\n"
   ]
  },
  {
   "cell_type": "code",
   "execution_count": null,
   "metadata": {},
   "outputs": [],
   "source": [
    "# skip this cell if you want to use pre-computed results\n",
    "\n",
    "# for each network istance...\n",
    "for it_i, network_arcs in enumerate(dg.network_instances(networks_df)):\n",
    "\n",
    "    print(f\"Solving problems for instance {it_i}...\")\n",
    "\n",
    "    for pb_type in problem_types:  # ...and for each type of problem...\n",
    "        for num_of_agents in scenarios:  # ...solve a particular scenario\n",
    "\n",
    "            # define the agents for the scenario\n",
    "            agents = [dg.Agent(source_of_agent[i], terminus_of_agent[i], index=i)\n",
    "                      for i in range(num_of_agents)]\n",
    "\n",
    "            # set-up and solve the problem\n",
    "            pb, X, *_ = pm.set_problem(pb_type, nodes, network_arcs, agents)\n",
    "            pb.optimize()\n",
    "\n",
    "            if pb.status != GRB.OPTIMAL:\n",
    "                print(f\"AAA: A {pb_type} problem on the network {it_i=} with {num_of_agents} agents encounterd problems\")\n",
    "\n",
    "            # retrieve results in which we are interested\n",
    "            opt_tot_distance, *_ = pm.evaluate_pb_objectives(pb)\n",
    "            opt_tot_distances[it_i,\n",
    "                              idx_of_pb_type[pb_type],\n",
    "                              idx_of_scenario[num_of_agents]] = opt_tot_distance\n",
    "\n",
    "            for agent in agents:\n",
    "                agents_opt_distances[agent.idx,\n",
    "                                     it_i,\n",
    "                                     idx_of_pb_type[pb_type],\n",
    "                                     idx_of_scenario[num_of_agents]] = evaluate_agent_distance(X, network_arcs, agent)\n"
   ]
  },
  {
   "attachments": {},
   "cell_type": "markdown",
   "metadata": {},
   "source": [
    "If desired we can store results in order to avoid waiting for computations each time we run the notebook\n"
   ]
  },
  {
   "cell_type": "code",
   "execution_count": null,
   "metadata": {},
   "outputs": [],
   "source": [
    "# np.save(\n",
    "#     f\"results/models_opt_total_distances_{num_istances}.npy\", opt_tot_distances)\n",
    "\n",
    "# np.save(\n",
    "#     f\"results/agent_opt_distances_{num_istances}.npy\", agents_opt_distances)\n"
   ]
  },
  {
   "attachments": {},
   "cell_type": "markdown",
   "metadata": {},
   "source": [
    "## Final statistics\n",
    "\n",
    "In this final part we'll look at the result obtained and we'll draw some conclusions about them\n",
    "  "
   ]
  },
  {
   "attachments": {},
   "cell_type": "markdown",
   "metadata": {},
   "source": [
    "If wanted we can load the stored results and rely on them\n"
   ]
  },
  {
   "cell_type": "code",
   "execution_count": 8,
   "metadata": {},
   "outputs": [],
   "source": [
    "opt_tot_distances = np.load(\n",
    "    f\"results/models_opt_total_distances_{num_istances}.npy\")\n",
    "\n",
    "agents_opt_distances = np.load(\n",
    "    f\"results/agent_opt_distances_{num_istances}.npy\")\n"
   ]
  },
  {
   "attachments": {},
   "cell_type": "markdown",
   "metadata": {},
   "source": [
    "To identify which model is creating longer paths to avoid path conflict penalties we can compute the mean of total distance travelled over the different instances and then compare any 2 models' solutions for a given network congestion level\n"
   ]
  },
  {
   "cell_type": "code",
   "execution_count": 9,
   "metadata": {},
   "outputs": [
    {
     "data": {
      "text/html": [
       "<div>\n",
       "<style scoped>\n",
       "    .dataframe tbody tr th:only-of-type {\n",
       "        vertical-align: middle;\n",
       "    }\n",
       "\n",
       "    .dataframe tbody tr th {\n",
       "        vertical-align: top;\n",
       "    }\n",
       "\n",
       "    .dataframe thead th {\n",
       "        text-align: right;\n",
       "    }\n",
       "</style>\n",
       "<table border=\"1\" class=\"dataframe\">\n",
       "  <thead>\n",
       "    <tr style=\"text-align: right;\">\n",
       "      <th></th>\n",
       "      <th>3</th>\n",
       "      <th>6</th>\n",
       "      <th>9</th>\n",
       "      <th>12</th>\n",
       "    </tr>\n",
       "  </thead>\n",
       "  <tbody>\n",
       "    <tr>\n",
       "      <th>MSPP</th>\n",
       "      <td>8.178532</td>\n",
       "      <td>16.521932</td>\n",
       "      <td>24.821808</td>\n",
       "      <td>33.043865</td>\n",
       "    </tr>\n",
       "    <tr>\n",
       "      <th>ABP</th>\n",
       "      <td>8.714703</td>\n",
       "      <td>18.077787</td>\n",
       "      <td>29.374148</td>\n",
       "      <td>38.700132</td>\n",
       "    </tr>\n",
       "    <tr>\n",
       "      <th>NBP</th>\n",
       "      <td>9.215473</td>\n",
       "      <td>18.411961</td>\n",
       "      <td>26.858789</td>\n",
       "      <td>34.952128</td>\n",
       "    </tr>\n",
       "    <tr>\n",
       "      <th>ALP</th>\n",
       "      <td>8.754724</td>\n",
       "      <td>18.138159</td>\n",
       "      <td>31.582024</td>\n",
       "      <td>45.155498</td>\n",
       "    </tr>\n",
       "    <tr>\n",
       "      <th>NLP</th>\n",
       "      <td>9.313441</td>\n",
       "      <td>19.479118</td>\n",
       "      <td>27.917032</td>\n",
       "      <td>35.966863</td>\n",
       "    </tr>\n",
       "    <tr>\n",
       "      <th>AQP</th>\n",
       "      <td>8.754724</td>\n",
       "      <td>18.138159</td>\n",
       "      <td>31.628713</td>\n",
       "      <td>45.517706</td>\n",
       "    </tr>\n",
       "    <tr>\n",
       "      <th>NQP</th>\n",
       "      <td>9.313441</td>\n",
       "      <td>19.580366</td>\n",
       "      <td>29.826897</td>\n",
       "      <td>41.092457</td>\n",
       "    </tr>\n",
       "  </tbody>\n",
       "</table>\n",
       "</div>"
      ],
      "text/plain": [
       "            3          6          9          12\n",
       "MSPP  8.178532  16.521932  24.821808  33.043865\n",
       "ABP   8.714703  18.077787  29.374148  38.700132\n",
       "NBP   9.215473  18.411961  26.858789  34.952128\n",
       "ALP   8.754724  18.138159  31.582024  45.155498\n",
       "NLP   9.313441  19.479118  27.917032  35.966863\n",
       "AQP   8.754724  18.138159  31.628713  45.517706\n",
       "NQP   9.313441  19.580366  29.826897  41.092457"
      ]
     },
     "execution_count": 9,
     "metadata": {},
     "output_type": "execute_result"
    }
   ],
   "source": [
    "mean_opt_tot_distance = np.mean(opt_tot_distances, axis=0)\n",
    "\n",
    "mean_opt_tot_distance_df = pd.DataFrame(mean_opt_tot_distance,\n",
    "                                        columns=scenarios,\n",
    "                                        index=problem_types)\n",
    "mean_opt_tot_distance_df\n"
   ]
  },
  {
   "cell_type": "code",
   "execution_count": 10,
   "metadata": {},
   "outputs": [
    {
     "data": {
      "text/plain": [
       "<matplotlib.legend.Legend at 0x7f268a31ea60>"
      ]
     },
     "execution_count": 10,
     "metadata": {},
     "output_type": "execute_result"
    },
    {
     "data": {
      "image/png": "[encoded data removed]",
      "text/plain": [
       "<Figure size 640x480 with 1 Axes>"
      ]
     },
     "metadata": {},
     "output_type": "display_data"
    }
   ],
   "source": [
    "ax = mean_opt_tot_distance_df.plot.bar(rot=0,\n",
    "                                       xlabel=\"Penalty framework\",\n",
    "                                       ylabel=\"Mean optimal total distance\")\n",
    "\n",
    "# add horiz. lines at step of 5 for better visualization\n",
    "start, end = ax.get_ylim()\n",
    "ax.yaxis.set_ticks(np.arange(start, end, 5))\n",
    "ax.grid(axis=\"y\", alpha=0.3)\n",
    "ax.set_axisbelow(True)\n",
    "\n",
    "# add legend\n",
    "ax.legend(title=\"Number of agents\",\n",
    "          bbox_to_anchor=(1, 0.5))\n"
   ]
  },
  {
   "attachments": {},
   "cell_type": "markdown",
   "metadata": {},
   "source": [
    "By looking at the bar plot we can say that the relationship between the model variants over different levels of network congestion is dynamic in the sense that the degree to wich each of the models' mean optimal total distance travelled differs relative to the MSPP solution changes as congestion level changes.  \n",
    "For instance the greatest mean difference in the 6-agent scenario is the MSPP(PD)-NQP, but it is MSPP-PD(AQP) for the 9-gent case.  \n",
    "\n",
    "We can additionaly note that the incerases in difference in mean, that coincide with the increases in network congestion, indicate that certain MSPP-PD variants may not incentivize path deconfliction for highly congested networks\n"
   ]
  },
  {
   "attachments": {},
   "cell_type": "markdown",
   "metadata": {},
   "source": [
    "Indeed when conflict penalties become unavoidable, the objective of minimizing distance dominates the optimal solution for certain models as distance-minimizing paths are exploited to overcome path conflict penalties that are not weighted heavily in comparison, as can be seen on the following table.  \n"
   ]
  },
  {
   "cell_type": "code",
   "execution_count": 11,
   "metadata": {},
   "outputs": [
    {
     "name": "stdout",
     "output_type": "stream",
     "text": [
      "Average agent distance travelled for each (problem type-scenario) combination:\n"
     ]
    },
    {
     "data": {
      "text/html": [
       "<div>\n",
       "<style scoped>\n",
       "    .dataframe tbody tr th:only-of-type {\n",
       "        vertical-align: middle;\n",
       "    }\n",
       "\n",
       "    .dataframe tbody tr th {\n",
       "        vertical-align: top;\n",
       "    }\n",
       "\n",
       "    .dataframe thead th {\n",
       "        text-align: right;\n",
       "    }\n",
       "</style>\n",
       "<table border=\"1\" class=\"dataframe\">\n",
       "  <thead>\n",
       "    <tr style=\"text-align: right;\">\n",
       "      <th></th>\n",
       "      <th>MSPP</th>\n",
       "      <th>ABP</th>\n",
       "      <th>NBP</th>\n",
       "      <th>ALP</th>\n",
       "      <th>NLP</th>\n",
       "      <th>AQP</th>\n",
       "      <th>NQP</th>\n",
       "    </tr>\n",
       "  </thead>\n",
       "  <tbody>\n",
       "    <tr>\n",
       "      <th>3</th>\n",
       "      <td>2.726177</td>\n",
       "      <td>2.904901</td>\n",
       "      <td>3.071824</td>\n",
       "      <td>2.918241</td>\n",
       "      <td>3.104480</td>\n",
       "      <td>2.918241</td>\n",
       "      <td>3.104480</td>\n",
       "    </tr>\n",
       "    <tr>\n",
       "      <th>6</th>\n",
       "      <td>2.753655</td>\n",
       "      <td>3.009539</td>\n",
       "      <td>3.068660</td>\n",
       "      <td>3.023027</td>\n",
       "      <td>3.246520</td>\n",
       "      <td>3.023027</td>\n",
       "      <td>3.256811</td>\n",
       "    </tr>\n",
       "    <tr>\n",
       "      <th>9</th>\n",
       "      <td>2.757979</td>\n",
       "      <td>3.192843</td>\n",
       "      <td>2.928355</td>\n",
       "      <td>3.509114</td>\n",
       "      <td>3.101892</td>\n",
       "      <td>3.499713</td>\n",
       "      <td>3.314100</td>\n",
       "    </tr>\n",
       "    <tr>\n",
       "      <th>12</th>\n",
       "      <td>2.753655</td>\n",
       "      <td>3.167899</td>\n",
       "      <td>2.851470</td>\n",
       "      <td>3.762958</td>\n",
       "      <td>2.995170</td>\n",
       "      <td>3.766495</td>\n",
       "      <td>3.292988</td>\n",
       "    </tr>\n",
       "  </tbody>\n",
       "</table>\n",
       "</div>"
      ],
      "text/plain": [
       "        MSPP       ABP       NBP       ALP       NLP       AQP       NQP\n",
       "3   2.726177  2.904901  3.071824  2.918241  3.104480  2.918241  3.104480\n",
       "6   2.753655  3.009539  3.068660  3.023027  3.246520  3.023027  3.256811\n",
       "9   2.757979  3.192843  2.928355  3.509114  3.101892  3.499713  3.314100\n",
       "12  2.753655  3.167899  2.851470  3.762958  2.995170  3.766495  3.292988"
      ]
     },
     "execution_count": 11,
     "metadata": {},
     "output_type": "execute_result"
    }
   ],
   "source": [
    "avg_agents_opt_distances = np.nanmean(agents_opt_distances, axis=(0, 1))\n",
    "\n",
    "avg_agents_opt_distances_df = pd.DataFrame(avg_agents_opt_distances.T,\n",
    "                                            columns=problem_types,\n",
    "                                            index=scenarios)\n",
    "\n",
    "print(\"Average agent distance travelled for each (problem type-scenario) combination:\")\n",
    "avg_agents_opt_distances_df.head()\n"
   ]
  },
  {
   "attachments": {},
   "cell_type": "markdown",
   "metadata": {},
   "source": [
    "As can be seen the MSPP-PD(ABP), MSPP-PD(NBP), MSPP-PD(NLP) and MSPP-PD(NQP) model variants' average agent path length decreases after a certain level of network congestion, thus demonstrates the last statement we made (in particular this can be seen when passing from 9 to 12 agents).  \n",
    "MSPP-PD(ALP) and MSPP-PD(AQP), on the other hand, tends to deconflict agents' paths \"more\" than other variants for a given congestion level as can be seen from the strictly increase of the average agent distance travelled for increasing level of congestion.  \n",
    "So we can conclude that if path deconfliction is more important than distances travelled and we do not want to specifically adjust the weights of the objective functions we should select ALP or AQP model variants.\n"
   ]
  },
  {
   "attachments": {},
   "cell_type": "markdown",
   "metadata": {},
   "source": [
    "---\n",
    "\n",
    "Note: the results we've reported are slightly different from those reported in paper, but this may be due to the lower number of network instances on which we've computed the averages.\n"
   ]
  }
 ],
 "metadata": {
  "kernelspec": {
   "display_name": "math_opt2021",
   "language": "python",
   "name": "python3"
  },
  "language_info": {
   "codemirror_mode": {
    "name": "ipython",
    "version": 3
   },
   "file_extension": ".py",
   "mimetype": "text/x-python",
   "name": "python",
   "nbconvert_exporter": "python",
   "pygments_lexer": "ipython3",
   "version": "3.9.12"
  },
  "orig_nbformat": 4,
  "vscode": {
   "interpreter": {
    "hash": "815aa94ff997c317b35152adf27958c1441995c12fe806fd1ec102e81253708b"
   }
  }
 },
 "nbformat": 4,
 "nbformat_minor": 2
}
