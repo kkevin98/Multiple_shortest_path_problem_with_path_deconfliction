{
 "cells": [
  {
   "attachments": {},
   "cell_type": "markdown",
   "metadata": {},
   "source": [
    "# First MSSP example"
   ]
  },
  {
   "cell_type": "code",
   "execution_count": 1,
   "metadata": {},
   "outputs": [],
   "source": [
    "import gurobipy as gb\n",
    "from gurobipy import GRB\n",
    "import pandas as pd\n",
    "import numpy as np\n",
    "import math\n",
    "from collections import namedtuple"
   ]
  },
  {
   "attachments": {},
   "cell_type": "markdown",
   "metadata": {},
   "source": [
    "## Manage datas"
   ]
  },
  {
   "attachments": {},
   "cell_type": "markdown",
   "metadata": {},
   "source": [
    "Read the synthetic instance of Section 3.2"
   ]
  },
  {
   "cell_type": "code",
   "execution_count": 2,
   "metadata": {},
   "outputs": [
    {
     "data": {
      "text/html": [
       "<div>\n",
       "<style scoped>\n",
       "    .dataframe tbody tr th:only-of-type {\n",
       "        vertical-align: middle;\n",
       "    }\n",
       "\n",
       "    .dataframe tbody tr th {\n",
       "        vertical-align: top;\n",
       "    }\n",
       "\n",
       "    .dataframe thead th {\n",
       "        text-align: right;\n",
       "    }\n",
       "</style>\n",
       "<table border=\"1\" class=\"dataframe\">\n",
       "  <thead>\n",
       "    <tr style=\"text-align: right;\">\n",
       "      <th></th>\n",
       "      <th></th>\n",
       "      <th>it1</th>\n",
       "    </tr>\n",
       "  </thead>\n",
       "  <tbody>\n",
       "    <tr>\n",
       "      <th rowspan=\"2\" valign=\"top\">1</th>\n",
       "      <th>6</th>\n",
       "      <td>3.0</td>\n",
       "    </tr>\n",
       "    <tr>\n",
       "      <th>7</th>\n",
       "      <td>1.0</td>\n",
       "    </tr>\n",
       "    <tr>\n",
       "      <th rowspan=\"3\" valign=\"top\">2</th>\n",
       "      <th>6</th>\n",
       "      <td>1.0</td>\n",
       "    </tr>\n",
       "    <tr>\n",
       "      <th>7</th>\n",
       "      <td>1.0</td>\n",
       "    </tr>\n",
       "    <tr>\n",
       "      <th>8</th>\n",
       "      <td>1.0</td>\n",
       "    </tr>\n",
       "  </tbody>\n",
       "</table>\n",
       "</div>"
      ],
      "text/plain": [
       "     it1\n",
       "1 6  3.0\n",
       "  7  1.0\n",
       "2 6  1.0\n",
       "  7  1.0\n",
       "  8  1.0"
      ]
     },
     "execution_count": 2,
     "metadata": {},
     "output_type": "execute_result"
    }
   ],
   "source": [
    "nodes_number = 25\n",
    "agents_number = 4\n",
    "synthetic_5x5_df = pd.read_csv(\"data/d_it_ij_5x5_1it.csv\",\n",
    "                               index_col=[0,1],\n",
    "                               decimal=\",\")\n",
    "\n",
    "synthetic_5x5_df.head()"
   ]
  },
  {
   "attachments": {},
   "cell_type": "markdown",
   "metadata": {},
   "source": [
    "Set up datas that will be used to solve the problem"
   ]
  },
  {
   "cell_type": "code",
   "execution_count": 3,
   "metadata": {},
   "outputs": [],
   "source": [
    "def get_nodes(networks_df, fishing_from):\n",
    "\n",
    "    if fishing_from == \"cols\":\n",
    "        starting_nodes = networks_df.columns.get_level_values(0)\n",
    "        ending_nodes = networks_df.columns.get_level_values(1)\n",
    "    elif fishing_from == \"indx\":\n",
    "        starting_nodes = networks_df.index.get_level_values(0)\n",
    "        ending_nodes = networks_df.index.get_level_values(1)\n",
    "\n",
    "    return starting_nodes.union(ending_nodes).unique().tolist()"
   ]
  },
  {
   "cell_type": "code",
   "execution_count": 4,
   "metadata": {},
   "outputs": [],
   "source": [
    "WArc = namedtuple(\"WArc\", [\"i\", \"j\", \"w\"])\n",
    "w_arcs = [WArc(*arc, weight) for (arc, weight) in synthetic_5x5_df.itertuples()]\n",
    "idx_of_arc = dict(zip(w_arcs, range(len(w_arcs))))\n",
    "\n",
    "nodes = get_nodes(synthetic_5x5_df,\n",
    "                  fishing_from=\"indx\")\n",
    "\n",
    "agents = [agent for agent in range(1, agents_number+1)]\n",
    "idx_of_agent = dict(zip(agents, range(len(agents))))\n",
    "\n",
    "agents_sources = [1, 3, 4, 5]\n",
    "source_of_agent = dict(zip(agents, agents_sources))\n",
    "\n",
    "agents_terminus = [21, 23, 24, 25]\n",
    "terminus_of_agent = dict(zip(agents, agents_terminus))"
   ]
  },
  {
   "attachments": {},
   "cell_type": "markdown",
   "metadata": {},
   "source": [
    "## Manage the problem"
   ]
  },
  {
   "attachments": {},
   "cell_type": "markdown",
   "metadata": {},
   "source": [
    "Create the problem"
   ]
  },
  {
   "cell_type": "code",
   "execution_count": 5,
   "metadata": {},
   "outputs": [
    {
     "name": "stdout",
     "output_type": "stream",
     "text": [
      "Set parameter Username\n",
      "Academic license - for non-commercial use only - expires 2023-12-10\n"
     ]
    }
   ],
   "source": [
    "MSPP_pb = gb.Model(\"First MSPP\")\n",
    "MSPP_pb.setParam(\"OutputFlag\", 0)"
   ]
  },
  {
   "cell_type": "markdown",
   "metadata": {},
   "source": [
    "Define decision variables"
   ]
  },
  {
   "cell_type": "code",
   "execution_count": 6,
   "metadata": {},
   "outputs": [],
   "source": [
    "var_shape = len(w_arcs), len(agents)\n",
    "\n",
    "X = MSPP_pb.addMVar(var_shape,\n",
    "                    vtype=GRB.BINARY,  # 5) Binary constraints\n",
    "                    name=\"k-th agent traverse arc (i,j)\")\n"
   ]
  },
  {
   "attachments": {},
   "cell_type": "markdown",
   "metadata": {},
   "source": [
    "Define the objective function"
   ]
  },
  {
   "cell_type": "code",
   "execution_count": 7,
   "metadata": {},
   "outputs": [],
   "source": [
    "# 1-3) Objective function\n",
    "MSPP_pb.setObjective(\n",
    "    gb.quicksum(\n",
    "        arc.w * X[idx_of_arc[arc], idx_of_agent[k]]\n",
    "        for arc in w_arcs for k in agents\n",
    "    ),\n",
    "    GRB.MINIMIZE\n",
    ")"
   ]
  },
  {
   "attachments": {},
   "cell_type": "markdown",
   "metadata": {},
   "source": [
    "Add constraints"
   ]
  },
  {
   "cell_type": "code",
   "execution_count": 8,
   "metadata": {},
   "outputs": [],
   "source": [
    "# 4) Flow constraints\n",
    "\n",
    "def compute_flow(X, node, w_arcs, agent):\n",
    "    flow_out = gb.quicksum(\n",
    "        X[idx_of_arc[arc], idx_of_agent[agent]]\n",
    "        for arc in w_arcs if arc.i == node\n",
    "    )\n",
    "    flow_in = gb.quicksum(\n",
    "        X[idx_of_arc[arc], idx_of_agent[agent]]\n",
    "        for arc in w_arcs if arc.j == node\n",
    "    )\n",
    "    return flow_out - flow_in\n",
    "\n",
    "\n",
    "for k in agents:\n",
    "    for i in nodes:\n",
    "        if i == source_of_agent[k]:\n",
    "            MSPP_pb.addConstr(compute_flow(X, i, w_arcs, k) == 1,\n",
    "                              name=f\"Flow constr related to agent {k} in node {i}\")\n",
    "        elif i == terminus_of_agent[k]:\n",
    "            MSPP_pb.addConstr(compute_flow(X, i, w_arcs, k) == -1,\n",
    "                              name=f\"Flow constr related to agent {k} in node {i}\")\n",
    "        else:\n",
    "            MSPP_pb.addConstr(compute_flow(X, i, w_arcs, k) == 0,\n",
    "                              name=f\"Flow constr related to agent {k} in node {i}\")\n"
   ]
  },
  {
   "attachments": {},
   "cell_type": "markdown",
   "metadata": {},
   "source": [
    "Solve the problem"
   ]
  },
  {
   "cell_type": "code",
   "execution_count": 9,
   "metadata": {},
   "outputs": [],
   "source": [
    "MSPP_pb.optimize()"
   ]
  },
  {
   "attachments": {},
   "cell_type": "markdown",
   "metadata": {},
   "source": [
    "Report results"
   ]
  },
  {
   "cell_type": "code",
   "execution_count": 10,
   "metadata": {},
   "outputs": [
    {
     "name": "stdout",
     "output_type": "stream",
     "text": [
      "Result of the optimization is:\n",
      "optimal\n"
     ]
    }
   ],
   "source": [
    "print(\"Result of the optimization is:\")\n",
    "if MSPP_pb.Status == 2:\n",
    "    print(\"optimal\")\n",
    "elif MSPP_pb.Status == 3:\n",
    "    print(\"infeasible\")\n",
    "elif MSPP_pb.Status == 5:\n",
    "    print(\"unbounded\")\n",
    "else:\n",
    "    print(\"Some other return status\")"
   ]
  },
  {
   "cell_type": "code",
   "execution_count": 11,
   "metadata": {},
   "outputs": [
    {
     "name": "stdout",
     "output_type": "stream",
     "text": [
      "Minimum distance covered is 16.0\n"
     ]
    }
   ],
   "source": [
    "print(f\"Minimum distance covered is {MSPP_pb.ObjVal}\")"
   ]
  },
  {
   "cell_type": "code",
   "execution_count": 12,
   "metadata": {},
   "outputs": [
    {
     "name": "stdout",
     "output_type": "stream",
     "text": [
      "Agent 1 will follow the path:\n",
      "1->7\t7->13\t13->17\t17->21\t\n",
      "Agent 2 will follow the path:\n",
      "3->8\t8->13\t13->18\t18->23\t\n",
      "Agent 3 will follow the path:\n",
      "4->8\t8->13\t13->18\t18->24\t\n",
      "Agent 4 will follow the path:\n",
      "5->9\t9->15\t15->19\t19->25\t\n"
     ]
    }
   ],
   "source": [
    "for k in agents:\n",
    "    print(f\"Agent {k} will follow the path:\")\n",
    "    for arc in w_arcs:\n",
    "        if math.isclose(X.x[idx_of_arc[arc], idx_of_agent[k]], 1):\n",
    "            print(f\"{arc.i}->{arc.j}\", end=\"\\t\")\n",
    "    print()\n"
   ]
  }
 ],
 "metadata": {
  "kernelspec": {
   "display_name": "math_opt2021",
   "language": "python",
   "name": "python3"
  },
  "language_info": {
   "codemirror_mode": {
    "name": "ipython",
    "version": 3
   },
   "file_extension": ".py",
   "mimetype": "text/x-python",
   "name": "python",
   "nbconvert_exporter": "python",
   "pygments_lexer": "ipython3",
   "version": "3.9.12"
  },
  "orig_nbformat": 4,
  "vscode": {
   "interpreter": {
    "hash": "815aa94ff997c317b35152adf27958c1441995c12fe806fd1ec102e81253708b"
   }
  }
 },
 "nbformat": 4,
 "nbformat_minor": 2
}
