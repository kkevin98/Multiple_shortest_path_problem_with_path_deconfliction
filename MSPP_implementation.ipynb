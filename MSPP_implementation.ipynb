{
 "cells": [
  {
   "cell_type": "code",
   "execution_count": 1,
   "metadata": {},
   "outputs": [],
   "source": [
    "import gurobipy as gb\n",
    "import numpy as np\n",
    "import math\n",
    "\n",
    "from gurobipy import GRB\n",
    "from utils import file_reader as fr\n",
    "from utils import data_generator as dg\n",
    "from utils import data_visualizer as dv\n"
   ]
  },
  {
   "attachments": {},
   "cell_type": "markdown",
   "metadata": {},
   "source": [
    "# First MSSP example\n",
    "\n",
    "The paper is based on the comparison of different variants of the __Multiple Shortest Path Problem with Path Deconfliction (MSPP-PD)__, a problem that seeks to route $n$ agents between respective source nodes ($s_k \\; \\text{for} \\; k = 1,...,n$) and terminus nodes ($t_k \\; \\text{for} \\; k=1,...,n$) over a directed network to minimize both the total distance travelled and the degree to which the respective agent's path conflict.\n",
    "\n",
    "Before studying these variants we show how to formulate and solve a __Multiple Shortest Path Problem (MSPP)__ that is the same problem as the MSPP-PD, but it does not care about the agent's path conflicts.\n",
    "\n",
    "What follow is based on section 3.2 of the paper\n"
   ]
  },
  {
   "cell_type": "markdown",
   "metadata": {},
   "source": [
    "## Read Data\n",
    "\n",
    "In this section we read the file containing the netwoork instance that we'll use to solve the MSPP.  \n",
    "This instance is the one shown in Fig. 5 in section 3.2 of the paper\n"
   ]
  },
  {
   "cell_type": "code",
   "execution_count": 2,
   "metadata": {},
   "outputs": [
    {
     "data": {
      "text/html": [
       "<div>\n",
       "<style scoped>\n",
       "    .dataframe tbody tr th:only-of-type {\n",
       "        vertical-align: middle;\n",
       "    }\n",
       "\n",
       "    .dataframe tbody tr th {\n",
       "        vertical-align: top;\n",
       "    }\n",
       "\n",
       "    .dataframe thead th {\n",
       "        text-align: right;\n",
       "    }\n",
       "</style>\n",
       "<table border=\"1\" class=\"dataframe\">\n",
       "  <thead>\n",
       "    <tr style=\"text-align: right;\">\n",
       "      <th></th>\n",
       "      <th></th>\n",
       "      <th>it1</th>\n",
       "    </tr>\n",
       "  </thead>\n",
       "  <tbody>\n",
       "    <tr>\n",
       "      <th rowspan=\"2\" valign=\"top\">0</th>\n",
       "      <th>5</th>\n",
       "      <td>3.0</td>\n",
       "    </tr>\n",
       "    <tr>\n",
       "      <th>6</th>\n",
       "      <td>1.0</td>\n",
       "    </tr>\n",
       "    <tr>\n",
       "      <th rowspan=\"3\" valign=\"top\">1</th>\n",
       "      <th>5</th>\n",
       "      <td>1.0</td>\n",
       "    </tr>\n",
       "    <tr>\n",
       "      <th>6</th>\n",
       "      <td>1.0</td>\n",
       "    </tr>\n",
       "    <tr>\n",
       "      <th>7</th>\n",
       "      <td>1.0</td>\n",
       "    </tr>\n",
       "  </tbody>\n",
       "</table>\n",
       "</div>"
      ],
      "text/plain": [
       "     it1\n",
       "0 5  3.0\n",
       "  6  1.0\n",
       "1 5  1.0\n",
       "  6  1.0\n",
       "  7  1.0"
      ]
     },
     "execution_count": 2,
     "metadata": {},
     "output_type": "execute_result"
    }
   ],
   "source": [
    "synthetic_5x5_df = fr.read_networks_csv(\"data/d_it_ij_5x5_1it.csv\",\n",
    "                                        along=\"cols\")\n",
    "\n",
    "# show some arcs with related weights of the network\n",
    "synthetic_5x5_df.T.head()\n"
   ]
  },
  {
   "cell_type": "markdown",
   "metadata": {},
   "source": [
    "## Manage data\n",
    "\n",
    "In this section we define the variables that we'll use to formulate and solve the MSPP problem starting from the dataframe containing the network instance\n"
   ]
  },
  {
   "cell_type": "code",
   "execution_count": 3,
   "metadata": {},
   "outputs": [],
   "source": [
    "# nodes in the network\n",
    "nodes = dg.get_nodes(synthetic_5x5_df)\n",
    "network_shape = (5,5)\n",
    "nodes_grid = np.array(nodes).reshape(network_shape).T\n",
    "\n",
    "  \n",
    "# weighted arcs in the network\n",
    "# the weight of each arc represents the ditance between 2 nodes\n",
    "w_arcs = [dg.WArc(i, j, synthetic_5x5_df.loc[\"it1\", (i, j)], idx)\n",
    "          for idx, (i, j) in enumerate(synthetic_5x5_df.columns)]\n",
    "\n",
    "\n",
    "# agets that has to be routed\n",
    "agents_sources = [0, 2, 3, 4]\n",
    "agents_terminus = [20, 22, 23, 24]\n",
    "agents_idxs = [0, 1, 2, 3]\n",
    "agents = [dg.Agent(s, t, idx) for s, t, idx in zip(\n",
    "    agents_sources, agents_terminus, agents_idxs)]\n"
   ]
  },
  {
   "cell_type": "markdown",
   "metadata": {},
   "source": [
    "## Problem formulation and solution\n",
    "\n",
    "In this section we formulate and solve the MSPP problem using Gurobi.  \n",
    "The formulations follows the one reported in section 2.2 of the paper\n"
   ]
  },
  {
   "cell_type": "markdown",
   "metadata": {},
   "source": [
    "Create the problem"
   ]
  },
  {
   "cell_type": "code",
   "execution_count": 4,
   "metadata": {},
   "outputs": [
    {
     "name": "stdout",
     "output_type": "stream",
     "text": [
      "Set parameter Username\n",
      "Academic license - for non-commercial use only - expires 2023-12-10\n"
     ]
    }
   ],
   "source": [
    "MSPP_pb = gb.Model(\"First MSPP\")\n",
    "# MSPP_pb.setParam(\"OutputFlag\", 0)"
   ]
  },
  {
   "cell_type": "markdown",
   "metadata": {},
   "source": [
    "Define decision variables"
   ]
  },
  {
   "cell_type": "code",
   "execution_count": 5,
   "metadata": {},
   "outputs": [],
   "source": [
    "var_shape = len(w_arcs), len(agents)\n",
    "\n",
    "X = MSPP_pb.addMVar(var_shape,\n",
    "                    vtype=GRB.BINARY,  # 5) Binary constraints\n",
    "                    name=\"X\")\n"
   ]
  },
  {
   "cell_type": "markdown",
   "metadata": {},
   "source": [
    "Define the objective function.  \n",
    "In the MSPP we penalize solutions that makes agents travel higher distances"
   ]
  },
  {
   "cell_type": "code",
   "execution_count": 6,
   "metadata": {},
   "outputs": [],
   "source": [
    "# 1) Objective function\n",
    "MSPP_pb.setObjective(\n",
    "    gb.quicksum(\n",
    "        arc.w * X[arc.idx, agent.idx]\n",
    "        for arc in w_arcs for agent in agents\n",
    "    ),\n",
    "    GRB.MINIMIZE\n",
    ")"
   ]
  },
  {
   "cell_type": "markdown",
   "metadata": {},
   "source": [
    "Add constraints"
   ]
  },
  {
   "cell_type": "code",
   "execution_count": 7,
   "metadata": {},
   "outputs": [],
   "source": [
    "# 4) Flow constraints\n",
    "\n",
    "def compute_flow(X, node, w_arcs, agent):\n",
    "    \"\"\"Compute the flow in a given node for a particular agent\n",
    "\n",
    "    The flow is defined as the difference between outgoing and ingoing edges traversed by the agent in that node\n",
    "\n",
    "    Args:\n",
    "        X (gb.MVar): X decision variables of a MSPP or MSPP-PD\n",
    "        node (int): node under consideration\n",
    "        w_arcs (list): list of weighted arcs that represent the network instance\n",
    "        agent (Agent): the agent for which to compue the flow\n",
    "\n",
    "    Returns:\n",
    "        gb.MLinExpr: an expression for the computed flow \n",
    "    \"\"\"\n",
    "\n",
    "    flow_out = gb.quicksum(\n",
    "        X[arc.idx, agent.idx]\n",
    "        for arc in w_arcs if arc.i == node\n",
    "    )\n",
    "    flow_in = gb.quicksum(\n",
    "        X[arc.idx, agent.idx]\n",
    "        for arc in w_arcs if arc.j == node\n",
    "    )\n",
    "    return flow_out - flow_in\n",
    "\n",
    "\n",
    "for agent in agents:\n",
    "    for node in nodes:\n",
    "        if node == agent.source:\n",
    "            MSPP_pb.addConstr(compute_flow(X, node, w_arcs, agent) == 1)\n",
    "        elif node == agent.terminus:\n",
    "            MSPP_pb.addConstr(compute_flow(X, node, w_arcs, agent) == -1)\n",
    "        else:\n",
    "            MSPP_pb.addConstr(compute_flow(X, node, w_arcs, agent) == 0)\n"
   ]
  },
  {
   "cell_type": "markdown",
   "metadata": {},
   "source": [
    "Solve the problem"
   ]
  },
  {
   "cell_type": "code",
   "execution_count": 8,
   "metadata": {},
   "outputs": [
    {
     "name": "stdout",
     "output_type": "stream",
     "text": [
      "Gurobi Optimizer version 10.0.0 build v10.0.0rc2 (linux64)\n",
      "\n",
      "CPU model: Intel(R) Core(TM) i5-7200U CPU @ 2.50GHz, instruction set [SSE2|AVX|AVX2]\n",
      "Thread count: 2 physical cores, 2 logical processors, using up to 2 threads\n",
      "\n",
      "Optimize a model with 100 rows, 208 columns and 416 nonzeros\n",
      "Model fingerprint: 0x0dd877d3\n",
      "Variable types: 0 continuous, 208 integer (208 binary)\n",
      "Coefficient statistics:\n",
      "  Matrix range     [1e+00, 1e+00]\n",
      "  Objective range  [1e+00, 3e+00]\n",
      "  Bounds range     [1e+00, 1e+00]\n",
      "  RHS range        [1e+00, 1e+00]\n",
      "Found heuristic solution: objective 24.0000000\n",
      "Presolve removed 100 rows and 208 columns\n",
      "Presolve time: 0.00s\n",
      "Presolve: All rows and columns removed\n",
      "\n",
      "Explored 0 nodes (0 simplex iterations) in 0.08 seconds (0.00 work units)\n",
      "Thread count was 1 (of 2 available processors)\n",
      "\n",
      "Solution count 2: 16 24 \n",
      "\n",
      "Optimal solution found (tolerance 1.00e-04)\n",
      "Best objective 1.600000000000e+01, best bound 1.600000000000e+01, gap 0.0000%\n"
     ]
    }
   ],
   "source": [
    "MSPP_pb.optimize()"
   ]
  },
  {
   "cell_type": "markdown",
   "metadata": {},
   "source": [
    "## Report results\n",
    "\n",
    "In this section we report the results that we've obtained "
   ]
  },
  {
   "cell_type": "code",
   "execution_count": 9,
   "metadata": {},
   "outputs": [
    {
     "name": "stdout",
     "output_type": "stream",
     "text": [
      "Result of the optimization is:\n",
      "optimal\n"
     ]
    }
   ],
   "source": [
    "print(\"Result of the optimization is:\")\n",
    "if MSPP_pb.Status == 2:\n",
    "    print(\"optimal\")\n",
    "elif MSPP_pb.Status == 3:\n",
    "    print(\"infeasible\")\n",
    "elif MSPP_pb.Status == 5:\n",
    "    print(\"unbounded\")\n",
    "else:\n",
    "    print(\"Some other return status\")"
   ]
  },
  {
   "cell_type": "code",
   "execution_count": 10,
   "metadata": {},
   "outputs": [
    {
     "name": "stdout",
     "output_type": "stream",
     "text": [
      "Minimum distance covered is 16.0\n"
     ]
    }
   ],
   "source": [
    "print(f\"Minimum distance covered is {MSPP_pb.ObjVal}\")"
   ]
  },
  {
   "attachments": {},
   "cell_type": "markdown",
   "metadata": {},
   "source": [
    "And we also print the paths that each agent has to follow"
   ]
  },
  {
   "cell_type": "code",
   "execution_count": 11,
   "metadata": {},
   "outputs": [
    {
     "name": "stdout",
     "output_type": "stream",
     "text": [
      "Agent 0 will follow the path:\n",
      "0->6\t6->12\t12->16\t16->20\t\n",
      "Agent 1 will follow the path:\n",
      "2->7\t7->12\t12->17\t17->22\t\n",
      "Agent 2 will follow the path:\n",
      "3->7\t7->12\t12->17\t17->23\t\n",
      "Agent 3 will follow the path:\n",
      "4->8\t8->14\t14->18\t18->24\t\n"
     ]
    }
   ],
   "source": [
    "for agent in agents:\n",
    "    print(f\"Agent {agent.idx} will follow the path:\")\n",
    "    for arc in w_arcs:\n",
    "        if math.isclose(X.x[arc.idx, agent.idx], 1):\n",
    "            print(f\"{arc.i}->{arc.j}\", end=\"\\t\")\n",
    "    print()\n"
   ]
  },
  {
   "cell_type": "code",
   "execution_count": 12,
   "metadata": {},
   "outputs": [
    {
     "data": {
      "image/png": "[encoded data removed]",
      "text/plain": [
       "<Figure size 640x480 with 1 Axes>"
      ]
     },
     "metadata": {},
     "output_type": "display_data"
    }
   ],
   "source": [
    "dv.plot_solution(X.x, nodes_grid, w_arcs, agents)\n"
   ]
  },
  {
   "attachments": {},
   "cell_type": "markdown",
   "metadata": {},
   "source": [
    "Notice that the solution found, even if it is not the same as the one reported in Fig. 5 of the paper, is still optimal (total distance covered is 16) bcs solution to the MSPP is not unique as noticed in the paper\n",
    " "
   ]
  }
 ],
 "metadata": {
  "kernelspec": {
   "display_name": "math_opt2021",
   "language": "python",
   "name": "python3"
  },
  "language_info": {
   "codemirror_mode": {
    "name": "ipython",
    "version": 3
   },
   "file_extension": ".py",
   "mimetype": "text/x-python",
   "name": "python",
   "nbconvert_exporter": "python",
   "pygments_lexer": "ipython3",
   "version": "3.9.12"
  },
  "orig_nbformat": 4,
  "vscode": {
   "interpreter": {
    "hash": "815aa94ff997c317b35152adf27958c1441995c12fe806fd1ec102e81253708b"
   }
  }
 },
 "nbformat": 4,
 "nbformat_minor": 2
}
