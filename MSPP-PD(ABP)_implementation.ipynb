{
 "cells": [
  {
   "attachments": {},
   "cell_type": "markdown",
   "metadata": {},
   "source": [
    "# First MSSP-PD(ABP) example"
   ]
  },
  {
   "cell_type": "code",
   "execution_count": 14,
   "metadata": {},
   "outputs": [],
   "source": [
    "import gurobipy as gb\n",
    "from gurobipy import GRB\n",
    "import pandas as pd\n",
    "import numpy as np\n",
    "import math\n",
    "from collections import namedtuple"
   ]
  },
  {
   "cell_type": "markdown",
   "metadata": {},
   "source": [
    "## Manage datas"
   ]
  },
  {
   "cell_type": "markdown",
   "metadata": {},
   "source": [
    "Read the synthetic instance of Section 3.2"
   ]
  },
  {
   "cell_type": "code",
   "execution_count": 15,
   "metadata": {},
   "outputs": [],
   "source": [
    "nodes_number = 25\n",
    "agents_number = 4\n",
    "synthetic_5x5_df = pd.read_csv(\"data/d_it_ij_5x5_1it.csv\",\n",
    "                               header=0,\n",
    "                               names=[\"i\", \"j\", \"d_ij\"])\n",
    "\n",
    "# convert d_ij column into float\n",
    "# print(synthetic_5x5_df.dtypes)\n",
    "synthetic_5x5_df[\"d_ij\"] = synthetic_5x5_df[\"d_ij\"].str.replace(\n",
    "    \",\", \".\").astype(np.float64)\n",
    "# print(synthetic_5x5_df.dtypes)\n",
    "\n",
    "# counting network nodes starting from 0\n",
    "synthetic_5x5_df[[\"i\", \"j\"]] = synthetic_5x5_df[[\"i\", \"j\"]] - 1\n"
   ]
  },
  {
   "cell_type": "markdown",
   "metadata": {},
   "source": [
    "Set up datas that will be used to solve the problem"
   ]
  },
  {
   "cell_type": "code",
   "execution_count": 16,
   "metadata": {},
   "outputs": [],
   "source": [
    "Arc = namedtuple(\"Arc\", synthetic_5x5_df.columns)\n",
    "arcs = [Arc(*row) for row in synthetic_5x5_df.itertuples(index=False)]  # as List to avoid nusty bugs\n",
    "\n",
    "nodes = np.unique(np.concatenate((synthetic_5x5_df[\"i\"].to_numpy(),\n",
    "                              synthetic_5x5_df[\"j\"].to_numpy())))\n",
    "agent_sources = np.array([0, 2, 3, 4])\n",
    "agent_terminus = np.array([20, 22, 23, 24])\n",
    "\n",
    "agents = range(agents_number)\n",
    "# D = synthetic_5x5_df[\"d_ij\"].to_numpy()"
   ]
  },
  {
   "cell_type": "markdown",
   "metadata": {},
   "source": [
    "## Manage the problem"
   ]
  },
  {
   "cell_type": "markdown",
   "metadata": {},
   "source": [
    "Create the problem"
   ]
  },
  {
   "cell_type": "code",
   "execution_count": 17,
   "metadata": {},
   "outputs": [],
   "source": [
    "MSPP_PD_ABP_pb = gb.Model(\"First MSPP_PD_ABP_pb\")\n",
    "MSPP_PD_ABP_pb.setParam(\"OutputFlag\", 0)"
   ]
  },
  {
   "cell_type": "markdown",
   "metadata": {},
   "source": [
    "Define decision variables"
   ]
  },
  {
   "cell_type": "code",
   "execution_count": 18,
   "metadata": {},
   "outputs": [],
   "source": [
    "X_var_shape = len(nodes), len(nodes), agents_number\n",
    "Psi_var_shape = len(nodes), len(nodes)\n",
    "\n",
    "X = MSPP_PD_ABP_pb.addMVar(X_var_shape,\n",
    "                           vtype=GRB.BINARY,  # 5) Binary constraints\n",
    "                           name=\"k-th agent traverse arc (i,j)\")\n",
    "\n",
    "Psi = MSPP_PD_ABP_pb.addMVar(Psi_var_shape,\n",
    "                             vtype=GRB.BINARY,  # 8) Binary constraints\n",
    "                             name=\"more agents traverse arc (i,j)\")\n"
   ]
  },
  {
   "cell_type": "markdown",
   "metadata": {},
   "source": [
    "Define the objective function"
   ]
  },
  {
   "cell_type": "code",
   "execution_count": 19,
   "metadata": {},
   "outputs": [],
   "source": [
    "# 1-3) Objective function\n",
    "distance_objn = gb.quicksum(\n",
    "    arc.d_ij*X[arc.i, arc.j, k]\n",
    "        for arc in arcs for k in agents\n",
    ")\n",
    "penalties_objn = gb.quicksum(\n",
    "    Psi[arc.i, arc.j] for arc in arcs\n",
    ")\n",
    "\n",
    "\n",
    "MSPP_PD_ABP_pb.setObjectiveN(distance_objn, index=0, weight=0.5,\n",
    "name=\"Distance\")\n",
    "MSPP_PD_ABP_pb.setObjectiveN(penalties_objn, index=1, weight=0.5,\n",
    "name=\"Penalty\")\n",
    "\n",
    "\n",
    "MSPP_PD_ABP_pb.ModelSense = GRB.MINIMIZE"
   ]
  },
  {
   "cell_type": "markdown",
   "metadata": {},
   "source": [
    "Add constraints"
   ]
  },
  {
   "cell_type": "code",
   "execution_count": 20,
   "metadata": {},
   "outputs": [],
   "source": [
    "# 4) Flow constraints\n",
    "\n",
    "def compute_flow(X, node, arcs, agent):\n",
    "    flow_out = gb.quicksum(X[node, arc.j, agent] for arc in arcs if arc.i==node)\n",
    "    flow_in = gb.quicksum(X[arc.i, node, agent] for arc in arcs if arc.j==node)\n",
    "    return flow_out - flow_in\n",
    "\n",
    "\n",
    "for k in agents:\n",
    "    for i in nodes:\n",
    "        if i == agent_sources[k]:\n",
    "            MSPP_PD_ABP_pb.addConstr(compute_flow(X, i, arcs, k) == 1,\n",
    "            name=f\"Flow constr related to agent {k} in node {i}\")\n",
    "        elif i == agent_terminus[k]:\n",
    "            MSPP_PD_ABP_pb.addConstr(compute_flow(X, i, arcs, k) == -1,\n",
    "            name=f\"Flow constr related to agent {k} in node {i}\")\n",
    "        else:\n",
    "            MSPP_PD_ABP_pb.addConstr( compute_flow(X, i, arcs, k) == 0,\n",
    "            name=f\"Flow constr related to agent {k} in node {i}\")\n",
    "            "
   ]
  },
  {
   "cell_type": "code",
   "execution_count": 21,
   "metadata": {},
   "outputs": [],
   "source": [
    "# 7) Binary penalization constraints\n",
    "\n",
    "for arc in arcs:\n",
    "    MSPP_PD_ABP_pb.addConstr(\n",
    "        1/len(agents) * (gb.quicksum(X[arc.i, arc.j, k] for k in agents) - 1)\n",
    "        <= Psi[arc.i, arc.j]\n",
    "    ) "
   ]
  },
  {
   "cell_type": "markdown",
   "metadata": {},
   "source": [
    "Solve the problem"
   ]
  },
  {
   "cell_type": "code",
   "execution_count": 22,
   "metadata": {},
   "outputs": [],
   "source": [
    "MSPP_PD_ABP_pb.optimize()"
   ]
  },
  {
   "cell_type": "markdown",
   "metadata": {},
   "source": [
    "Report results"
   ]
  },
  {
   "cell_type": "code",
   "execution_count": 23,
   "metadata": {},
   "outputs": [
    {
     "name": "stdout",
     "output_type": "stream",
     "text": [
      "Result of the optimization is:\n",
      "optimal\n"
     ]
    }
   ],
   "source": [
    "print(\"Result of the optimization is:\")\n",
    "if MSPP_PD_ABP_pb.Status == 2:\n",
    "    print(\"optimal\")\n",
    "elif MSPP_PD_ABP_pb.Status == 3:\n",
    "    print(\"infeasible\")\n",
    "elif MSPP_PD_ABP_pb.Status == 5:\n",
    "    print(\"unbounded\")\n",
    "else:\n",
    "    print(\"Some other return status\")"
   ]
  },
  {
   "cell_type": "code",
   "execution_count": 24,
   "metadata": {},
   "outputs": [
    {
     "name": "stdout",
     "output_type": "stream",
     "text": [
      "The optimization founds 3 solutions:\n",
      "Solution 0: Distance=16.0 Penalty=1.0\n",
      "Agent 0 will follow the path:\n",
      "0->6\t6->12\t12->16\t16->20\t\n",
      "\n",
      "Agent 1 will follow the path:\n",
      "2->7\t7->12\t12->18\t18->22\t\n",
      "\n",
      "Agent 2 will follow the path:\n",
      "3->7\t7->12\t12->17\t17->23\t\n",
      "\n",
      "Agent 3 will follow the path:\n",
      "4->8\t8->14\t14->18\t18->24\t\n",
      "\n",
      "\n",
      "Solution 1: Distance=18.6 Penalty=0.0\n",
      "Agent 0 will follow the path:\n",
      "0->6\t6->12\t12->16\t16->20\t\n",
      "\n",
      "Agent 1 will follow the path:\n",
      "2->7\t7->12\t12->18\t18->22\t\n",
      "\n",
      "Agent 2 will follow the path:\n",
      "3->7\t7->12\t12->17\t17->23\t\n",
      "\n",
      "Agent 3 will follow the path:\n",
      "4->8\t8->14\t14->18\t18->24\t\n",
      "\n",
      "\n",
      "Solution 2: Distance=24.0 Penalty=0.0\n",
      "Agent 0 will follow the path:\n",
      "0->6\t6->12\t12->16\t16->20\t\n",
      "\n",
      "Agent 1 will follow the path:\n",
      "2->7\t7->12\t12->18\t18->22\t\n",
      "\n",
      "Agent 2 will follow the path:\n",
      "3->7\t7->12\t12->17\t17->23\t\n",
      "\n",
      "Agent 3 will follow the path:\n",
      "4->8\t8->14\t14->18\t18->24\t\n",
      "\n",
      "\n"
     ]
    }
   ],
   "source": [
    "n_objectives = MSPP_PD_ABP_pb.NumObj\n",
    "n_solutions = MSPP_PD_ABP_pb.SolCount\n",
    "\n",
    "print (f\"The optimization founds {n_solutions} solutions:\")\n",
    "for sol in range(n_solutions):\n",
    "    MSPP_PD_ABP_pb.params.SolutionNumber = sol\n",
    "\n",
    "    print(f\"Solution {sol}:\", end=\"\")\n",
    "    for obj in range(n_objectives):\n",
    "        MSPP_PD_ABP_pb.params.ObjNumber = obj\n",
    "        print(f\" {MSPP_PD_ABP_pb.ObjNName}={MSPP_PD_ABP_pb.ObjNVal}\", end=\"\")\n",
    "\n",
    "    print()\n",
    "\n",
    "    for k in agents:\n",
    "        print(f\"Agent {k} will follow the path:\")\n",
    "        for arc in arcs:\n",
    "            if math.isclose(X.X[arc.i, arc.j, k], 1):\n",
    "                print(f\"{arc.i}->{arc.j}\", end=\"\\t\")\n",
    "        print(\"\\n\")\n",
    "\n",
    "    print()\n",
    "\n",
    "#! In which sense Solution 2 is a pareto-opt solution??\n",
    "#TODO: UNDERSTAND IT!!"
   ]
  }
 ],
 "metadata": {
  "kernelspec": {
   "display_name": "math_opt2021",
   "language": "python",
   "name": "python3"
  },
  "language_info": {
   "codemirror_mode": {
    "name": "ipython",
    "version": 3
   },
   "file_extension": ".py",
   "mimetype": "text/x-python",
   "name": "python",
   "nbconvert_exporter": "python",
   "pygments_lexer": "ipython3",
   "version": "3.9.12"
  },
  "orig_nbformat": 4,
  "vscode": {
   "interpreter": {
    "hash": "815aa94ff997c317b35152adf27958c1441995c12fe806fd1ec102e81253708b"
   }
  }
 },
 "nbformat": 4,
 "nbformat_minor": 2
}
