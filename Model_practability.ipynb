{
 "cells": [
  {
   "cell_type": "code",
   "execution_count": 1,
   "metadata": {},
   "outputs": [],
   "source": [
    "import numpy as np\n",
    "import pandas as pd\n",
    "import matplotlib.pyplot as plt\n",
    "\n",
    "from gurobipy import GRB\n",
    "from utils import file_reader as fr\n",
    "from utils import data_generator as dg\n",
    "from utils import problem_model as pm\n"
   ]
  },
  {
   "attachments": {},
   "cell_type": "markdown",
   "metadata": {},
   "source": [
    "# Model practability"
   ]
  },
  {
   "attachments": {},
   "cell_type": "markdown",
   "metadata": {},
   "source": [
    "We now loook at at the practability, from a computational viewpoint, of the previous presented MSPP-PD models.  \n",
    "\n",
    "To do so we consider different combination of increasing larger network sizes and network congestion and then we examine the average time that each type of variant of MSPP-PD problem takes to be solved.  \n",
    "For this analysis we've examined 10 different network instances for each network-type and congestion-level combination.\n",
    "\n",
    "The networks that we analyze have the same topology of the networks used on the previous notebooks\n"
   ]
  },
  {
   "attachments": {},
   "cell_type": "markdown",
   "metadata": {},
   "source": [
    "## Read data\n",
    "\n",
    "We start by loading the network instances:  \n",
    "- For each network size $(m,n) \\in \\{(6,6), (8,8), (10,10), (12,12)\\}$ we load the dataframe that contains all the instaces for that type of network;\n",
    "- And then we append each dataframe to a list that will be used to define a dictionary that map each network type to its dataframe containing the instances\n"
   ]
  },
  {
   "cell_type": "code",
   "execution_count": 2,
   "metadata": {},
   "outputs": [
    {
     "data": {
      "text/html": [
       "<div>\n",
       "<style scoped>\n",
       "    .dataframe tbody tr th:only-of-type {\n",
       "        vertical-align: middle;\n",
       "    }\n",
       "\n",
       "    .dataframe tbody tr th {\n",
       "        vertical-align: top;\n",
       "    }\n",
       "\n",
       "    .dataframe thead tr th {\n",
       "        text-align: left;\n",
       "    }\n",
       "</style>\n",
       "<table border=\"1\" class=\"dataframe\">\n",
       "  <thead>\n",
       "    <tr>\n",
       "      <th></th>\n",
       "      <th colspan=\"2\" halign=\"left\">0</th>\n",
       "      <th colspan=\"3\" halign=\"left\">1</th>\n",
       "      <th colspan=\"3\" halign=\"left\">2</th>\n",
       "      <th colspan=\"2\" halign=\"left\">3</th>\n",
       "      <th>...</th>\n",
       "      <th colspan=\"2\" halign=\"left\">26</th>\n",
       "      <th colspan=\"3\" halign=\"left\">27</th>\n",
       "      <th colspan=\"3\" halign=\"left\">28</th>\n",
       "      <th colspan=\"2\" halign=\"left\">29</th>\n",
       "    </tr>\n",
       "    <tr>\n",
       "      <th></th>\n",
       "      <th>6</th>\n",
       "      <th>7</th>\n",
       "      <th>6</th>\n",
       "      <th>7</th>\n",
       "      <th>8</th>\n",
       "      <th>7</th>\n",
       "      <th>8</th>\n",
       "      <th>9</th>\n",
       "      <th>8</th>\n",
       "      <th>9</th>\n",
       "      <th>...</th>\n",
       "      <th>32</th>\n",
       "      <th>33</th>\n",
       "      <th>32</th>\n",
       "      <th>33</th>\n",
       "      <th>34</th>\n",
       "      <th>33</th>\n",
       "      <th>34</th>\n",
       "      <th>35</th>\n",
       "      <th>34</th>\n",
       "      <th>35</th>\n",
       "    </tr>\n",
       "  </thead>\n",
       "  <tbody>\n",
       "    <tr>\n",
       "      <th>it1</th>\n",
       "      <td>1.612014</td>\n",
       "      <td>1.281732</td>\n",
       "      <td>1.512410</td>\n",
       "      <td>1.612053</td>\n",
       "      <td>0.495080</td>\n",
       "      <td>1.633618</td>\n",
       "      <td>0.282487</td>\n",
       "      <td>1.570645</td>\n",
       "      <td>0.398975</td>\n",
       "      <td>0.890572</td>\n",
       "      <td>...</td>\n",
       "      <td>0.491645</td>\n",
       "      <td>1.860557</td>\n",
       "      <td>0.792445</td>\n",
       "      <td>0.644937</td>\n",
       "      <td>0.296105</td>\n",
       "      <td>1.470566</td>\n",
       "      <td>1.336894</td>\n",
       "      <td>1.595893</td>\n",
       "      <td>0.273600</td>\n",
       "      <td>1.416396</td>\n",
       "    </tr>\n",
       "    <tr>\n",
       "      <th>it2</th>\n",
       "      <td>0.345666</td>\n",
       "      <td>1.549119</td>\n",
       "      <td>1.935411</td>\n",
       "      <td>1.664691</td>\n",
       "      <td>1.150243</td>\n",
       "      <td>1.346757</td>\n",
       "      <td>0.790995</td>\n",
       "      <td>0.558598</td>\n",
       "      <td>1.677854</td>\n",
       "      <td>0.874843</td>\n",
       "      <td>...</td>\n",
       "      <td>1.001069</td>\n",
       "      <td>0.476828</td>\n",
       "      <td>0.640806</td>\n",
       "      <td>1.368508</td>\n",
       "      <td>0.503312</td>\n",
       "      <td>0.577109</td>\n",
       "      <td>1.779668</td>\n",
       "      <td>1.729859</td>\n",
       "      <td>0.117643</td>\n",
       "      <td>0.830738</td>\n",
       "    </tr>\n",
       "    <tr>\n",
       "      <th>it3</th>\n",
       "      <td>1.059043</td>\n",
       "      <td>0.470901</td>\n",
       "      <td>0.397252</td>\n",
       "      <td>0.210863</td>\n",
       "      <td>0.720249</td>\n",
       "      <td>0.926994</td>\n",
       "      <td>1.987635</td>\n",
       "      <td>0.360284</td>\n",
       "      <td>0.508765</td>\n",
       "      <td>1.101995</td>\n",
       "      <td>...</td>\n",
       "      <td>1.213463</td>\n",
       "      <td>1.572754</td>\n",
       "      <td>1.330204</td>\n",
       "      <td>0.851481</td>\n",
       "      <td>1.894534</td>\n",
       "      <td>1.456438</td>\n",
       "      <td>1.425572</td>\n",
       "      <td>1.092434</td>\n",
       "      <td>1.438385</td>\n",
       "      <td>0.934447</td>\n",
       "    </tr>\n",
       "    <tr>\n",
       "      <th>it4</th>\n",
       "      <td>0.297746</td>\n",
       "      <td>1.561490</td>\n",
       "      <td>0.480028</td>\n",
       "      <td>0.058043</td>\n",
       "      <td>1.032561</td>\n",
       "      <td>1.155090</td>\n",
       "      <td>0.997398</td>\n",
       "      <td>0.577482</td>\n",
       "      <td>1.140927</td>\n",
       "      <td>0.833327</td>\n",
       "      <td>...</td>\n",
       "      <td>0.279092</td>\n",
       "      <td>1.068302</td>\n",
       "      <td>1.286386</td>\n",
       "      <td>0.255251</td>\n",
       "      <td>0.459456</td>\n",
       "      <td>1.479642</td>\n",
       "      <td>1.490551</td>\n",
       "      <td>0.335991</td>\n",
       "      <td>1.382244</td>\n",
       "      <td>1.578896</td>\n",
       "    </tr>\n",
       "    <tr>\n",
       "      <th>it5</th>\n",
       "      <td>1.296527</td>\n",
       "      <td>0.536009</td>\n",
       "      <td>0.439805</td>\n",
       "      <td>0.458544</td>\n",
       "      <td>1.420302</td>\n",
       "      <td>0.178641</td>\n",
       "      <td>0.108120</td>\n",
       "      <td>0.772551</td>\n",
       "      <td>1.102323</td>\n",
       "      <td>0.592525</td>\n",
       "      <td>...</td>\n",
       "      <td>0.652133</td>\n",
       "      <td>0.808668</td>\n",
       "      <td>1.197061</td>\n",
       "      <td>0.794697</td>\n",
       "      <td>0.263786</td>\n",
       "      <td>1.622354</td>\n",
       "      <td>1.549742</td>\n",
       "      <td>1.855342</td>\n",
       "      <td>0.732395</td>\n",
       "      <td>0.670513</td>\n",
       "    </tr>\n",
       "  </tbody>\n",
       "</table>\n",
       "<p>5 rows × 80 columns</p>\n",
       "</div>"
      ],
      "text/plain": [
       "           0                   1                             2             \\\n",
       "           6         7         6         7         8         7         8    \n",
       "it1  1.612014  1.281732  1.512410  1.612053  0.495080  1.633618  0.282487   \n",
       "it2  0.345666  1.549119  1.935411  1.664691  1.150243  1.346757  0.790995   \n",
       "it3  1.059043  0.470901  0.397252  0.210863  0.720249  0.926994  1.987635   \n",
       "it4  0.297746  1.561490  0.480028  0.058043  1.032561  1.155090  0.997398   \n",
       "it5  1.296527  0.536009  0.439805  0.458544  1.420302  0.178641  0.108120   \n",
       "\n",
       "                     3             ...        26                  27  \\\n",
       "           9         8         9   ...        32        33        32   \n",
       "it1  1.570645  0.398975  0.890572  ...  0.491645  1.860557  0.792445   \n",
       "it2  0.558598  1.677854  0.874843  ...  1.001069  0.476828  0.640806   \n",
       "it3  0.360284  0.508765  1.101995  ...  1.213463  1.572754  1.330204   \n",
       "it4  0.577482  1.140927  0.833327  ...  0.279092  1.068302  1.286386   \n",
       "it5  0.772551  1.102323  0.592525  ...  0.652133  0.808668  1.197061   \n",
       "\n",
       "                               28                            29            \n",
       "           33        34        33        34        35        34        35  \n",
       "it1  0.644937  0.296105  1.470566  1.336894  1.595893  0.273600  1.416396  \n",
       "it2  1.368508  0.503312  0.577109  1.779668  1.729859  0.117643  0.830738  \n",
       "it3  0.851481  1.894534  1.456438  1.425572  1.092434  1.438385  0.934447  \n",
       "it4  0.255251  0.459456  1.479642  1.490551  0.335991  1.382244  1.578896  \n",
       "it5  0.794697  0.263786  1.622354  1.549742  1.855342  0.732395  0.670513  \n",
       "\n",
       "[5 rows x 80 columns]"
      ]
     },
     "execution_count": 2,
     "metadata": {},
     "output_type": "execute_result"
    }
   ],
   "source": [
    "network_types = [\"6x6\", \"8x8\", \"10x10\", \"12x12\"]\n",
    "idx_of_network_type = dict(zip(network_types, range(len(network_types))))\n",
    "network_dfs = []\n",
    "\n",
    "for network_type in network_types:\n",
    "    network_filename = f\"data/d_it_ij_{network_type}_10it.csv\"\n",
    "    network_dfs.append(fr.read_networks_csv(network_filename,\n",
    "                                            along=\"cols\"))\n",
    "\n",
    "network_type_to_its_df = dict(zip(network_types, network_dfs))\n",
    "\n",
    "# an example of 5 instances from a network dataframe\n",
    "network_type_to_its_df[\"6x6\"].head()\n"
   ]
  },
  {
   "attachments": {},
   "cell_type": "markdown",
   "metadata": {},
   "source": [
    "## Manage datas\n",
    "\n",
    "Here we define variables that will be used in the analysis\n"
   ]
  },
  {
   "attachments": {},
   "cell_type": "markdown",
   "metadata": {},
   "source": [
    "Since to analyze all combination for 10 instances takes too long on our machine, we'll run the analysis on a subset of network instances\n"
   ]
  },
  {
   "cell_type": "code",
   "execution_count": 3,
   "metadata": {},
   "outputs": [],
   "source": [
    "num_instances = 5\n"
   ]
  },
  {
   "cell_type": "markdown",
   "metadata": {},
   "source": [
    "Define the different MSPP-PD variants and the different level of network congestions to test"
   ]
  },
  {
   "cell_type": "code",
   "execution_count": 4,
   "metadata": {},
   "outputs": [],
   "source": [
    "problem_types = [\"ABP\", \"NBP\", \"ALP\", \"NLP\", \"AQP\", \"NQP\"]\n",
    "idx_of_pb_type = dict(zip(problem_types, range(len(problem_types))))\n",
    "\n",
    "\n",
    "congestion_levels = [0.5, 1, 1.5, 2]\n",
    "idx_of_congestion_lvl = dict(zip(congestion_levels, range(len(congestion_levels))))\n"
   ]
  },
  {
   "attachments": {},
   "cell_type": "markdown",
   "metadata": {},
   "source": [
    "As done in section 3.4 of the paper we limit the run time for solving the problems to 10min and we take note of those not solved within the time limit\n"
   ]
  },
  {
   "cell_type": "code",
   "execution_count": 5,
   "metadata": {},
   "outputs": [],
   "source": [
    "time_limit = 10 * 60  # (s)\n",
    "\n",
    "# store the problems convergence time for each case\n",
    "convergence_times_shape = (len(network_types),      # each network type\n",
    "                           num_instances,           # has a number of different instances\n",
    "                           len(problem_types),      # and we'll solve a MSPP-PD variant\n",
    "                           len(congestion_levels))  # for different number of agents in the network\n",
    "convergence_times = np.full(convergence_times_shape, fill_value=np.nan)\n",
    "\n",
    "\n",
    "# store the number of problems that did not converge within the time limit\n",
    "# for each (network_type, problem_type, congestion level) case\n",
    "num_of_unsolved_problems_shape = (len(network_type),\n",
    "                                  len(problem_types),\n",
    "                                  len(congestion_levels))\n",
    "num_of_unsolved_problems = np.zeros(num_of_unsolved_problems_shape, dtype=int)\n"
   ]
  },
  {
   "attachments": {},
   "cell_type": "markdown",
   "metadata": {},
   "source": [
    "## Solve problems\n",
    "\n",
    "Solve each combination and compute its comvergence time\n"
   ]
  },
  {
   "cell_type": "code",
   "execution_count": null,
   "metadata": {},
   "outputs": [],
   "source": [
    "# skip this cell if you want to use pre-computed results\n",
    "\n",
    "for network_type in network_types:\n",
    "\n",
    "     # subset of instances to test\n",
    "     networks_df = network_type_to_its_df[network_type].head(num_instances)\n",
    "     \n",
    "     networks_shape = [int(i) for i in network_type.split(\"x\")]\n",
    "     network_nodes = dg.get_nodes(networks_df)\n",
    "\n",
    "     for it_i, network_arcs in enumerate(dg.network_instances(networks_df)):\n",
    "\n",
    "          print(f\"Testing instance {it_i} of {network_type} networks...\")\n",
    "\n",
    "          for pb_type in problem_types:\n",
    "               \n",
    "               for congestion_lvl in congestion_levels:\n",
    "\n",
    "                    # define the agents that has to be routed as explained in section 3.3 of the paper\n",
    "                    num_of_agents = int(networks_shape[0] * congestion_lvl)\n",
    "                    agents = dg.generate_agents(networks_shape, num_of_agents)\n",
    "\n",
    "                    pb, x, *_ = pm.set_problem(pb_type, network_nodes, network_arcs, agents)\n",
    "                    pb.Params.TimeLimit = time_limit\n",
    "                    pb.optimize()\n",
    "\n",
    "                    if pb.status == GRB.OPTIMAL:\n",
    "                         convergence_times[idx_of_network_type[network_type],\n",
    "                                           it_i,\n",
    "                                           idx_of_pb_type[pb_type],\n",
    "                                           idx_of_congestion_lvl[congestion_lvl]] = pb.runtime\n",
    "                    elif pb.status == GRB.TIME_LIMIT:\n",
    "                         convergence_times[idx_of_network_type[network_type],\n",
    "                                           it_i,\n",
    "                                           idx_of_pb_type[pb_type],\n",
    "                                           idx_of_congestion_lvl[congestion_lvl]] = pb.runtime\n",
    "                         \n",
    "                         print(f\"A {pb_type} problem exceeded the time limit on a {network_type} network with {len(agents)} agents.\")\n",
    "                         num_of_unsolved_problems[idx_of_network_type[network_type],\n",
    "                                                  idx_of_pb_type[pb_type],\n",
    "                                                  idx_of_congestion_lvl[congestion_lvl]] += 1\n",
    "                    else:\n",
    "                         raise Exception(f\"AAA: A {pb_type} problem on a {network_type} network with {len(agents)} agents encounterd problems\")\n",
    "                    "
   ]
  },
  {
   "attachments": {},
   "cell_type": "markdown",
   "metadata": {},
   "source": [
    "If desired we can store results in order to avoid waiting for computations each time we run the notebook"
   ]
  },
  {
   "cell_type": "code",
   "execution_count": null,
   "metadata": {},
   "outputs": [],
   "source": [
    "# np.save(\n",
    "#     f\"results/models_convergence_times_{num_instances}.npy\", convergence_times)\n",
    "\n",
    "# np.save(\n",
    "#     f\"results/num_of_unsolved_problems_{num_instances}.npy\", num_of_unsolved_problems)\n"
   ]
  },
  {
   "attachments": {},
   "cell_type": "markdown",
   "metadata": {},
   "source": [
    "## Final statistic\n",
    "\n",
    "In the following we report the average convergence time (s) for MSPP-PD model variants' for different network sizes and congestion levels\n"
   ]
  },
  {
   "cell_type": "markdown",
   "metadata": {},
   "source": [
    "If wanted we can load the stored results and rely on them\n"
   ]
  },
  {
   "cell_type": "code",
   "execution_count": 6,
   "metadata": {},
   "outputs": [],
   "source": [
    "convergence_times = np.load(\n",
    "    f\"results/models_convergence_times_{num_instances}.npy\")\n",
    "\n",
    "num_of_unsolved_problems = np.load(\n",
    "    f\"results/num_of_unsolved_problems_{num_instances}.npy\")\n"
   ]
  },
  {
   "attachments": {},
   "cell_type": "markdown",
   "metadata": {},
   "source": [
    "Print the results (along rows we have the variant of the model and along columns we have the different congestion levels)\n"
   ]
  },
  {
   "cell_type": "code",
   "execution_count": 7,
   "metadata": {},
   "outputs": [
    {
     "name": "stdout",
     "output_type": "stream",
     "text": [
      "Average convercenge times for 6x6 networks:\n",
      "          0.5       1.0       1.5       2.0\n",
      "ABP  0.011531  0.015546  0.220229  0.651739\n",
      "NBP  0.007235  0.052239  0.124851  0.293900\n",
      "ALP  0.008476  0.010300  0.015116  0.022482\n",
      "NLP  0.005819  0.015743  0.055010  0.063636\n",
      "AQP  0.007360  0.025161  0.353151  2.878807\n",
      "NQP  0.011718  0.050938  0.902835  9.369259\n",
      "\n",
      "Average convercenge times for 8x8 networks:\n",
      "          0.5       1.0        1.5         2.0\n",
      "ABP  0.013265  0.043556   1.797845    8.458114\n",
      "NBP  0.058450  1.175745   0.480468    4.086706\n",
      "ALP  0.010696  0.023081   0.038662    0.056559\n",
      "NLP  0.037971  0.234689   0.380421    0.522053\n",
      "AQP  0.029858  0.109738   4.720424   34.743172\n",
      "NQP  0.063392  0.906801  20.830824  420.861859\n",
      "\n",
      "Average convercenge times for 10x10 networks:\n",
      "          0.5        1.0         1.5         2.0\n",
      "ABP  0.096985   0.694881   10.053558  103.570176\n",
      "NBP  0.253508   5.684336   15.564477   22.536368\n",
      "ALP  0.023549   0.039071    0.082137    0.135093\n",
      "NLP  0.071816   2.254453    5.956575    6.594834\n",
      "AQP  0.098561   0.931177   19.705908  353.211344\n",
      "NQP  0.268019  11.394347  535.811086  600.072402\n",
      "\n",
      "Average convercenge times for 12x12 networks:\n",
      "          0.5        1.0         1.5         2.0\n",
      "ABP  0.219554   6.501023   67.715715  294.700129\n",
      "NBP  4.276056  18.085787   20.092958   49.455128\n",
      "ALP  0.044529   0.069126    0.179249    0.405795\n",
      "NLP  1.068842  49.837437  497.733077  446.392319\n",
      "AQP  0.288235   7.199872  193.745951  600.244452\n",
      "NQP  1.441032  72.959061  600.052096  600.085133\n",
      "\n"
     ]
    }
   ],
   "source": [
    "avg_convergence_times = np.nanmean(convergence_times, axis=1)\n",
    "\n",
    "for network_type in network_types:\n",
    "    network_avg_convergence_time = avg_convergence_times[idx_of_network_type[network_type], :, :]\n",
    "    network_avg_convergence_time_df = pd.DataFrame(network_avg_convergence_time,\n",
    "                                                   columns=congestion_levels,\n",
    "                                                   index=problem_types)\n",
    "    print(f\"Average convercenge times for {network_type} networks:\")\n",
    "    print(network_avg_convergence_time_df)\n",
    "    print()\n"
   ]
  },
  {
   "attachments": {},
   "cell_type": "markdown",
   "metadata": {},
   "source": [
    "And visualize the results, to compare the average convergence times \n"
   ]
  },
  {
   "cell_type": "code",
   "execution_count": 8,
   "metadata": {},
   "outputs": [
    {
     "data": {
      "image/png": "[encoded data removed]",
      "text/plain": [
       "<Figure size 640x480 with 12 Axes>"
      ]
     },
     "metadata": {},
     "output_type": "display_data"
    }
   ],
   "source": [
    "def chunks(lst, n):\n",
    "    \"\"\"Yield successive n-sized chunks from lst.\n",
    "    \n",
    "    Args:\n",
    "        lst (list): list that has to be read in chunks\n",
    "        n (int): number of list's items that will be present on a single chunk\n",
    "    \"\"\"\n",
    "    for i in range(0, len(lst), n):\n",
    "        yield lst[i:i + n]\n",
    "\n",
    "\n",
    "fig, axs = plt.subplots(4, 3, layout=\"constrained\")\n",
    "\n",
    "for row, network_type in enumerate(network_types):\n",
    "    for col, (arc_pb, node_pb) in enumerate(chunks(problem_types,2)):\n",
    "        \n",
    "        arc_pb_times = avg_convergence_times[idx_of_network_type[network_type],\n",
    "                                        idx_of_pb_type[arc_pb],\n",
    "                                        :]\n",
    "        \n",
    "        node_pb_times = avg_convergence_times[idx_of_network_type[network_type],\n",
    "                                        idx_of_pb_type[node_pb],\n",
    "                                        :]\n",
    "\n",
    "        axs[row,col].plot(congestion_levels, arc_pb_times, label=\"Arc\")\n",
    "        axs[row,col].plot(congestion_levels, node_pb_times, label=\"Node\")\n",
    "\n",
    "        # avg convergence times are computed just for certain congestion levels\n",
    "        axs[row,col].xaxis.set_ticks(congestion_levels)  # set plots' x-axis\n",
    "        \n",
    "        plt.setp(axs[-1, col], xlabel=f\"{arc_pb} vs {node_pb}\")\n",
    "    \n",
    "    plt.setp(axs[row, 0], ylabel=f\"{network_type}\")\n",
    "\n",
    "# common axis labels\n",
    "fig.supxlabel('Congestion level')\n",
    "fig.supylabel('Convergence time')    \n",
    "\n",
    "handles, labels = axs[row,col].get_legend_handles_labels()\n",
    "fig.legend(handles, labels, title=\"Penalty framework\", bbox_to_anchor=(1.25, 1))\n",
    "\n",
    "plt.show()"
   ]
  },
  {
   "cell_type": "code",
   "execution_count": 9,
   "metadata": {},
   "outputs": [
    {
     "name": "stdout",
     "output_type": "stream",
     "text": [
      "Number of unsolved problems within the 600s time limit for 6x6 networks:\n",
      "     0.5  1.0  1.5  2.0\n",
      "ABP    0    0    0    0\n",
      "NBP    0    0    0    0\n",
      "ALP    0    0    0    0\n",
      "NLP    0    0    0    0\n",
      "AQP    0    0    0    0\n",
      "NQP    0    0    0    0\n",
      "\n",
      "Number of unsolved problems within the 600s time limit for 8x8 networks:\n",
      "     0.5  1.0  1.5  2.0\n",
      "ABP    0    0    0    0\n",
      "NBP    0    0    0    0\n",
      "ALP    0    0    0    0\n",
      "NLP    0    0    0    0\n",
      "AQP    0    0    0    0\n",
      "NQP    0    0    0    3\n",
      "\n",
      "Number of unsolved problems within the 600s time limit for 10x10 networks:\n",
      "     0.5  1.0  1.5  2.0\n",
      "ABP    0    0    0    0\n",
      "NBP    0    0    0    0\n",
      "ALP    0    0    0    0\n",
      "NLP    0    0    0    0\n",
      "AQP    0    0    0    2\n",
      "NQP    0    0    4    5\n",
      "\n",
      "Number of unsolved problems within the 600s time limit for 12x12 networks:\n",
      "     0.5  1.0  1.5  2.0\n",
      "ABP    0    0    0    2\n",
      "NBP    0    0    0    0\n",
      "ALP    0    0    0    0\n",
      "NLP    0    0    3    3\n",
      "AQP    0    0    1    5\n",
      "NQP    0    0    5    5\n",
      "\n"
     ]
    }
   ],
   "source": [
    "for network_type in network_types:\n",
    "    unsolved_problems_df = pd.DataFrame(num_of_unsolved_problems[idx_of_network_type[network_type], :, :],\n",
    "                                        columns=congestion_levels,\n",
    "                                        index=problem_types)\n",
    "    print(\n",
    "        f\"Number of unsolved problems within the {time_limit}s time limit for {network_type} networks:\")\n",
    "    print(unsolved_problems_df)\n",
    "    print()\n"
   ]
  },
  {
   "attachments": {},
   "cell_type": "markdown",
   "metadata": {},
   "source": [
    "As can be seen from the results above both network size and number of agents to route, generally, combine to increse the time to convergence for all MSPP-PD model variants.  \n",
    "We can also notice that the only 2 formulations that converge for all instances were MSPP-PD(NBP) and MSPP-PD(ALP), but more in general, except for the binary framework, we can state that the arc-specific penalty metrics converge faster than their node counterparts (glaring is the case of the $12 \\times 12$ network where the MSPP-PD(ALP) variant can outperform by 3 orders of magnitude its node counterpart).\n"
   ]
  }
 ],
 "metadata": {
  "kernelspec": {
   "display_name": "math_opt2021",
   "language": "python",
   "name": "python3"
  },
  "language_info": {
   "codemirror_mode": {
    "name": "ipython",
    "version": 3
   },
   "file_extension": ".py",
   "mimetype": "text/x-python",
   "name": "python",
   "nbconvert_exporter": "python",
   "pygments_lexer": "ipython3",
   "version": "3.9.12"
  },
  "orig_nbformat": 4
 },
 "nbformat": 4,
 "nbformat_minor": 2
}
