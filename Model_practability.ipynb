{
 "cells": [
  {
   "cell_type": "code",
   "execution_count": 1,
   "metadata": {},
   "outputs": [],
   "source": [
    "import numpy as np\n",
    "import pandas as pd\n",
    "\n",
    "from gurobipy import GRB\n",
    "from utils import file_reader as fr\n",
    "from utils import data_generator as dg\n",
    "from utils import problem_model as pm\n"
   ]
  },
  {
   "attachments": {},
   "cell_type": "markdown",
   "metadata": {},
   "source": [
    "# Model practability"
   ]
  },
  {
   "attachments": {},
   "cell_type": "markdown",
   "metadata": {},
   "source": [
    "We now loook at at the practability, from a computational viewpoint, of the previous presented MSPP-PD models.  \n",
    "\n",
    "To do so we consider different combination of increasing larger network sizes and network congestion and then we examine the average time that each type of variant of MSPP-PD problem takes to be solved.  \n",
    "For this analysis we've examined 10 different network instances for each network-type and congestion-level combination.\n",
    "\n",
    "The networks that we analyze have the same topology of the networks used on the previous notebooks\n"
   ]
  },
  {
   "attachments": {},
   "cell_type": "markdown",
   "metadata": {},
   "source": [
    "## Read data\n",
    "\n",
    "We start by loading the network instances:  \n",
    "- For each network size $(m,n) \\in \\{(6,6), (8,8), (10,10), (12,12)\\}$ we load the dataframe that contains all the instaces for that type of network;\n",
    "- And then we append each dataframe to a list that will be used to define a dictionary that map each network type to its dataframe containing the instances\n"
   ]
  },
  {
   "cell_type": "code",
   "execution_count": 2,
   "metadata": {},
   "outputs": [
    {
     "data": {
      "text/html": [
       "<div>\n",
       "<style scoped>\n",
       "    .dataframe tbody tr th:only-of-type {\n",
       "        vertical-align: middle;\n",
       "    }\n",
       "\n",
       "    .dataframe tbody tr th {\n",
       "        vertical-align: top;\n",
       "    }\n",
       "\n",
       "    .dataframe thead tr th {\n",
       "        text-align: left;\n",
       "    }\n",
       "</style>\n",
       "<table border=\"1\" class=\"dataframe\">\n",
       "  <thead>\n",
       "    <tr>\n",
       "      <th></th>\n",
       "      <th colspan=\"2\" halign=\"left\">0</th>\n",
       "      <th colspan=\"3\" halign=\"left\">1</th>\n",
       "      <th colspan=\"3\" halign=\"left\">2</th>\n",
       "      <th colspan=\"2\" halign=\"left\">3</th>\n",
       "      <th>...</th>\n",
       "      <th colspan=\"2\" halign=\"left\">26</th>\n",
       "      <th colspan=\"3\" halign=\"left\">27</th>\n",
       "      <th colspan=\"3\" halign=\"left\">28</th>\n",
       "      <th colspan=\"2\" halign=\"left\">29</th>\n",
       "    </tr>\n",
       "    <tr>\n",
       "      <th></th>\n",
       "      <th>6</th>\n",
       "      <th>7</th>\n",
       "      <th>6</th>\n",
       "      <th>7</th>\n",
       "      <th>8</th>\n",
       "      <th>7</th>\n",
       "      <th>8</th>\n",
       "      <th>9</th>\n",
       "      <th>8</th>\n",
       "      <th>9</th>\n",
       "      <th>...</th>\n",
       "      <th>32</th>\n",
       "      <th>33</th>\n",
       "      <th>32</th>\n",
       "      <th>33</th>\n",
       "      <th>34</th>\n",
       "      <th>33</th>\n",
       "      <th>34</th>\n",
       "      <th>35</th>\n",
       "      <th>34</th>\n",
       "      <th>35</th>\n",
       "    </tr>\n",
       "  </thead>\n",
       "  <tbody>\n",
       "    <tr>\n",
       "      <th>it1</th>\n",
       "      <td>1.612014</td>\n",
       "      <td>1.281732</td>\n",
       "      <td>1.512410</td>\n",
       "      <td>1.612053</td>\n",
       "      <td>0.495080</td>\n",
       "      <td>1.633618</td>\n",
       "      <td>0.282487</td>\n",
       "      <td>1.570645</td>\n",
       "      <td>0.398975</td>\n",
       "      <td>0.890572</td>\n",
       "      <td>...</td>\n",
       "      <td>0.491645</td>\n",
       "      <td>1.860557</td>\n",
       "      <td>0.792445</td>\n",
       "      <td>0.644937</td>\n",
       "      <td>0.296105</td>\n",
       "      <td>1.470566</td>\n",
       "      <td>1.336894</td>\n",
       "      <td>1.595893</td>\n",
       "      <td>0.273600</td>\n",
       "      <td>1.416396</td>\n",
       "    </tr>\n",
       "    <tr>\n",
       "      <th>it2</th>\n",
       "      <td>0.345666</td>\n",
       "      <td>1.549119</td>\n",
       "      <td>1.935411</td>\n",
       "      <td>1.664691</td>\n",
       "      <td>1.150243</td>\n",
       "      <td>1.346757</td>\n",
       "      <td>0.790995</td>\n",
       "      <td>0.558598</td>\n",
       "      <td>1.677854</td>\n",
       "      <td>0.874843</td>\n",
       "      <td>...</td>\n",
       "      <td>1.001069</td>\n",
       "      <td>0.476828</td>\n",
       "      <td>0.640806</td>\n",
       "      <td>1.368508</td>\n",
       "      <td>0.503312</td>\n",
       "      <td>0.577109</td>\n",
       "      <td>1.779668</td>\n",
       "      <td>1.729859</td>\n",
       "      <td>0.117643</td>\n",
       "      <td>0.830738</td>\n",
       "    </tr>\n",
       "    <tr>\n",
       "      <th>it3</th>\n",
       "      <td>1.059043</td>\n",
       "      <td>0.470901</td>\n",
       "      <td>0.397252</td>\n",
       "      <td>0.210863</td>\n",
       "      <td>0.720249</td>\n",
       "      <td>0.926994</td>\n",
       "      <td>1.987635</td>\n",
       "      <td>0.360284</td>\n",
       "      <td>0.508765</td>\n",
       "      <td>1.101995</td>\n",
       "      <td>...</td>\n",
       "      <td>1.213463</td>\n",
       "      <td>1.572754</td>\n",
       "      <td>1.330204</td>\n",
       "      <td>0.851481</td>\n",
       "      <td>1.894534</td>\n",
       "      <td>1.456438</td>\n",
       "      <td>1.425572</td>\n",
       "      <td>1.092434</td>\n",
       "      <td>1.438385</td>\n",
       "      <td>0.934447</td>\n",
       "    </tr>\n",
       "    <tr>\n",
       "      <th>it4</th>\n",
       "      <td>0.297746</td>\n",
       "      <td>1.561490</td>\n",
       "      <td>0.480028</td>\n",
       "      <td>0.058043</td>\n",
       "      <td>1.032561</td>\n",
       "      <td>1.155090</td>\n",
       "      <td>0.997398</td>\n",
       "      <td>0.577482</td>\n",
       "      <td>1.140927</td>\n",
       "      <td>0.833327</td>\n",
       "      <td>...</td>\n",
       "      <td>0.279092</td>\n",
       "      <td>1.068302</td>\n",
       "      <td>1.286386</td>\n",
       "      <td>0.255251</td>\n",
       "      <td>0.459456</td>\n",
       "      <td>1.479642</td>\n",
       "      <td>1.490551</td>\n",
       "      <td>0.335991</td>\n",
       "      <td>1.382244</td>\n",
       "      <td>1.578896</td>\n",
       "    </tr>\n",
       "    <tr>\n",
       "      <th>it5</th>\n",
       "      <td>1.296527</td>\n",
       "      <td>0.536009</td>\n",
       "      <td>0.439805</td>\n",
       "      <td>0.458544</td>\n",
       "      <td>1.420302</td>\n",
       "      <td>0.178641</td>\n",
       "      <td>0.108120</td>\n",
       "      <td>0.772551</td>\n",
       "      <td>1.102323</td>\n",
       "      <td>0.592525</td>\n",
       "      <td>...</td>\n",
       "      <td>0.652133</td>\n",
       "      <td>0.808668</td>\n",
       "      <td>1.197061</td>\n",
       "      <td>0.794697</td>\n",
       "      <td>0.263786</td>\n",
       "      <td>1.622354</td>\n",
       "      <td>1.549742</td>\n",
       "      <td>1.855342</td>\n",
       "      <td>0.732395</td>\n",
       "      <td>0.670513</td>\n",
       "    </tr>\n",
       "  </tbody>\n",
       "</table>\n",
       "<p>5 rows × 80 columns</p>\n",
       "</div>"
      ],
      "text/plain": [
       "           0                   1                             2             \\\n",
       "           6         7         6         7         8         7         8    \n",
       "it1  1.612014  1.281732  1.512410  1.612053  0.495080  1.633618  0.282487   \n",
       "it2  0.345666  1.549119  1.935411  1.664691  1.150243  1.346757  0.790995   \n",
       "it3  1.059043  0.470901  0.397252  0.210863  0.720249  0.926994  1.987635   \n",
       "it4  0.297746  1.561490  0.480028  0.058043  1.032561  1.155090  0.997398   \n",
       "it5  1.296527  0.536009  0.439805  0.458544  1.420302  0.178641  0.108120   \n",
       "\n",
       "                     3             ...        26                  27  \\\n",
       "           9         8         9   ...        32        33        32   \n",
       "it1  1.570645  0.398975  0.890572  ...  0.491645  1.860557  0.792445   \n",
       "it2  0.558598  1.677854  0.874843  ...  1.001069  0.476828  0.640806   \n",
       "it3  0.360284  0.508765  1.101995  ...  1.213463  1.572754  1.330204   \n",
       "it4  0.577482  1.140927  0.833327  ...  0.279092  1.068302  1.286386   \n",
       "it5  0.772551  1.102323  0.592525  ...  0.652133  0.808668  1.197061   \n",
       "\n",
       "                               28                            29            \n",
       "           33        34        33        34        35        34        35  \n",
       "it1  0.644937  0.296105  1.470566  1.336894  1.595893  0.273600  1.416396  \n",
       "it2  1.368508  0.503312  0.577109  1.779668  1.729859  0.117643  0.830738  \n",
       "it3  0.851481  1.894534  1.456438  1.425572  1.092434  1.438385  0.934447  \n",
       "it4  0.255251  0.459456  1.479642  1.490551  0.335991  1.382244  1.578896  \n",
       "it5  0.794697  0.263786  1.622354  1.549742  1.855342  0.732395  0.670513  \n",
       "\n",
       "[5 rows x 80 columns]"
      ]
     },
     "execution_count": 2,
     "metadata": {},
     "output_type": "execute_result"
    }
   ],
   "source": [
    "network_types = [\"6x6\", \"8x8\", \"10x10\", \"12x12\"]\n",
    "idx_of_network_type = dict(zip(network_types, range(len(network_types))))\n",
    "network_dfs = []\n",
    "\n",
    "for network_type in network_types:\n",
    "    network_filename = f\"data/d_it_ij_{network_type}_10it.csv\"\n",
    "    network_dfs.append(fr.read_networks_csv(network_filename,\n",
    "                                            along=\"cols\"))\n",
    "\n",
    "network_type_to_its_df = dict(zip(network_types, network_dfs))\n",
    "\n",
    "# an example of 5 instances from a network dataframe\n",
    "network_type_to_its_df[\"6x6\"].head()\n"
   ]
  },
  {
   "attachments": {},
   "cell_type": "markdown",
   "metadata": {},
   "source": [
    "## Manage datas\n",
    "\n",
    "Here we define variables that will be used in the analysis\n"
   ]
  },
  {
   "attachments": {},
   "cell_type": "markdown",
   "metadata": {},
   "source": [
    "Since to analyze all combination for 10 instances takes too long on our machine, we'll run the analysis on a subset of network instances\n"
   ]
  },
  {
   "cell_type": "code",
   "execution_count": 3,
   "metadata": {},
   "outputs": [],
   "source": [
    "num_instances = 1\n"
   ]
  },
  {
   "cell_type": "markdown",
   "metadata": {},
   "source": [
    "Define the different MSPP-PD variants and the different level of network congestions to test"
   ]
  },
  {
   "cell_type": "code",
   "execution_count": 4,
   "metadata": {},
   "outputs": [],
   "source": [
    "problem_types = [\"ABP\", \"NBP\", \"ALP\", \"NLP\", \"AQP\", \"NQP\"]\n",
    "# problem_types = [\"MSPP\", \"ABP\"]\n",
    "idx_of_pb_type = dict(zip(problem_types, range(len(problem_types))))\n",
    "\n",
    "\n",
    "congestion_levels = [0.5, 1, 1.5, 2]\n",
    "# congestion_levels = [0.5, 1]\n",
    "idx_of_congestion_lvl = dict(zip(congestion_levels, range(len(congestion_levels))))\n"
   ]
  },
  {
   "attachments": {},
   "cell_type": "markdown",
   "metadata": {},
   "source": [
    "As done in section 3.4 of the paper we limit the run time for solving the problems to 10min and we discard those not solved within the time limit on the computation of the average convergence times\n"
   ]
  },
  {
   "cell_type": "code",
   "execution_count": 5,
   "metadata": {},
   "outputs": [],
   "source": [
    "time_limit = 10 * 60  # (s)\n",
    "\n",
    "# store the problems convergence time for each case\n",
    "convergence_times_shape = (len(network_types),      # each network type\n",
    "                           num_instances,           # has a number of different instances\n",
    "                           len(problem_types),      # and we'll solve a MSPP-PD variant\n",
    "                           len(congestion_levels))  # for different number of agents in the network\n",
    "convergence_times = np.full(convergence_times_shape, fill_value=np.nan)\n",
    "\n",
    "\n",
    "# store the number of problems that did not converge within the time limit\n",
    "# for each (network_type, problem_type, congestion level) case\n",
    "num_of_unsolved_problems_shape = (len(network_type),\n",
    "                                  len(problem_types),\n",
    "                                  len(congestion_levels))\n",
    "num_of_unsolved_problems = np.zeros(num_of_unsolved_problems_shape, dtype=int)\n"
   ]
  },
  {
   "attachments": {},
   "cell_type": "markdown",
   "metadata": {},
   "source": [
    "## Solve problems\n",
    "\n",
    "Solve each combination and compute its comvergence time\n"
   ]
  },
  {
   "cell_type": "code",
   "execution_count": 6,
   "metadata": {},
   "outputs": [
    {
     "name": "stdout",
     "output_type": "stream",
     "text": [
      "Testing instance 0 of 6x6 networks...\n",
      "Set parameter Username\n",
      "Academic license - for non-commercial use only - expires 2023-12-10\n",
      "Testing instance 0 of 8x8 networks...\n",
      "A NQP problem exceeded the time limit on a 8x8 network with 16 agents.\n",
      "Testing instance 0 of 10x10 networks...\n",
      "A NQP problem exceeded the time limit on a 10x10 network with 15 agents.\n",
      "A NQP problem exceeded the time limit on a 10x10 network with 20 agents.\n",
      "Testing instance 0 of 12x12 networks...\n",
      "A ABP problem exceeded the time limit on a 12x12 network with 24 agents.\n",
      "A AQP problem exceeded the time limit on a 12x12 network with 18 agents.\n",
      "A AQP problem exceeded the time limit on a 12x12 network with 24 agents.\n",
      "A NQP problem exceeded the time limit on a 12x12 network with 18 agents.\n",
      "A NQP problem exceeded the time limit on a 12x12 network with 24 agents.\n"
     ]
    }
   ],
   "source": [
    "# skip this cell if you want to use pre-computed results\n",
    "\n",
    "for network_type in network_types:\n",
    "\n",
    "     # subset of instances to test\n",
    "     networks_df = network_type_to_its_df[network_type].head(num_instances)\n",
    "     \n",
    "     networks_shape = [int(i) for i in network_type.split(\"x\")]\n",
    "     network_nodes = dg.get_nodes(networks_df)\n",
    "\n",
    "     for it_i, network_arcs in enumerate(dg.network_instances(networks_df)):\n",
    "\n",
    "          print(f\"Testing instance {it_i} of {network_type} networks...\")\n",
    "\n",
    "          for pb_type in problem_types:\n",
    "               \n",
    "               for congestion_lvl in congestion_levels:\n",
    "\n",
    "                    # define the agents that has to be routed as explained in section 3.3 of the paper\n",
    "                    num_of_agents = int(networks_shape[0] * congestion_lvl)\n",
    "                    agents = dg.generate_agents(networks_shape, num_of_agents)\n",
    "\n",
    "                    pb, X, *_ = pm.set_problem(pb_type, network_nodes, network_arcs, agents)\n",
    "                    pb.Params.TimeLimit = time_limit\n",
    "                    pb.optimize()\n",
    "\n",
    "                    if pb.status == GRB.OPTIMAL:\n",
    "                         convergence_times[idx_of_network_type[network_type],\n",
    "                                           it_i,\n",
    "                                           idx_of_pb_type[pb_type],\n",
    "                                           idx_of_congestion_lvl[congestion_lvl]] = pb.runtime\n",
    "                    elif pb.status == GRB.TIME_LIMIT:\n",
    "                         print(f\"A {pb_type} problem exceeded the time limit on a {network_type} network with {len(agents)} agents.\")\n",
    "                         num_of_unsolved_problems[idx_of_network_type[network_type],\n",
    "                                                  idx_of_pb_type[pb_type],\n",
    "                                                  idx_of_congestion_lvl[congestion_lvl]] += 1\n",
    "                    else:\n",
    "                         raise Exception(f\"AAA: A {pb_type} problem on a {network_type} network with {len(agents)} agents encounterd problems\")\n",
    "                    "
   ]
  },
  {
   "attachments": {},
   "cell_type": "markdown",
   "metadata": {},
   "source": [
    "If desired we can store results in order to avoid waiting for computations each time we run the notebook"
   ]
  },
  {
   "cell_type": "code",
   "execution_count": 7,
   "metadata": {},
   "outputs": [],
   "source": [
    "np.save(\n",
    "    f\"results/models_convergence_times_{num_instances}.npy\", convergence_times)\n",
    "\n",
    "np.save(\n",
    "    f\"results/num_of_unsolved_problems_{num_instances}.npy\", num_of_unsolved_problems)\n"
   ]
  },
  {
   "attachments": {},
   "cell_type": "markdown",
   "metadata": {},
   "source": [
    "## Final statistic\n",
    "\n",
    "In the following we report the average convergence time (s) for MSPP-PD model variants' for different network sizes and congestion levels\n"
   ]
  },
  {
   "cell_type": "markdown",
   "metadata": {},
   "source": [
    "If wanted we can load the stored results and rely on them\n"
   ]
  },
  {
   "cell_type": "code",
   "execution_count": 8,
   "metadata": {},
   "outputs": [],
   "source": [
    "convergence_times = np.load(\n",
    "    f\"results/models_convergence_times_{num_instances}.npy\")\n",
    "\n",
    "num_of_unsolved_problems = np.load(\n",
    "    f\"results/num_of_unsolved_problems_{num_instances}.npy\")\n"
   ]
  },
  {
   "attachments": {},
   "cell_type": "markdown",
   "metadata": {},
   "source": [
    "Print the results (along rows we have the variant of the model and along columns we have the different congestion levels)\n"
   ]
  },
  {
   "cell_type": "code",
   "execution_count": 9,
   "metadata": {},
   "outputs": [
    {
     "name": "stdout",
     "output_type": "stream",
     "text": [
      "Average convercenge time for 6x6 networks:\n",
      "          0.5       1.0       1.5        2.0\n",
      "ABP  0.004698  0.020321  0.324629   0.554723\n",
      "NBP  0.002859  0.003706  0.004299   0.003644\n",
      "ALP  0.008180  0.010549  0.023679   0.018848\n",
      "NLP  0.002153  0.003024  0.004755   0.004406\n",
      "AQP  0.006896  0.033871  0.694734   4.427801\n",
      "NQP  0.023416  0.133504  2.433583  18.958089\n",
      "\n",
      "Average convercenge time for 8x8 networks:\n",
      "          0.5       1.0        1.5        2.0\n",
      "ABP  0.052067  0.042450   0.973095  39.221349\n",
      "NBP  0.005192  0.007830   0.011000   0.017323\n",
      "ALP  0.010335  0.023274   0.098387   0.059316\n",
      "NLP  0.004038  0.009495   0.012848   0.013848\n",
      "AQP  0.045645  0.146467   2.848193  51.043316\n",
      "NQP  0.037002  0.841962  23.779119        NaN\n",
      "\n",
      "Average convercenge time for 10x10 networks:\n",
      "          0.5        1.0        1.5         2.0\n",
      "ABP  0.090898   0.812043   0.987703   29.670085\n",
      "NBP  0.008649   0.018892   0.022510    0.030467\n",
      "ALP  0.051531   0.057698   0.095512    0.154666\n",
      "NLP  0.011752   0.019624   0.115162    0.037086\n",
      "AQP  0.093964   1.772000  20.204955  150.979533\n",
      "NQP  0.322834  12.382272        NaN         NaN\n",
      "\n",
      "Average convercenge time for 12x12 networks:\n",
      "          0.5         1.0         1.5       2.0\n",
      "ABP  0.221524   11.568889  169.931805       NaN\n",
      "NBP  0.015287    0.027117    0.044967  0.053620\n",
      "ALP  0.058894    0.094893    0.207982  0.435209\n",
      "NLP  0.015871    0.069164    0.046880  0.064165\n",
      "AQP  0.373606    5.842588         NaN       NaN\n",
      "NQP  2.491377  122.429070         NaN       NaN\n",
      "\n"
     ]
    },
    {
     "name": "stderr",
     "output_type": "stream",
     "text": [
      "/tmp/ipykernel_9235/2613777039.py:1: RuntimeWarning: Mean of empty slice\n",
      "  avg_convergence_times = np.nanmean(convergence_times, axis=1)\n"
     ]
    }
   ],
   "source": [
    "avg_convergence_times = np.nanmean(convergence_times, axis=1)\n",
    "\n",
    "for network_type in network_types:\n",
    "    network_avg_convergence_time = avg_convergence_times[idx_of_network_type[network_type], :, :]\n",
    "    network_avg_convergence_time_df = pd.DataFrame(network_avg_convergence_time,\n",
    "                                                   columns=congestion_levels,\n",
    "                                                   index=problem_types)\n",
    "    print(f\"Average convercenge time for {network_type} networks:\")\n",
    "    print(network_avg_convergence_time_df)\n",
    "    print()\n"
   ]
  },
  {
   "cell_type": "code",
   "execution_count": 10,
   "metadata": {},
   "outputs": [
    {
     "name": "stdout",
     "output_type": "stream",
     "text": [
      "Number of unsolved problems within the 600s time limit for 6x6 networks:\n",
      "     0.5  1.0  1.5  2.0\n",
      "ABP    0    0    0    0\n",
      "NBP    0    0    0    0\n",
      "ALP    0    0    0    0\n",
      "NLP    0    0    0    0\n",
      "AQP    0    0    0    0\n",
      "NQP    0    0    0    0\n",
      "\n",
      "Number of unsolved problems within the 600s time limit for 8x8 networks:\n",
      "     0.5  1.0  1.5  2.0\n",
      "ABP    0    0    0    0\n",
      "NBP    0    0    0    0\n",
      "ALP    0    0    0    0\n",
      "NLP    0    0    0    0\n",
      "AQP    0    0    0    0\n",
      "NQP    0    0    0    1\n",
      "\n",
      "Number of unsolved problems within the 600s time limit for 10x10 networks:\n",
      "     0.5  1.0  1.5  2.0\n",
      "ABP    0    0    0    0\n",
      "NBP    0    0    0    0\n",
      "ALP    0    0    0    0\n",
      "NLP    0    0    0    0\n",
      "AQP    0    0    0    0\n",
      "NQP    0    0    1    1\n",
      "\n",
      "Number of unsolved problems within the 600s time limit for 12x12 networks:\n",
      "     0.5  1.0  1.5  2.0\n",
      "ABP    0    0    0    1\n",
      "NBP    0    0    0    0\n",
      "ALP    0    0    0    0\n",
      "NLP    0    0    0    0\n",
      "AQP    0    0    1    1\n",
      "NQP    0    0    1    1\n",
      "\n"
     ]
    }
   ],
   "source": [
    "for network_type in network_types:\n",
    "    unsolved_problems_df = pd.DataFrame(num_of_unsolved_problems[idx_of_network_type[network_type], :, :],\n",
    "                                        columns=congestion_levels,\n",
    "                                        index=problem_types)\n",
    "    print(\n",
    "        f\"Number of unsolved problems within the {time_limit}s time limit for {network_type} networks:\")\n",
    "    print(unsolved_problems_df)\n",
    "    print()\n"
   ]
  },
  {
   "cell_type": "code",
   "execution_count": 11,
   "metadata": {},
   "outputs": [],
   "source": [
    "# TODO: eventually add some consideration about results once you've done all the final computation\n"
   ]
  }
 ],
 "metadata": {
  "kernelspec": {
   "display_name": "math_opt2021",
   "language": "python",
   "name": "python3"
  },
  "language_info": {
   "codemirror_mode": {
    "name": "ipython",
    "version": 3
   },
   "file_extension": ".py",
   "mimetype": "text/x-python",
   "name": "python",
   "nbconvert_exporter": "python",
   "pygments_lexer": "ipython3",
   "version": "3.9.12"
  },
  "orig_nbformat": 4
 },
 "nbformat": 4,
 "nbformat_minor": 2
}
