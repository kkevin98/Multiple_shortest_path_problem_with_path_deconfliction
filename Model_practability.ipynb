{
 "cells": [
  {
   "attachments": {},
   "cell_type": "markdown",
   "metadata": {},
   "source": [
    "# Model practability"
   ]
  },
  {
   "attachments": {},
   "cell_type": "markdown",
   "metadata": {},
   "source": [
    "We now loook at at the practability of the previous presented MSPP-PD models.  \n",
    "\n",
    "To do so we consider different combination of increasing larger network sizes ad network congestion and then we examine the average time that each problem model takes to be solved.  "
   ]
  },
  {
   "cell_type": "code",
   "execution_count": 1,
   "metadata": {},
   "outputs": [],
   "source": [
    "import gurobipy as gb\n",
    "from gurobipy import GRB\n",
    "import pandas as pd\n",
    "import numpy as np\n",
    "\n",
    "from utils import data_readers as dr\n",
    "from utils import problem_models as pm"
   ]
  },
  {
   "attachments": {},
   "cell_type": "markdown",
   "metadata": {},
   "source": [
    "## Read datas"
   ]
  },
  {
   "attachments": {},
   "cell_type": "markdown",
   "metadata": {},
   "source": [
    "We start by loading the network instances:  \n",
    "- For each network topology (6x6, 8x8, 10x10, 12x12) we load the dataframe that contains all the instaces for that type of network;\n",
    "- And then we append each dataframe to a list."
   ]
  },
  {
   "cell_type": "code",
   "execution_count": 20,
   "metadata": {},
   "outputs": [
    {
     "data": {
      "text/html": [
       "<div>\n",
       "<style scoped>\n",
       "    .dataframe tbody tr th:only-of-type {\n",
       "        vertical-align: middle;\n",
       "    }\n",
       "\n",
       "    .dataframe tbody tr th {\n",
       "        vertical-align: top;\n",
       "    }\n",
       "\n",
       "    .dataframe thead tr th {\n",
       "        text-align: left;\n",
       "    }\n",
       "</style>\n",
       "<table border=\"1\" class=\"dataframe\">\n",
       "  <thead>\n",
       "    <tr>\n",
       "      <th></th>\n",
       "      <th colspan=\"2\" halign=\"left\">0</th>\n",
       "      <th colspan=\"3\" halign=\"left\">1</th>\n",
       "      <th colspan=\"3\" halign=\"left\">2</th>\n",
       "      <th colspan=\"2\" halign=\"left\">3</th>\n",
       "      <th>...</th>\n",
       "      <th colspan=\"2\" halign=\"left\">26</th>\n",
       "      <th colspan=\"3\" halign=\"left\">27</th>\n",
       "      <th colspan=\"3\" halign=\"left\">28</th>\n",
       "      <th colspan=\"2\" halign=\"left\">29</th>\n",
       "    </tr>\n",
       "    <tr>\n",
       "      <th></th>\n",
       "      <th>6</th>\n",
       "      <th>7</th>\n",
       "      <th>6</th>\n",
       "      <th>7</th>\n",
       "      <th>8</th>\n",
       "      <th>7</th>\n",
       "      <th>8</th>\n",
       "      <th>9</th>\n",
       "      <th>8</th>\n",
       "      <th>9</th>\n",
       "      <th>...</th>\n",
       "      <th>32</th>\n",
       "      <th>33</th>\n",
       "      <th>32</th>\n",
       "      <th>33</th>\n",
       "      <th>34</th>\n",
       "      <th>33</th>\n",
       "      <th>34</th>\n",
       "      <th>35</th>\n",
       "      <th>34</th>\n",
       "      <th>35</th>\n",
       "    </tr>\n",
       "  </thead>\n",
       "  <tbody>\n",
       "    <tr>\n",
       "      <th>it1</th>\n",
       "      <td>1.612014</td>\n",
       "      <td>1.281732</td>\n",
       "      <td>1.512410</td>\n",
       "      <td>1.612053</td>\n",
       "      <td>0.495080</td>\n",
       "      <td>1.633618</td>\n",
       "      <td>0.282487</td>\n",
       "      <td>1.570645</td>\n",
       "      <td>0.398975</td>\n",
       "      <td>0.890572</td>\n",
       "      <td>...</td>\n",
       "      <td>0.491645</td>\n",
       "      <td>1.860557</td>\n",
       "      <td>0.792445</td>\n",
       "      <td>0.644937</td>\n",
       "      <td>0.296105</td>\n",
       "      <td>1.470566</td>\n",
       "      <td>1.336894</td>\n",
       "      <td>1.595893</td>\n",
       "      <td>0.273600</td>\n",
       "      <td>1.416396</td>\n",
       "    </tr>\n",
       "    <tr>\n",
       "      <th>it2</th>\n",
       "      <td>0.345666</td>\n",
       "      <td>1.549119</td>\n",
       "      <td>1.935411</td>\n",
       "      <td>1.664691</td>\n",
       "      <td>1.150243</td>\n",
       "      <td>1.346757</td>\n",
       "      <td>0.790995</td>\n",
       "      <td>0.558598</td>\n",
       "      <td>1.677854</td>\n",
       "      <td>0.874843</td>\n",
       "      <td>...</td>\n",
       "      <td>1.001069</td>\n",
       "      <td>0.476828</td>\n",
       "      <td>0.640806</td>\n",
       "      <td>1.368508</td>\n",
       "      <td>0.503312</td>\n",
       "      <td>0.577109</td>\n",
       "      <td>1.779668</td>\n",
       "      <td>1.729859</td>\n",
       "      <td>0.117643</td>\n",
       "      <td>0.830738</td>\n",
       "    </tr>\n",
       "    <tr>\n",
       "      <th>it3</th>\n",
       "      <td>1.059043</td>\n",
       "      <td>0.470901</td>\n",
       "      <td>0.397252</td>\n",
       "      <td>0.210863</td>\n",
       "      <td>0.720249</td>\n",
       "      <td>0.926994</td>\n",
       "      <td>1.987635</td>\n",
       "      <td>0.360284</td>\n",
       "      <td>0.508765</td>\n",
       "      <td>1.101995</td>\n",
       "      <td>...</td>\n",
       "      <td>1.213463</td>\n",
       "      <td>1.572754</td>\n",
       "      <td>1.330204</td>\n",
       "      <td>0.851481</td>\n",
       "      <td>1.894534</td>\n",
       "      <td>1.456438</td>\n",
       "      <td>1.425572</td>\n",
       "      <td>1.092434</td>\n",
       "      <td>1.438385</td>\n",
       "      <td>0.934447</td>\n",
       "    </tr>\n",
       "    <tr>\n",
       "      <th>it4</th>\n",
       "      <td>0.297746</td>\n",
       "      <td>1.561490</td>\n",
       "      <td>0.480028</td>\n",
       "      <td>0.058043</td>\n",
       "      <td>1.032561</td>\n",
       "      <td>1.155090</td>\n",
       "      <td>0.997398</td>\n",
       "      <td>0.577482</td>\n",
       "      <td>1.140927</td>\n",
       "      <td>0.833327</td>\n",
       "      <td>...</td>\n",
       "      <td>0.279092</td>\n",
       "      <td>1.068302</td>\n",
       "      <td>1.286386</td>\n",
       "      <td>0.255251</td>\n",
       "      <td>0.459456</td>\n",
       "      <td>1.479642</td>\n",
       "      <td>1.490551</td>\n",
       "      <td>0.335991</td>\n",
       "      <td>1.382244</td>\n",
       "      <td>1.578896</td>\n",
       "    </tr>\n",
       "    <tr>\n",
       "      <th>it5</th>\n",
       "      <td>1.296527</td>\n",
       "      <td>0.536009</td>\n",
       "      <td>0.439805</td>\n",
       "      <td>0.458544</td>\n",
       "      <td>1.420302</td>\n",
       "      <td>0.178641</td>\n",
       "      <td>0.108120</td>\n",
       "      <td>0.772551</td>\n",
       "      <td>1.102323</td>\n",
       "      <td>0.592525</td>\n",
       "      <td>...</td>\n",
       "      <td>0.652133</td>\n",
       "      <td>0.808668</td>\n",
       "      <td>1.197061</td>\n",
       "      <td>0.794697</td>\n",
       "      <td>0.263786</td>\n",
       "      <td>1.622354</td>\n",
       "      <td>1.549742</td>\n",
       "      <td>1.855342</td>\n",
       "      <td>0.732395</td>\n",
       "      <td>0.670513</td>\n",
       "    </tr>\n",
       "  </tbody>\n",
       "</table>\n",
       "<p>5 rows × 80 columns</p>\n",
       "</div>"
      ],
      "text/plain": [
       "           0                   1                             2             \\\n",
       "           6         7         6         7         8         7         8    \n",
       "it1  1.612014  1.281732  1.512410  1.612053  0.495080  1.633618  0.282487   \n",
       "it2  0.345666  1.549119  1.935411  1.664691  1.150243  1.346757  0.790995   \n",
       "it3  1.059043  0.470901  0.397252  0.210863  0.720249  0.926994  1.987635   \n",
       "it4  0.297746  1.561490  0.480028  0.058043  1.032561  1.155090  0.997398   \n",
       "it5  1.296527  0.536009  0.439805  0.458544  1.420302  0.178641  0.108120   \n",
       "\n",
       "                     3             ...        26                  27  \\\n",
       "           9         8         9   ...        32        33        32   \n",
       "it1  1.570645  0.398975  0.890572  ...  0.491645  1.860557  0.792445   \n",
       "it2  0.558598  1.677854  0.874843  ...  1.001069  0.476828  0.640806   \n",
       "it3  0.360284  0.508765  1.101995  ...  1.213463  1.572754  1.330204   \n",
       "it4  0.577482  1.140927  0.833327  ...  0.279092  1.068302  1.286386   \n",
       "it5  0.772551  1.102323  0.592525  ...  0.652133  0.808668  1.197061   \n",
       "\n",
       "                               28                            29            \n",
       "           33        34        33        34        35        34        35  \n",
       "it1  0.644937  0.296105  1.470566  1.336894  1.595893  0.273600  1.416396  \n",
       "it2  1.368508  0.503312  0.577109  1.779668  1.729859  0.117643  0.830738  \n",
       "it3  0.851481  1.894534  1.456438  1.425572  1.092434  1.438385  0.934447  \n",
       "it4  0.255251  0.459456  1.479642  1.490551  0.335991  1.382244  1.578896  \n",
       "it5  0.794697  0.263786  1.622354  1.549742  1.855342  0.732395  0.670513  \n",
       "\n",
       "[5 rows x 80 columns]"
      ]
     },
     "execution_count": 20,
     "metadata": {},
     "output_type": "execute_result"
    }
   ],
   "source": [
    "network_types = [\"6x6\", \"8x8\", \"10x10\", \"12x12\"]\n",
    "idx_of_network_type = dict(zip(network_types, range(len(network_types))))\n",
    "network_dfs = []\n",
    "\n",
    "for network_type in network_types:\n",
    "    network_filename = f\"data/d_it_ij_{network_type}_10it.csv\"\n",
    "    network_dfs.append(dr.read_networks_csv(network_filename,\n",
    "                                            along=\"cols\"))\n",
    "\n",
    "network_type_to_its_df = dict(zip(network_types, network_dfs))\n",
    "\n",
    "# an example\n",
    "network_dfs[0].head()"
   ]
  },
  {
   "attachments": {},
   "cell_type": "markdown",
   "metadata": {},
   "source": [
    "## Manage datas"
   ]
  },
  {
   "cell_type": "markdown",
   "metadata": {},
   "source": [
    "Here we define other variables that will be used in the practability analysis "
   ]
  },
  {
   "cell_type": "code",
   "execution_count": 3,
   "metadata": {},
   "outputs": [],
   "source": [
    "num_istances = 5\n",
    "\n",
    "# problem_types = [\"MSPP\",\"ABP\", \"NBP\", \"ALP\", \"NLP\", \"AQP\", \"NQP\"]\n",
    "problem_types = [\"MSPP\", \"ABP\"]\n",
    "idx_of_pb_type = dict(zip(problem_types, range(len(problem_types))))\n",
    "\n",
    "\n",
    "# congestion_levels = [0.5, 1, 1.5, 2]\n",
    "congestion_levels = [0.5, 1]\n",
    "idx_of_congestion_lvl = dict(zip(congestion_levels, range(len(congestion_levels))))\n",
    "\n",
    "\n",
    "time_limit = 10 * 60  # (s)\n",
    "convergence_times_shape = (len(network_types),  # each network type\n",
    "                           num_istances,       # has a number of different instances \n",
    "                           len(problem_types), # and we'll solve ...\n",
    "                           len(congestion_levels)\n",
    "                           )\n",
    "convergence_times = np.full(convergence_times_shape, fill_value=np.nan)\n",
    "\n",
    "# TODO: consider num_of_networks that does not converge"
   ]
  },
  {
   "cell_type": "markdown",
   "metadata": {},
   "source": [
    "## Solve each case"
   ]
  },
  {
   "cell_type": "code",
   "execution_count": null,
   "metadata": {},
   "outputs": [],
   "source": [
    "# Skip this cell if you want to use pre-computed results\n",
    "\n",
    "for network_type in network_types:\n",
    "\n",
    "     networks_df = network_type_to_its_df[network_type]\n",
    "     networks_shape = [int(i) for i in network_type.split(\"x\")]\n",
    "     network_nodes = pm.get_nodes(networks_df)\n",
    "\n",
    "     for it_i, network_arcs in enumerate(pm.network_instances(networks_df.head(num_istances))):\n",
    "\n",
    "          for pb_type in problem_types:\n",
    "               \n",
    "               for congestion_lvl in congestion_levels:\n",
    "\n",
    "                    agents = pm.generate_agents(networks_shape, congestion_lvl)\n",
    "\n",
    "                    pb, X, *_ = pm.set_problem(pb_type, network_nodes, network_arcs, agents)\n",
    "                    pb.Params.TimeLimit = time_limit\n",
    "                    pb.optimize()\n",
    "\n",
    "                    if pb.status == GRB.OPTIMAL:\n",
    "                         convergence_times[idx_of_network_type[network_type],\n",
    "                                           it_i,\n",
    "                                           idx_of_pb_type[pb_type],\n",
    "                                           idx_of_congestion_lvl[congestion_lvl]] = pb.runtime\n",
    "                    elif pb.status == GRB.TIME_LIMIT:\n",
    "                         print(f\"A {pb_type} problem exceeded the time limit on a {network_type} network with {len(agents)} agents.\")\n",
    "                    else:\n",
    "                         # TODO: print some error or throw exception\n",
    "                         pass"
   ]
  },
  {
   "attachments": {},
   "cell_type": "markdown",
   "metadata": {},
   "source": [
    "If desired we can store results in order to avoid waiting for computations each time we run the notebook"
   ]
  },
  {
   "cell_type": "code",
   "execution_count": 24,
   "metadata": {},
   "outputs": [],
   "source": [
    "np.save(\"results/models_convergence_times.npy\", convergence_times)"
   ]
  },
  {
   "attachments": {},
   "cell_type": "markdown",
   "metadata": {},
   "source": [
    "## Final statistic\n",
    "\n",
    "In the following we report the average convergence time (s) for MSPP-PD model variants' for different network sizes and congestion levels."
   ]
  },
  {
   "attachments": {},
   "cell_type": "markdown",
   "metadata": {},
   "source": [
    "Load the results obtained from previous chapter "
   ]
  },
  {
   "cell_type": "code",
   "execution_count": 26,
   "metadata": {},
   "outputs": [],
   "source": [
    "convergence_times = np.load(\"results/models_convergence_times.npy\")"
   ]
  },
  {
   "attachments": {},
   "cell_type": "markdown",
   "metadata": {},
   "source": [
    "And print the results (along rows we have the variant of the model and along columns we have the different congestion levels) "
   ]
  },
  {
   "cell_type": "code",
   "execution_count": 27,
   "metadata": {},
   "outputs": [
    {
     "name": "stdout",
     "output_type": "stream",
     "text": [
      "Average convercenge time for 6x6 networks:\n",
      "           0.5       1.0\n",
      "MSPP  0.001487  0.003064\n",
      "ABP   0.005520  0.013042\n",
      "\n",
      "Average convercenge time for 8x8 networks:\n",
      "           0.5       1.0\n",
      "MSPP  0.003748  0.006777\n",
      "ABP   0.014749  0.052971\n",
      "\n",
      "Average convercenge time for 10x10 networks:\n",
      "           0.5       1.0\n",
      "MSPP  0.007403  0.013063\n",
      "ABP   0.080461  0.645724\n",
      "\n",
      "Average convercenge time for 12x12 networks:\n",
      "           0.5       1.0\n",
      "MSPP  0.014038  0.027263\n",
      "ABP   0.210606  6.089673\n",
      "\n"
     ]
    }
   ],
   "source": [
    "avg_convergence_times = np.nanmean(convergence_times, axis=1)\n",
    "\n",
    "for network_type in network_types:\n",
    "    network_avg_convergence_time = avg_convergence_times[idx_of_network_type[network_type], :, :]\n",
    "    network_avg_convergence_time_df = pd.DataFrame(network_avg_convergence_time,\n",
    "                                                   columns=congestion_levels,\n",
    "                                                   index=problem_types)\n",
    "    print(f\"Average convercenge time for {network_type} networks:\")\n",
    "    print(network_avg_convergence_time_df)\n",
    "    print()"
   ]
  }
 ],
 "metadata": {
  "kernelspec": {
   "display_name": "math_opt2021",
   "language": "python",
   "name": "python3"
  },
  "language_info": {
   "codemirror_mode": {
    "name": "ipython",
    "version": 3
   },
   "file_extension": ".py",
   "mimetype": "text/x-python",
   "name": "python",
   "nbconvert_exporter": "python",
   "pygments_lexer": "ipython3",
   "version": "3.9.12"
  },
  "orig_nbformat": 4
 },
 "nbformat": 4,
 "nbformat_minor": 2
}
